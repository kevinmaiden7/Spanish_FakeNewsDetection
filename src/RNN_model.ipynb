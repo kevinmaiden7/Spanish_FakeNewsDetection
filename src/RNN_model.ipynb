{
 "cells": [
  {
   "cell_type": "code",
   "execution_count": 47,
   "metadata": {},
   "outputs": [],
   "source": [
    "import numpy as np\n",
    "import pandas as pd\n",
    "from sklearn.model_selection import GridSearchCV\n",
    "from sklearn.model_selection import ShuffleSplit\n",
    "from sklearn.model_selection import train_test_split\n",
    "from sklearn.metrics import accuracy_score\n",
    "\n",
    "from data_preprocessing import get_input_RNN\n",
    "\n",
    "from keras.models import Model\n",
    "from keras.layers import Input, LSTM, Dense, Activation, Bidirectional\n",
    "from keras.layers.embeddings import Embedding\n",
    "\n",
    "#from keras.wrappers.scikit_learn import KerasClassifier"
   ]
  },
  {
   "cell_type": "code",
   "execution_count": 49,
   "metadata": {},
   "outputs": [],
   "source": [
    "def create_model(vocab_length, max_length_sequence, emb_dim, bidirectional):\n",
    "    \n",
    "    X_input = Input(shape = (max_length_sequence, ))\n",
    "    embedding_layer = Embedding(input_dim = vocab_length, output_dim = emb_dim,\n",
    "                                trainable = True, mask_zero = True)(X_input)\n",
    "    \n",
    "    if bidirectional:\n",
    "        X = Bidirectional(LSTM(units = 128, return_sequences = False))(embedding_layer)\n",
    "    else:\n",
    "        X = LSTM(units = 128, return_sequences = False)(embedding_layer)\n",
    "    X = Dense(units = 1)(X)\n",
    "    X = Activation('sigmoid')(X)\n",
    "                          \n",
    "    model = Model(inputs = X_input, outputs = X)\n",
    "                          \n",
    "    return(model)"
   ]
  },
  {
   "cell_type": "code",
   "execution_count": 38,
   "metadata": {},
   "outputs": [],
   "source": [
    "def execute_model(model, X, dataset, epochs):\n",
    "    \n",
    "    Y = dataset.label.values\n",
    "    \n",
    "    X_train, X_test, y_train, y_test = train_test_split(X, Y, test_size = 0.2, shuffle = True)\n",
    "\n",
    "    iterations = 5\n",
    "    dev_accuracy = np.zeros(iterations)\n",
    "    test_accuracy = np.zeros(iterations)\n",
    "    shuffle = ShuffleSplit(n_splits = iterations, test_size = 0.2)\n",
    "    \n",
    "    model.compile(loss='binary_crossentropy', optimizer='adam', metrics=['accuracy'])\n",
    "    \n",
    "    j = 0\n",
    "    for train, dev in shuffle.split(X_train):\n",
    "        Xtrain = X_train[train]\n",
    "        Ytrain = y_train[train]\n",
    "        Xdev = X_train[dev]\n",
    "        Ydev = Y[dev]\n",
    "        \n",
    "        model.fit(Xtrain, Ytrain, epochs = epochs, batch_size = 32, shuffle = True) # Fit mode\n",
    "        \n",
    "        loss, accuracy_val = model.evaluate(Xdev, Ydev) # Validate model\n",
    "        dev_accuracy[j] = round(accuracy_val, 3)\n",
    "        \n",
    "        Y_pred = model.predict(X_test) # Test model\n",
    "        accuracy_test = accuracy_score(y_test, Y_pred)\n",
    "        test_accuracy[j] = round(accuracy_test, 3)\n",
    "        \n",
    "        j += 1\n",
    "    \n",
    "    return np.mean(dev_accuracy), np.std(dev_accuracy), np.max(test_accuracy)"
   ]
  },
  {
   "cell_type": "code",
   "execution_count": 13,
   "metadata": {},
   "outputs": [
    {
     "data": {
      "text/html": [
       "<div>\n",
       "<style scoped>\n",
       "    .dataframe tbody tr th:only-of-type {\n",
       "        vertical-align: middle;\n",
       "    }\n",
       "\n",
       "    .dataframe tbody tr th {\n",
       "        vertical-align: top;\n",
       "    }\n",
       "\n",
       "    .dataframe thead th {\n",
       "        text-align: right;\n",
       "    }\n",
       "</style>\n",
       "<table border=\"1\" class=\"dataframe\">\n",
       "  <thead>\n",
       "    <tr style=\"text-align: right;\">\n",
       "      <th></th>\n",
       "      <th>text</th>\n",
       "      <th>label</th>\n",
       "    </tr>\n",
       "  </thead>\n",
       "  <tbody>\n",
       "    <tr>\n",
       "      <td>0</td>\n",
       "      <td>RAE INCLUIRÁ LA PALABRA \"LADY\" EN EL DICCIONAR...</td>\n",
       "      <td>1</td>\n",
       "    </tr>\n",
       "    <tr>\n",
       "      <td>1</td>\n",
       "      <td>La palabra \"haiga\", aceptada por la RAE La Rea...</td>\n",
       "      <td>1</td>\n",
       "    </tr>\n",
       "    <tr>\n",
       "      <td>2</td>\n",
       "      <td>YORDI ROSADO ESCRIBIRÁ Y DISEÑARÁ LOS NUEVOS L...</td>\n",
       "      <td>1</td>\n",
       "    </tr>\n",
       "    <tr>\n",
       "      <td>3</td>\n",
       "      <td>UNAM capacitará a maestros para aprobar prueba...</td>\n",
       "      <td>0</td>\n",
       "    </tr>\n",
       "    <tr>\n",
       "      <td>4</td>\n",
       "      <td>Alerta: pretenden aprobar libros escolares con...</td>\n",
       "      <td>1</td>\n",
       "    </tr>\n",
       "  </tbody>\n",
       "</table>\n",
       "</div>"
      ],
      "text/plain": [
       "                                                text  label\n",
       "0  RAE INCLUIRÁ LA PALABRA \"LADY\" EN EL DICCIONAR...      1\n",
       "1  La palabra \"haiga\", aceptada por la RAE La Rea...      1\n",
       "2  YORDI ROSADO ESCRIBIRÁ Y DISEÑARÁ LOS NUEVOS L...      1\n",
       "3  UNAM capacitará a maestros para aprobar prueba...      0\n",
       "4  Alerta: pretenden aprobar libros escolares con...      1"
      ]
     },
     "execution_count": 13,
     "metadata": {},
     "output_type": "execute_result"
    }
   ],
   "source": [
    "dataset = pd.read_csv('../data/Merged/spanish_dataset.csv')\n",
    "dataset.head()"
   ]
  },
  {
   "cell_type": "code",
   "execution_count": null,
   "metadata": {},
   "outputs": [],
   "source": [
    "#model = create_model(vocab_length = 40000, max_length_sequence = 2900, emb_dim = 50, bidirectional = True)\n",
    "#model.summary()"
   ]
  },
  {
   "cell_type": "code",
   "execution_count": null,
   "metadata": {},
   "outputs": [],
   "source": [
    "vocabulary_length = 40000\n",
    "max_length_sequence = 2900\n",
    "emb_dim = 50\n",
    "language = 'spanish'\n",
    "epochs = 20\n",
    "\n",
    "bidirectional = [False, False, True, True]\n",
    "stemming_stopwords = [False, True, False, True]\n",
    "\n",
    "for i in range(4):\n",
    "    model = create_model(vocab_length = vocabulary_length, max_length_sequence = max_length_sequence, emb_dim = emb_dim, bidirectional = bidirectional[i])\n",
    "    \n",
    "    X, df = get_input_RNN(dataset, stemming = stemming_stopwords[i], remove_stopwords = stemming_stopwords[i],\n",
    "                           vocabulary_length = vocabulary_length, max_length_sequence = max_length_sequence, language = language)\n",
    "    \n",
    "    dev_accuracy, std_dev_accuracy, test_accuracy = execute_model(model, X, df, epochs)\n",
    "    print(bidirectional[i], 'Stemming_Remove_StopWords: ' + str(stemming_stopwords[i]), dev_accuracy, dev_accuracy, test_accuracy)\n",
    "    print('\\n')"
   ]
  }
 ],
 "metadata": {
  "kernelspec": {
   "display_name": "Python 3",
   "language": "python",
   "name": "python3"
  },
  "language_info": {
   "codemirror_mode": {
    "name": "ipython",
    "version": 3
   },
   "file_extension": ".py",
   "mimetype": "text/x-python",
   "name": "python",
   "nbconvert_exporter": "python",
   "pygments_lexer": "ipython3",
   "version": "3.7.4"
  }
 },
 "nbformat": 4,
 "nbformat_minor": 2
}
