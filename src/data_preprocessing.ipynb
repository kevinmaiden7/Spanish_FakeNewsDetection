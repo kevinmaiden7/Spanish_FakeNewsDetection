{
 "cells": [
  {
   "cell_type": "code",
   "execution_count": 1,
   "metadata": {},
   "outputs": [
    {
     "name": "stderr",
     "output_type": "stream",
     "text": [
      "[nltk_data] Downloading package punkt to\n",
      "[nltk_data]     C:\\Users\\Kevin\\AppData\\Roaming\\nltk_data...\n",
      "[nltk_data]   Package punkt is already up-to-date!\n",
      "[nltk_data] Downloading package stopwords to\n",
      "[nltk_data]     C:\\Users\\Kevin\\AppData\\Roaming\\nltk_data...\n",
      "[nltk_data]   Package stopwords is already up-to-date!\n"
     ]
    }
   ],
   "source": [
    "import numpy as np\n",
    "import pandas as pd\n",
    "import re\n",
    "import string\n",
    "import nltk\n",
    "nltk.download('punkt')\n",
    "nltk.download('stopwords')\n",
    "from nltk import word_tokenize\n",
    "from nltk.stem import SnowballStemmer\n",
    "from sklearn.feature_extraction.text import CountVectorizer\n",
    "from sklearn.feature_extraction.text import TfidfVectorizer\n",
    "\n",
    "import matplotlib.pyplot as plt"
   ]
  },
  {
   "cell_type": "code",
   "execution_count": 2,
   "metadata": {},
   "outputs": [],
   "source": [
    "def max_length_text(df):\n",
    "    max_length = 0\n",
    "    for i in range(df.shape[0]):\n",
    "        length = np.size(word_tokenize(df.at[i, 'text']))\n",
    "        if length > max_length: max_length = length\n",
    "    return max_length"
   ]
  },
  {
   "cell_type": "code",
   "execution_count": 4,
   "metadata": {},
   "outputs": [],
   "source": [
    "def sequence_length_histogram(df):\n",
    "    lengths = []\n",
    "    for i in range(df.shape[0]):\n",
    "        length = np.size(word_tokenize(df.at[i, 'text']))\n",
    "        lengths.append(length)\n",
    "    \n",
    "    plt.hist(lengths, bins = 20)\n",
    "    plt.show()\n",
    "    return lengths"
   ]
  },
  {
   "cell_type": "code",
   "execution_count": 5,
   "metadata": {},
   "outputs": [],
   "source": [
    "def text_normalization(data):\n",
    "    data['text'] = data['text'].apply(lambda x: x.lower())\n",
    "    data['text'] = data['text'].apply((lambda x: re.sub('[%s]' % re.escape(string.punctuation), '', x)))"
   ]
  },
  {
   "cell_type": "code",
   "execution_count": 6,
   "metadata": {},
   "outputs": [],
   "source": [
    "def remove_stop_words(data, language, get_tokenize):\n",
    "    stopwords = nltk.corpus.stopwords.words(language)\n",
    "    if get_tokenize:\n",
    "        for i in range(data.shape[0]):\n",
    "            data.at[i, 'text'] = [word for word in nltk.word_tokenize(data.at[i, 'text']) if word not in stopwords]\n",
    "    else:\n",
    "        for i in range(data.shape[0]):\n",
    "            data.at[i, 'text'] = [word for word in nltk.word_tokenize(data.at[i, 'text']) if word not in stopwords]\n",
    "            data.at[i, 'text'] = ' '.join(data.at[i, 'text'])"
   ]
  },
  {
   "cell_type": "code",
   "execution_count": 7,
   "metadata": {},
   "outputs": [],
   "source": [
    "def apply_stemming(data, language):\n",
    "    stemmer = SnowballStemmer(language)\n",
    "    for i in range(data.shape[0]):\n",
    "         data.at[i, 'text'] = (' '.join([stemmer.stem(word) for word in data.at[i, 'text'].split()]))"
   ]
  },
  {
   "cell_type": "markdown",
   "metadata": {},
   "source": [
    "#### get_matrix representation | BoW and Tf-idf for Classic ML"
   ]
  },
  {
   "cell_type": "code",
   "execution_count": 8,
   "metadata": {},
   "outputs": [],
   "source": [
    "def get_matrix(data, representation, vocabulary_length, stemming, remove_stopwords, language):\n",
    "\n",
    "    df = data.copy(deep = True)\n",
    "    \n",
    "    text_normalization(df) # Text normalization\n",
    "    \n",
    "    # Stop_words\n",
    "    if remove_stopwords:\n",
    "        remove_stop_words(df, language, False)\n",
    "    \n",
    "    # Stemming\n",
    "    if stemming:\n",
    "        apply_stemming(df, language)\n",
    "    \n",
    "    # Word representation\n",
    "    if representation == 'BoW':\n",
    "        count_vectorizer = CountVectorizer(max_df = 0.9, max_features = vocabulary_length, min_df = 0)\n",
    "        #count_vectorizer = CountVectorizer(max_features = vocabulary_length)\n",
    "        matrix = count_vectorizer.fit_transform(df.text)\n",
    "        \n",
    "    elif representation == 'tf-idf':\n",
    "        tfidf_vectorizer = TfidfVectorizer(max_df = 0.9, max_features = vocabulary_length, min_df = 0, use_idf = True)\n",
    "        #tfidf_vectorizer = TfidfVectorizer(max_features = vocabulary_length, use_idf=True)\n",
    "        matrix = tfidf_vectorizer.fit_transform(df.text)\n",
    "    \n",
    "    return matrix, df"
   ]
  },
  {
   "cell_type": "markdown",
   "metadata": {},
   "source": [
    "#### Preprocessing for RNN - LSTM; CNN"
   ]
  },
  {
   "cell_type": "code",
   "execution_count": 9,
   "metadata": {},
   "outputs": [],
   "source": [
    "from tensorflow.keras.preprocessing.text import Tokenizer\n",
    "from tensorflow.keras.preprocessing.sequence import pad_sequences"
   ]
  },
  {
   "cell_type": "code",
   "execution_count": 10,
   "metadata": {},
   "outputs": [],
   "source": [
    "def get_input(data, stemming, remove_stopwords, vocabulary_length, max_length_sequence, language):\n",
    "    \n",
    "    df = data.copy(deep = True)\n",
    "    \n",
    "    text_normalization(df) # Text normalization\n",
    "    \n",
    "    # Stemming\n",
    "    if stemming:\n",
    "        apply_stemming(df, language)\n",
    "    \n",
    "    # Stop_words\n",
    "    if remove_stopwords:\n",
    "        remove_stop_words(df, language, True)\n",
    "        \n",
    "    # Tokenizer\n",
    "    tokenizer = Tokenizer(num_words = vocabulary_length)\n",
    "    tokenizer.fit_on_texts(df.text)\n",
    "    X = tokenizer.texts_to_sequences(df.text)\n",
    "    \n",
    "    # Padding\n",
    "    X = pad_sequences(X, maxlen = max_length_sequence, padding = 'post', truncating = 'post')\n",
    "    \n",
    "    return X, df"
   ]
  },
  {
   "cell_type": "code",
   "execution_count": 11,
   "metadata": {},
   "outputs": [],
   "source": [
    "def get_input_share_tokenizer(data_1, data_2, stemming, remove_stopwords, vocabulary_length, max_length_sequence, language):\n",
    "    \n",
    "    df1 = data_1.copy(deep = True)\n",
    "    df2 = data_2.copy(deep = True)\n",
    "    \n",
    "    text_normalization(df1) # Text normalization\n",
    "    text_normalization(df2)\n",
    "    \n",
    "    # Stemming\n",
    "    if stemming:\n",
    "        apply_stemming(df1, language)\n",
    "        apply_stemming(df2, language)\n",
    "    \n",
    "    # Stop_words\n",
    "    if remove_stopwords:\n",
    "        remove_stop_words(df1, language, True)\n",
    "        remove_stop_words(df2, language, True)\n",
    "        \n",
    "    # Tokenizer\n",
    "    tokenizer = Tokenizer(num_words = vocabulary_length)\n",
    "    tokenizer.fit_on_texts(df1.text)\n",
    "    X_1 = tokenizer.texts_to_sequences(df1.text)\n",
    "    X_2 = tokenizer.texts_to_sequences(df2.text)\n",
    "    \n",
    "    # Padding\n",
    "    X_1 = pad_sequences(X_1, maxlen = max_length_sequence, padding = 'post', truncating = 'post')\n",
    "    X_2 = pad_sequences(X_2, maxlen = max_length_sequence, padding = 'post', truncating = 'post')\n",
    "    \n",
    "    return X_1, X_2, df1, df2"
   ]
  },
  {
   "cell_type": "markdown",
   "metadata": {},
   "source": [
    "#### Tests"
   ]
  },
  {
   "cell_type": "markdown",
   "metadata": {},
   "source": [
    "#### Spanish Dataset"
   ]
  },
  {
   "cell_type": "code",
   "execution_count": 11,
   "metadata": {},
   "outputs": [
    {
     "data": {
      "text/html": [
       "<div>\n",
       "<style scoped>\n",
       "    .dataframe tbody tr th:only-of-type {\n",
       "        vertical-align: middle;\n",
       "    }\n",
       "\n",
       "    .dataframe tbody tr th {\n",
       "        vertical-align: top;\n",
       "    }\n",
       "\n",
       "    .dataframe thead th {\n",
       "        text-align: right;\n",
       "    }\n",
       "</style>\n",
       "<table border=\"1\" class=\"dataframe\">\n",
       "  <thead>\n",
       "    <tr style=\"text-align: right;\">\n",
       "      <th></th>\n",
       "      <th>text</th>\n",
       "      <th>label</th>\n",
       "    </tr>\n",
       "  </thead>\n",
       "  <tbody>\n",
       "    <tr>\n",
       "      <th>0</th>\n",
       "      <td>RAE INCLUIRÁ LA PALABRA \"LADY\" EN EL DICCIONAR...</td>\n",
       "      <td>1</td>\n",
       "    </tr>\n",
       "    <tr>\n",
       "      <th>1</th>\n",
       "      <td>La palabra \"haiga\", aceptada por la RAE La Rea...</td>\n",
       "      <td>1</td>\n",
       "    </tr>\n",
       "    <tr>\n",
       "      <th>2</th>\n",
       "      <td>YORDI ROSADO ESCRIBIRÁ Y DISEÑARÁ LOS NUEVOS L...</td>\n",
       "      <td>1</td>\n",
       "    </tr>\n",
       "    <tr>\n",
       "      <th>3</th>\n",
       "      <td>UNAM capacitará a maestros para aprobar prueba...</td>\n",
       "      <td>0</td>\n",
       "    </tr>\n",
       "    <tr>\n",
       "      <th>4</th>\n",
       "      <td>Alerta: pretenden aprobar libros escolares con...</td>\n",
       "      <td>1</td>\n",
       "    </tr>\n",
       "    <tr>\n",
       "      <th>...</th>\n",
       "      <td>...</td>\n",
       "      <td>...</td>\n",
       "    </tr>\n",
       "    <tr>\n",
       "      <th>2566</th>\n",
       "      <td>Recuperamos la historia de Aleixandra, la jove...</td>\n",
       "      <td>0</td>\n",
       "    </tr>\n",
       "    <tr>\n",
       "      <th>2567</th>\n",
       "      <td>Reproches, tensión y sinceridad: la comida en ...</td>\n",
       "      <td>0</td>\n",
       "    </tr>\n",
       "    <tr>\n",
       "      <th>2568</th>\n",
       "      <td>RT @ElMundoOpinion: \"PSOE, PP, Ciudadanos y Vo...</td>\n",
       "      <td>0</td>\n",
       "    </tr>\n",
       "    <tr>\n",
       "      <th>2569</th>\n",
       "      <td>Rusia cita al embajador español por unas decla...</td>\n",
       "      <td>0</td>\n",
       "    </tr>\n",
       "    <tr>\n",
       "      <th>2570</th>\n",
       "      <td>Saeed Malekpour fue detenido en 2008, cuando v...</td>\n",
       "      <td>0</td>\n",
       "    </tr>\n",
       "  </tbody>\n",
       "</table>\n",
       "<p>2571 rows × 2 columns</p>\n",
       "</div>"
      ],
      "text/plain": [
       "                                                   text  label\n",
       "0     RAE INCLUIRÁ LA PALABRA \"LADY\" EN EL DICCIONAR...      1\n",
       "1     La palabra \"haiga\", aceptada por la RAE La Rea...      1\n",
       "2     YORDI ROSADO ESCRIBIRÁ Y DISEÑARÁ LOS NUEVOS L...      1\n",
       "3     UNAM capacitará a maestros para aprobar prueba...      0\n",
       "4     Alerta: pretenden aprobar libros escolares con...      1\n",
       "...                                                 ...    ...\n",
       "2566  Recuperamos la historia de Aleixandra, la jove...      0\n",
       "2567  Reproches, tensión y sinceridad: la comida en ...      0\n",
       "2568  RT @ElMundoOpinion: \"PSOE, PP, Ciudadanos y Vo...      0\n",
       "2569  Rusia cita al embajador español por unas decla...      0\n",
       "2570  Saeed Malekpour fue detenido en 2008, cuando v...      0\n",
       "\n",
       "[2571 rows x 2 columns]"
      ]
     },
     "execution_count": 11,
     "metadata": {},
     "output_type": "execute_result"
    }
   ],
   "source": [
    "dataset = pd.read_csv('../data/Merged/spanish_dataset.csv')\n",
    "dataset"
   ]
  },
  {
   "cell_type": "code",
   "execution_count": 11,
   "metadata": {},
   "outputs": [
    {
     "data": {
      "text/plain": [
       "2865"
      ]
     },
     "execution_count": 11,
     "metadata": {},
     "output_type": "execute_result"
    }
   ],
   "source": [
    "max_length_text(dataset)"
   ]
  },
  {
   "cell_type": "code",
   "execution_count": 21,
   "metadata": {},
   "outputs": [
    {
     "data": {
      "image/png": "[encoded data removed]",
      "text/plain": [
       "<Figure size 432x288 with 1 Axes>"
      ]
     },
     "metadata": {
      "needs_background": "light"
     },
     "output_type": "display_data"
    },
    {
     "name": "stdout",
     "output_type": "stream",
     "text": [
      "193.06\n"
     ]
    }
   ],
   "source": [
    "lengths = sequence_length_histogram(dataset)\n",
    "print(round(np.mean(lengths), 3))"
   ]
  },
  {
   "cell_type": "code",
   "execution_count": 22,
   "metadata": {},
   "outputs": [
    {
     "name": "stdout",
     "output_type": "stream",
     "text": [
      "RAE INCLUIRÁ LA PALABRA \"LADY\" EN EL DICCIONARIO DEL IDIOMA ESPAÑOL COMO DEFINICIÓN DE \"MUJER PROBLEMÁTICA\"\n",
      "España.- El presidente de la Real Academia Española (RAE), Darío Villanueva, informó en conferencia de prensa que a partir del próximo mes se incluirá el término \"Lady\" como una nueva palabra en el diccionario del idioma español.\n",
      "Darío señaló que \"Lady\" servirá para definir a una \"mujer problemática\" o a una \"mujer que causa problemas\", y mencionó que esta palabra será una de las pocas que también se utilizan en el idioma inglés pero que en castellano tiene un significado diferente:\n",
      "\"Son contadas las palabras del idioma inglés que se utilizan en el español pero que tienen otro significado. Con la globalización las personas han comenzado a adoptar términos anglosajones pero los utilizan con su significado real, sin embargo en este caso la expresión Lady no significará lo mismo que en su idioma original (\"dama\" en inglés) sino que se usará para definir a una mujer que es problemática o acostumbra causar problemas y alborotos.\n",
      "La gente podrá decirle Lady a una fémina que cause algún escándalo, sea agresiva o provoque algún tipo de problema. El término dejara de considerarse una palabra exclusiva del idioma inglés ya que tras se incluida en el diccionario de la lengua española también pasara ser una palabra oficial del castellano, pero con un significado distinto\", confesó.\n",
      "Villanueva presentó a los medios la definición oficial que aparecerá en los diccionarios, señalando que será la siguiente:\n",
      "-Lady\n",
      "Del anglosajón Ænglisc, part. de Difficilis 'problematica', ferox 'agresiva'\n",
      "*NUMBER*.- adj. f. Mujer excesivamente problemática\n",
      "*NUMBER*.- adj. f. Mujer que causa problemas o alborotos\n",
      "*NUMBER*.- adj. f. Mujer que tiende a causar conflictos, es agresiva\n",
      "Te puede interesar Cholas descubren que las Donitas Bimbo también se pueden comer y no solo sirven para maquillarse\n",
      "*NUMBER*.- adj. f. Mujer que se guía por sus instintos animales, que no le importa crear conflictos\n",
      "El presidente señaló que fue uno de los miembros mexicanos de la RAE quien propuso incluir la palabra, y tras meses de análisis finamente fue aceptada por el comité:\n",
      "\"Es una término que tuvo su origen en México pero se usará en todos los países de habla hispana. Los videos de las Lady´s que han circulado nos sirvieron para crear una perfecta definición, la cual servirá para resumir y definir a una hembra problemática\", dijo\n",
      "Por último, Darío reveló que también ya se encuentran analizando la idea de incluir el término Lord en el diccionario, que sería el equivalente a la definición masculina de Lady.\n"
     ]
    }
   ],
   "source": [
    "print(dataset.at[0, 'text'])"
   ]
  },
  {
   "cell_type": "code",
   "execution_count": 23,
   "metadata": {},
   "outputs": [
    {
     "name": "stdout",
     "output_type": "stream",
     "text": [
      "['rae', 'incluirá', 'palabra', 'lady', 'diccionario', 'idioma', 'español', 'definición', 'mujer', 'problemática', 'españa', 'presidente', 'real', 'academia', 'española', 'rae', 'darío', 'villanueva', 'informó', 'conferencia', 'prensa', 'partir', 'próximo', 'mes', 'incluirá', 'término', 'lady', 'nueva', 'palabra', 'diccionario', 'idioma', 'español', 'darío', 'señaló', 'lady', 'servirá', 'definir', 'mujer', 'problemática', 'mujer', 'causa', 'problemas', 'mencionó', 'palabra', 'pocas', 'utilizan', 'idioma', 'inglés', 'castellano', 'significado', 'diferente', 'contadas', 'palabras', 'idioma', 'inglés', 'utilizan', 'español', 'significado', 'globalización', 'personas', 'comenzado', 'adoptar', 'términos', 'anglosajones', 'utilizan', 'significado', 'real', 'embargo', 'caso', 'expresión', 'lady', 'significará', 'mismo', 'idioma', 'original', 'dama', 'inglés', 'sino', 'usará', 'definir', 'mujer', 'problemática', 'acostumbra', 'causar', 'problemas', 'alborotos', 'gente', 'podrá', 'decirle', 'lady', 'fémina', 'cause', 'algún', 'escándalo', 'agresiva', 'provoque', 'algún', 'tipo', 'problema', 'término', 'dejara', 'considerarse', 'palabra', 'exclusiva', 'idioma', 'inglés', 'tras', 'incluida', 'diccionario', 'lengua', 'española', 'pasara', 'ser', 'palabra', 'oficial', 'castellano', 'significado', 'distinto', 'confesó', 'villanueva', 'presentó', 'medios', 'definición', 'oficial', 'aparecerá', 'diccionarios', 'señalando', 'siguiente', 'lady', 'anglosajón', 'ænglisc', 'part', 'difficilis', 'problematica', 'ferox', 'agresiva', 'number', 'adj', 'f', 'mujer', 'excesivamente', 'problemática', 'number', 'adj', 'f', 'mujer', 'causa', 'problemas', 'alborotos', 'number', 'adj', 'f', 'mujer', 'tiende', 'causar', 'conflictos', 'agresiva', 'puede', 'interesar', 'cholas', 'descubren', 'donitas', 'bimbo', 'pueden', 'comer', 'solo', 'sirven', 'maquillarse', 'number', 'adj', 'f', 'mujer', 'guía', 'instintos', 'animales', 'importa', 'crear', 'conflictos', 'presidente', 'señaló', 'miembros', 'mexicanos', 'rae', 'propuso', 'incluir', 'palabra', 'tras', 'meses', 'análisis', 'finamente', 'aceptada', 'comité', 'término', 'origen', 'méxico', 'usará', 'países', 'habla', 'hispana', 'videos', 'lady´s', 'circulado', 'sirvieron', 'crear', 'perfecta', 'definición', 'servirá', 'resumir', 'definir', 'hembra', 'problemática', 'dijo', 'último', 'darío', 'reveló', 'encuentran', 'analizando', 'idea', 'incluir', 'término', 'lord', 'diccionario', 'equivalente', 'definición', 'masculina', 'lady']\n",
      "(2571, 2)\n"
     ]
    }
   ],
   "source": [
    "X, df = get_input(dataset, False, True, 10000, 500, language = 'spanish')\n",
    "# X, df = get_input(dataset, True, True, 40000, 2900, language = 'spanish')\n",
    "print(df.at[0, 'text'])\n",
    "print(df.shape)"
   ]
  },
  {
   "cell_type": "code",
   "execution_count": 24,
   "metadata": {},
   "outputs": [
    {
     "name": "stdout",
     "output_type": "stream",
     "text": [
      "(2571, 500)\n",
      "2571\n",
      "[1328 3124  729 2909 2261 1639  232 4706   91 5246   54    9  268  975\n",
      "  352 1328 4300 5247  359  330  176  138  166  122 3124 1786 2909   71\n",
      "  729 2261 1639  232 4300  123 2909 3125 1961   91 5246   91  548  326\n",
      "  303  729 1484 1962 1639  645 5942 3126 1485  463 1639  645 1962  232\n",
      " 3126 9847   17 2544 3939 1038 1962 3126  268   68   34 1329 2909   56\n",
      " 1639 2262  481  645  100 4707 1961   91 5246 9848 2411  326   63  264\n",
      " 3649 2909 9849 9850  464  838 4708 8041  464  170  315 1786 4301 9851\n",
      "  729 1559 1639  645   26 4302 2261 2711  352 6792    5  729  265 5942\n",
      " 3126 4303 1169 5247  769  104 4706  265 4304  887  534 2909 4708    1\n",
      " 8042 2545   91 8043 5246    1 8042 2545   91  548  326    1 8042 2545\n",
      "   91 5943 2411 2263 4708   27 9852 2712 9853  124 1285   31 5248    1\n",
      " 8042 2545   91 5249  646 1170  861 2263    9  123  564   80 1328 2713\n",
      " 1787  729   26   97 1127 6793 1330 1786  574    2 4707  167  713 6794\n",
      " 1039  861 4709 4706 3125 1961 9854 5246   11  215 4300  492  730 3940\n",
      "  248 1787 1786 9855 2261 2042 4706 9856 2909    0    0    0    0    0\n",
      "    0    0    0    0    0    0    0    0    0    0    0    0    0    0\n",
      "    0    0    0    0    0    0    0    0    0    0    0    0    0    0\n",
      "    0    0    0    0    0    0    0    0    0    0    0    0    0    0\n",
      "    0    0    0    0    0    0    0    0    0    0    0    0    0    0\n",
      "    0    0    0    0    0    0    0    0    0    0    0    0    0    0\n",
      "    0    0    0    0    0    0    0    0    0    0    0    0    0    0\n",
      "    0    0    0    0    0    0    0    0    0    0    0    0    0    0\n",
      "    0    0    0    0    0    0    0    0    0    0    0    0    0    0\n",
      "    0    0    0    0    0    0    0    0    0    0    0    0    0    0\n",
      "    0    0    0    0    0    0    0    0    0    0    0    0    0    0\n",
      "    0    0    0    0    0    0    0    0    0    0    0    0    0    0\n",
      "    0    0    0    0    0    0    0    0    0    0    0    0    0    0\n",
      "    0    0    0    0    0    0    0    0    0    0    0    0    0    0\n",
      "    0    0    0    0    0    0    0    0    0    0    0    0    0    0\n",
      "    0    0    0    0    0    0    0    0    0    0    0    0    0    0\n",
      "    0    0    0    0    0    0    0    0    0    0    0    0    0    0\n",
      "    0    0    0    0    0    0    0    0    0    0    0    0    0    0\n",
      "    0    0    0    0    0    0    0    0    0    0    0    0    0    0\n",
      "    0    0    0    0    0    0    0    0    0    0    0    0    0    0\n",
      "    0    0    0    0    0    0    0    0    0    0    0    0    0    0\n",
      "    0    0    0    0    0    0    0    0    0    0] 500\n",
      "[1328 3124  729 2909 2261 1639  232 4706   91 5246   54    9  268  975\n",
      "  352 1328 4300 5247  359  330  176  138  166  122 3124 1786 2909   71\n",
      "  729 2261 1639  232 4300  123 2909 3125 1961   91 5246   91  548  326\n",
      "  303  729 1484 1962 1639  645 5942 3126 1485  463 1639  645 1962  232\n",
      " 3126 9847   17 2544 3939 1038 1962 3126  268   68   34 1329 2909   56\n",
      " 1639 2262  481  645  100 4707 1961   91 5246 9848 2411  326   63  264\n",
      " 3649 2909 9849 9850  464  838 4708 8041  464  170  315 1786 4301 9851\n",
      "  729 1559 1639  645   26 4302 2261 2711  352 6792    5  729  265 5942\n",
      " 3126 4303 1169 5247  769  104 4706  265 4304  887  534 2909 4708    1\n",
      " 8042 2545   91 8043 5246    1 8042 2545   91  548  326    1 8042 2545\n",
      "   91 5943 2411 2263 4708   27 9852 2712 9853  124 1285   31 5248    1\n",
      " 8042 2545   91 5249  646 1170  861 2263    9  123  564   80 1328 2713\n",
      " 1787  729   26   97 1127 6793 1330 1786  574    2 4707  167  713 6794\n",
      " 1039  861 4709 4706 3125 1961 9854 5246   11  215 4300  492  730 3940\n",
      "  248 1787 1786 9855 2261 2042 4706 9856 2909    0    0    0    0    0\n",
      "    0    0    0    0    0    0    0    0    0    0    0    0    0    0\n",
      "    0    0    0    0    0    0    0    0    0    0    0    0    0    0\n",
      "    0    0    0    0    0    0    0    0    0    0    0    0    0    0\n",
      "    0    0    0    0    0    0    0    0    0    0    0    0    0    0\n",
      "    0    0    0    0    0    0    0    0    0    0    0    0    0    0\n",
      "    0    0    0    0    0    0    0    0    0    0    0    0    0    0\n",
      "    0    0    0    0    0    0    0    0    0    0    0    0    0    0\n",
      "    0    0    0    0    0    0    0    0    0    0    0    0    0    0\n",
      "    0    0    0    0    0    0    0    0    0    0    0    0    0    0\n",
      "    0    0    0    0    0    0    0    0    0    0    0    0    0    0\n",
      "    0    0    0    0    0    0    0    0    0    0    0    0    0    0\n",
      "    0    0    0    0    0    0    0    0    0    0    0    0    0    0\n",
      "    0    0    0    0    0    0    0    0    0    0    0    0    0    0\n",
      "    0    0    0    0    0    0    0    0    0    0    0    0    0    0\n",
      "    0    0    0    0    0    0    0    0    0    0    0    0    0    0\n",
      "    0    0    0    0    0    0    0    0    0    0    0    0    0    0\n",
      "    0    0    0    0    0    0    0    0    0    0    0    0    0    0\n",
      "    0    0    0    0    0    0    0    0    0    0    0    0    0    0\n",
      "    0    0    0    0    0    0    0    0    0    0    0    0    0    0\n",
      "    0    0    0    0    0    0    0    0    0    0    0    0    0    0\n",
      "    0    0    0    0    0    0    0    0    0    0]\n"
     ]
    }
   ],
   "source": [
    "print(X.shape)\n",
    "print(len(X))\n",
    "print(X[0], len(X[0]))\n",
    "print(X[0,:])"
   ]
  },
  {
   "cell_type": "code",
   "execution_count": 25,
   "metadata": {},
   "outputs": [
    {
     "name": "stdout",
     "output_type": "stream",
     "text": [
      "[ 729 6795 6793 1328  268  975 2711 1328 3379  223 6795 5944   40   17\n",
      " 9857 1128 9858 4710   53   42  279   81 8044 2711 9859   58  400  285\n",
      "    8 1012  437 1328 3380  152   20 3381 1286 1099  975 2711   26 8045\n",
      " 5944 1245   21 2714   17  493  493 6796 1963 1716 5945 5250  335 5946\n",
      " 4305   85 6795  190 2910 5946 4305 6795 8046  463 3379 1328 5251  794\n",
      "  152  289 5947  770  401  401  224  729  534  362    0    0    0    0\n",
      "    0    0    0    0    0    0    0    0    0    0    0    0    0    0\n",
      "    0    0    0    0    0    0    0    0    0    0    0    0    0    0\n",
      "    0    0    0    0    0    0    0    0    0    0    0    0    0    0\n",
      "    0    0    0    0    0    0    0    0    0    0    0    0    0    0\n",
      "    0    0    0    0    0    0    0    0    0    0    0    0    0    0\n",
      "    0    0    0    0    0    0    0    0    0    0    0    0    0    0\n",
      "    0    0    0    0    0    0    0    0    0    0    0    0    0    0\n",
      "    0    0    0    0    0    0    0    0    0    0    0    0    0    0\n",
      "    0    0    0    0    0    0    0    0    0    0    0    0    0    0\n",
      "    0    0    0    0    0    0    0    0    0    0    0    0    0    0\n",
      "    0    0    0    0    0    0    0    0    0    0    0    0    0    0\n",
      "    0    0    0    0    0    0    0    0    0    0    0    0    0    0\n",
      "    0    0    0    0    0    0    0    0    0    0    0    0    0    0\n",
      "    0    0    0    0    0    0    0    0    0    0    0    0    0    0\n",
      "    0    0    0    0    0    0    0    0    0    0    0    0    0    0\n",
      "    0    0    0    0    0    0    0    0    0    0    0    0    0    0\n",
      "    0    0    0    0    0    0    0    0    0    0    0    0    0    0\n",
      "    0    0    0    0    0    0    0    0    0    0    0    0    0    0\n",
      "    0    0    0    0    0    0    0    0    0    0    0    0    0    0\n",
      "    0    0    0    0    0    0    0    0    0    0    0    0    0    0\n",
      "    0    0    0    0    0    0    0    0    0    0    0    0    0    0\n",
      "    0    0    0    0    0    0    0    0    0    0    0    0    0    0\n",
      "    0    0    0    0    0    0    0    0    0    0    0    0    0    0\n",
      "    0    0    0    0    0    0    0    0    0    0    0    0    0    0\n",
      "    0    0    0    0    0    0    0    0    0    0    0    0    0    0\n",
      "    0    0    0    0    0    0    0    0    0    0    0    0    0    0\n",
      "    0    0    0    0    0    0    0    0    0    0    0    0    0    0\n",
      "    0    0    0    0    0    0    0    0    0    0    0    0    0    0\n",
      "    0    0    0    0    0    0    0    0    0    0    0    0    0    0\n",
      "    0    0    0    0    0    0    0    0    0    0] 500\n"
     ]
    }
   ],
   "source": [
    "print(X[1], len(X[1]))"
   ]
  },
  {
   "cell_type": "markdown",
   "metadata": {},
   "source": [
    "#### English Dataset"
   ]
  },
  {
   "cell_type": "code",
   "execution_count": 12,
   "metadata": {},
   "outputs": [
    {
     "data": {
      "text/html": [
       "<div>\n",
       "<style scoped>\n",
       "    .dataframe tbody tr th:only-of-type {\n",
       "        vertical-align: middle;\n",
       "    }\n",
       "\n",
       "    .dataframe tbody tr th {\n",
       "        vertical-align: top;\n",
       "    }\n",
       "\n",
       "    .dataframe thead th {\n",
       "        text-align: right;\n",
       "    }\n",
       "</style>\n",
       "<table border=\"1\" class=\"dataframe\">\n",
       "  <thead>\n",
       "    <tr style=\"text-align: right;\">\n",
       "      <th></th>\n",
       "      <th>text</th>\n",
       "      <th>label</th>\n",
       "    </tr>\n",
       "  </thead>\n",
       "  <tbody>\n",
       "    <tr>\n",
       "      <th>0</th>\n",
       "      <td>Donald Trump just couldn t wish all Americans ...</td>\n",
       "      <td>1</td>\n",
       "    </tr>\n",
       "    <tr>\n",
       "      <th>1</th>\n",
       "      <td>House Intelligence Committee Chairman Devin Nu...</td>\n",
       "      <td>1</td>\n",
       "    </tr>\n",
       "    <tr>\n",
       "      <th>2</th>\n",
       "      <td>On Friday, it was revealed that former Milwauk...</td>\n",
       "      <td>1</td>\n",
       "    </tr>\n",
       "    <tr>\n",
       "      <th>3</th>\n",
       "      <td>On Christmas day, Donald Trump announced that ...</td>\n",
       "      <td>1</td>\n",
       "    </tr>\n",
       "    <tr>\n",
       "      <th>4</th>\n",
       "      <td>Pope Francis used his annual Christmas Day mes...</td>\n",
       "      <td>1</td>\n",
       "    </tr>\n",
       "    <tr>\n",
       "      <th>...</th>\n",
       "      <td>...</td>\n",
       "      <td>...</td>\n",
       "    </tr>\n",
       "    <tr>\n",
       "      <th>51228</th>\n",
       "      <td>The State Department told the Republican Natio...</td>\n",
       "      <td>0</td>\n",
       "    </tr>\n",
       "    <tr>\n",
       "      <th>51229</th>\n",
       "      <td>The ‘P’ in PBS Should Stand for ‘Plutocratic’ ...</td>\n",
       "      <td>1</td>\n",
       "    </tr>\n",
       "    <tr>\n",
       "      <th>51230</th>\n",
       "      <td>Anti-Trump Protesters Are Tools of the Oligar...</td>\n",
       "      <td>1</td>\n",
       "    </tr>\n",
       "    <tr>\n",
       "      <th>51231</th>\n",
       "      <td>ADDIS ABABA, Ethiopia —President Obama convene...</td>\n",
       "      <td>0</td>\n",
       "    </tr>\n",
       "    <tr>\n",
       "      <th>51232</th>\n",
       "      <td>Jeb Bush Is Suddenly Attacking Trump. Here's W...</td>\n",
       "      <td>0</td>\n",
       "    </tr>\n",
       "  </tbody>\n",
       "</table>\n",
       "<p>51233 rows × 2 columns</p>\n",
       "</div>"
      ],
      "text/plain": [
       "                                                    text  label\n",
       "0      Donald Trump just couldn t wish all Americans ...      1\n",
       "1      House Intelligence Committee Chairman Devin Nu...      1\n",
       "2      On Friday, it was revealed that former Milwauk...      1\n",
       "3      On Christmas day, Donald Trump announced that ...      1\n",
       "4      Pope Francis used his annual Christmas Day mes...      1\n",
       "...                                                  ...    ...\n",
       "51228  The State Department told the Republican Natio...      0\n",
       "51229  The ‘P’ in PBS Should Stand for ‘Plutocratic’ ...      1\n",
       "51230   Anti-Trump Protesters Are Tools of the Oligar...      1\n",
       "51231  ADDIS ABABA, Ethiopia —President Obama convene...      0\n",
       "51232  Jeb Bush Is Suddenly Attacking Trump. Here's W...      0\n",
       "\n",
       "[51233 rows x 2 columns]"
      ]
     },
     "execution_count": 12,
     "metadata": {},
     "output_type": "execute_result"
    }
   ],
   "source": [
    "english_dataset = pd.read_csv('../data/Merged/english_dataset.csv')\n",
    "english_dataset"
   ]
  },
  {
   "cell_type": "code",
   "execution_count": 11,
   "metadata": {},
   "outputs": [
    {
     "data": {
      "text/plain": [
       "23950"
      ]
     },
     "execution_count": 11,
     "metadata": {},
     "output_type": "execute_result"
    }
   ],
   "source": [
    "max_length_text(english_dataset)"
   ]
  },
  {
   "cell_type": "code",
   "execution_count": 12,
   "metadata": {},
   "outputs": [
    {
     "data": {
      "image/png": "[encoded data removed]",
      "text/plain": [
       "<Figure size 432x288 with 1 Axes>"
      ]
     },
     "metadata": {
      "needs_background": "light"
     },
     "output_type": "display_data"
    },
    {
     "name": "stdout",
     "output_type": "stream",
     "text": [
      "508.65\n"
     ]
    }
   ],
   "source": [
    "lengths = sequence_length_histogram(english_dataset)\n",
    "print(round(np.mean(lengths), 3))"
   ]
  },
  {
   "cell_type": "code",
   "execution_count": 13,
   "metadata": {},
   "outputs": [
    {
     "name": "stdout",
     "output_type": "stream",
     "text": [
      "Donald Trump just couldn t wish all Americans a Happy New Year and leave it at that. Instead, he had to give a shout out to his enemies, haters and  the very dishonest fake news media.  The former reality show star had just one job to do and he couldn t do it. As our Country rapidly grows stronger and smarter, I want to wish all of my friends, supporters, enemies, haters, and even the very dishonest Fake News Media, a Happy and Healthy New Year,  President Angry Pants tweeted.  2018 will be a great year for America! As our Country rapidly grows stronger and smarter, I want to wish all of my friends, supporters, enemies, haters, and even the very dishonest Fake News Media, a Happy and Healthy New Year. 2018 will be a great year for America!  Donald J. Trump (@realDonaldTrump) December 31, 2017Trump s tweet went down about as welll as you d expect.What kind of president sends a New Year s greeting like this despicable, petty, infantile gibberish? Only Trump! His lack of decency won t even allow him to rise above the gutter long enough to wish the American citizens a happy new year!  Bishop Talbert Swan (@TalbertSwan) December 31, 2017no one likes you  Calvin (@calvinstowell) December 31, 2017Your impeachment would make 2018 a great year for America, but I ll also accept regaining control of Congress.  Miranda Yaver (@mirandayaver) December 31, 2017Do you hear yourself talk? When you have to include that many people that hate you you have to wonder? Why do the they all hate me?  Alan Sandoval (@AlanSandoval13) December 31, 2017Who uses the word Haters in a New Years wish??  Marlene (@marlene399) December 31, 2017You can t just say happy new year?  Koren pollitt (@Korencarpenter) December 31, 2017Here s Trump s New Year s Eve tweet from 2016.Happy New Year to all, including to my many enemies and those who have fought me and lost so badly they just don t know what to do. Love!  Donald J. Trump (@realDonaldTrump) December 31, 2016This is nothing new for Trump. He s been doing this for years.Trump has directed messages to his  enemies  and  haters  for New Year s, Easter, Thanksgiving, and the anniversary of 9/11. pic.twitter.com/4FPAe2KypA  Daniel Dale (@ddale8) December 31, 2017Trump s holiday tweets are clearly not presidential.How long did he work at Hallmark before becoming President?  Steven Goodine (@SGoodine) December 31, 2017He s always been like this . . . the only difference is that in the last few years, his filter has been breaking down.  Roy Schulze (@thbthttt) December 31, 2017Who, apart from a teenager uses the term haters?  Wendy (@WendyWhistles) December 31, 2017he s a fucking 5 year old  Who Knows (@rainyday80) December 31, 2017So, to all the people who voted for this a hole thinking he would change once he got into power, you were wrong! 70-year-old men don t change and now he s a year older.Photo by Andrew Burton/Getty Images.\n"
     ]
    }
   ],
   "source": [
    "print(english_dataset.at[0, 'text'])"
   ]
  },
  {
   "cell_type": "code",
   "execution_count": 14,
   "metadata": {},
   "outputs": [
    {
     "name": "stdout",
     "output_type": "stream",
     "text": [
      "['donald', 'trump', 'wish', 'americans', 'happy', 'new', 'year', 'leave', 'instead', 'give', 'shout', 'enemies', 'haters', 'dishonest', 'fake', 'news', 'media', 'former', 'reality', 'show', 'star', 'one', 'job', 'country', 'rapidly', 'grows', 'stronger', 'smarter', 'want', 'wish', 'friends', 'supporters', 'enemies', 'haters', 'even', 'dishonest', 'fake', 'news', 'media', 'happy', 'healthy', 'new', 'year', 'president', 'angry', 'pants', 'tweeted', '2018', 'great', 'year', 'america', 'country', 'rapidly', 'grows', 'stronger', 'smarter', 'want', 'wish', 'friends', 'supporters', 'enemies', 'haters', 'even', 'dishonest', 'fake', 'news', 'media', 'happy', 'healthy', 'new', 'year', '2018', 'great', 'year', 'america', 'donald', 'j', 'trump', 'realdonaldtrump', 'december', '31', '2017trump', 'tweet', 'went', 'welll', 'expectwhat', 'kind', 'president', 'sends', 'new', 'year', 'greeting', 'like', 'despicable', 'petty', 'infantile', 'gibberish', 'trump', 'lack', 'decency', 'even', 'allow', 'rise', 'gutter', 'long', 'enough', 'wish', 'american', 'citizens', 'happy', 'new', 'year', 'bishop', 'talbert', 'swan', 'talbertswan', 'december', '31', '2017no', 'one', 'likes', 'calvin', 'calvinstowell', 'december', '31', '2017your', 'impeachment', 'would', 'make', '2018', 'great', 'year', 'america', 'also', 'accept', 'regaining', 'control', 'congress', 'miranda', 'yaver', 'mirandayaver', 'december', '31', '2017do', 'hear', 'talk', 'include', 'many', 'people', 'hate', 'wonder', 'hate', 'alan', 'sandoval', 'alansandoval13', 'december', '31', '2017who', 'uses', 'word', 'haters', 'new', 'years', 'wish', 'marlene', 'marlene399', 'december', '31', '2017you', 'say', 'happy', 'new', 'year', 'koren', 'pollitt', 'korencarpenter', 'december', '31', '2017here', 'trump', 'new', 'year', 'eve', 'tweet', '2016happy', 'new', 'year', 'including', 'many', 'enemies', 'fought', 'lost', 'badly', 'know', 'love', 'donald', 'j', 'trump', 'realdonaldtrump', 'december', '31', '2016this', 'nothing', 'new', 'trump', 'yearstrump', 'directed', 'messages', 'enemies', 'haters', 'new', 'year', 'easter', 'thanksgiving', 'anniversary', '911', 'pictwittercom4fpae2kypa', 'daniel', 'dale', 'ddale8', 'december', '31', '2017trump', 'holiday', 'tweets', 'clearly', 'presidentialhow', 'long', 'work', 'hallmark', 'becoming', 'president', 'steven', 'goodine', 'sgoodine', 'december', '31', '2017he', 'always', 'like', 'difference', 'last', 'years', 'filter', 'breaking', 'roy', 'schulze', 'thbthttt', 'december', '31', '2017who', 'apart', 'teenager', 'uses', 'term', 'haters', 'wendy', 'wendywhistles', 'december', '31', '2017he', 'fucking', '5', 'year', 'old', 'knows', 'rainyday80', 'december', '31', '2017so', 'people', 'voted', 'hole', 'thinking', 'would', 'change', 'got', 'power', 'wrong', '70yearold', 'men', 'change', 'year', 'olderphoto', 'andrew', 'burtongetty', 'images']\n",
      "(51233, 2)\n"
     ]
    }
   ],
   "source": [
    "X, df = get_input(english_dataset, False, True, 10000, 1500, language = 'english')\n",
    "print(df.at[0, 'text'])\n",
    "print(df.shape)"
   ]
  },
  {
   "cell_type": "code",
   "execution_count": 15,
   "metadata": {},
   "outputs": [
    {
     "name": "stdout",
     "output_type": "stream",
     "text": [
      "(51233, 1500)\n",
      "51233\n",
      "[  19    2 2225 ...    0    0    0] 1500\n",
      "[  19    2 2225 ...    0    0    0]\n"
     ]
    }
   ],
   "source": [
    "print(X.shape)\n",
    "print(len(X))\n",
    "print(X[0], len(X[0]))\n",
    "print(X[0,:])"
   ]
  },
  {
   "cell_type": "markdown",
   "metadata": {},
   "source": [
    "#### Comparing Original English Dataset with Translated Dataset"
   ]
  },
  {
   "cell_type": "code",
   "execution_count": 13,
   "metadata": {},
   "outputs": [
    {
     "data": {
      "text/html": [
       "<div>\n",
       "<style scoped>\n",
       "    .dataframe tbody tr th:only-of-type {\n",
       "        vertical-align: middle;\n",
       "    }\n",
       "\n",
       "    .dataframe tbody tr th {\n",
       "        vertical-align: top;\n",
       "    }\n",
       "\n",
       "    .dataframe thead th {\n",
       "        text-align: right;\n",
       "    }\n",
       "</style>\n",
       "<table border=\"1\" class=\"dataframe\">\n",
       "  <thead>\n",
       "    <tr style=\"text-align: right;\">\n",
       "      <th></th>\n",
       "      <th>text</th>\n",
       "      <th>label</th>\n",
       "    </tr>\n",
       "  </thead>\n",
       "  <tbody>\n",
       "    <tr>\n",
       "      <th>0</th>\n",
       "      <td>RAE WILL INCLUDE THE WORD \"LADY\" IN THE SPANIS...</td>\n",
       "      <td>1</td>\n",
       "    </tr>\n",
       "    <tr>\n",
       "      <th>1</th>\n",
       "      <td>The word \"haiga\", accepted by the RAE The Roya...</td>\n",
       "      <td>1</td>\n",
       "    </tr>\n",
       "    <tr>\n",
       "      <th>2</th>\n",
       "      <td>YORDI ROSADO WILL WRITE AND DESIGN THE NEW SEP...</td>\n",
       "      <td>1</td>\n",
       "    </tr>\n",
       "    <tr>\n",
       "      <th>3</th>\n",
       "      <td>UNAM will train teachers to pass the Pisa test...</td>\n",
       "      <td>0</td>\n",
       "    </tr>\n",
       "    <tr>\n",
       "      <th>4</th>\n",
       "      <td>Alert: they intend to approve school books wit...</td>\n",
       "      <td>1</td>\n",
       "    </tr>\n",
       "    <tr>\n",
       "      <th>...</th>\n",
       "      <td>...</td>\n",
       "      <td>...</td>\n",
       "    </tr>\n",
       "    <tr>\n",
       "      <th>2566</th>\n",
       "      <td>We recover the story of Aleixandra, the 21-yea...</td>\n",
       "      <td>0</td>\n",
       "    </tr>\n",
       "    <tr>\n",
       "      <th>2567</th>\n",
       "      <td>Reproaches, tension and sincerity: the meal in...</td>\n",
       "      <td>0</td>\n",
       "    </tr>\n",
       "    <tr>\n",
       "      <th>2568</th>\n",
       "      <td>RT @ElMundoOpinion: \"PSOE, PP, Ciudadanos and ...</td>\n",
       "      <td>0</td>\n",
       "    </tr>\n",
       "    <tr>\n",
       "      <th>2569</th>\n",
       "      <td>Russia quotes the Spanish ambassador for some ...</td>\n",
       "      <td>0</td>\n",
       "    </tr>\n",
       "    <tr>\n",
       "      <th>2570</th>\n",
       "      <td>Saeed Malekpour was arrested in 2008, while vi...</td>\n",
       "      <td>0</td>\n",
       "    </tr>\n",
       "  </tbody>\n",
       "</table>\n",
       "<p>2571 rows × 2 columns</p>\n",
       "</div>"
      ],
      "text/plain": [
       "                                                   text  label\n",
       "0     RAE WILL INCLUDE THE WORD \"LADY\" IN THE SPANIS...      1\n",
       "1     The word \"haiga\", accepted by the RAE The Roya...      1\n",
       "2     YORDI ROSADO WILL WRITE AND DESIGN THE NEW SEP...      1\n",
       "3     UNAM will train teachers to pass the Pisa test...      0\n",
       "4     Alert: they intend to approve school books wit...      1\n",
       "...                                                 ...    ...\n",
       "2566  We recover the story of Aleixandra, the 21-yea...      0\n",
       "2567  Reproaches, tension and sincerity: the meal in...      0\n",
       "2568  RT @ElMundoOpinion: \"PSOE, PP, Ciudadanos and ...      0\n",
       "2569  Russia quotes the Spanish ambassador for some ...      0\n",
       "2570  Saeed Malekpour was arrested in 2008, while vi...      0\n",
       "\n",
       "[2571 rows x 2 columns]"
      ]
     },
     "execution_count": 13,
     "metadata": {},
     "output_type": "execute_result"
    }
   ],
   "source": [
    "translated_dataset = pd.read_csv('../data/Merged/spanish_t_dataset.csv')\n",
    "translated_dataset"
   ]
  },
  {
   "cell_type": "code",
   "execution_count": 14,
   "metadata": {},
   "outputs": [],
   "source": [
    "df1 = english_dataset.copy(deep = True)\n",
    "df2 = translated_dataset.copy(deep = True)\n",
    "\n",
    "language = 'english'\n",
    "vocabulary_length = 10000\n",
    "\n",
    "text_normalization(df1) \n",
    "text_normalization(df2) \n",
    "\n",
    "remove_stop_words(df1, language, True)\n",
    "remove_stop_words(df2, language, True)\n",
    "\n",
    "tokenizer_df1 = Tokenizer(num_words = vocabulary_length)\n",
    "tokenizer_df1.fit_on_texts(df1.text)\n",
    "\n",
    "tokenizer_df2 = Tokenizer(num_words = vocabulary_length)\n",
    "tokenizer_df2.fit_on_texts(df2.text)\n",
    "\n",
    "#tokenizer.get_config()"
   ]
  },
  {
   "cell_type": "code",
   "execution_count": null,
   "metadata": {},
   "outputs": [],
   "source": [
    "tokenizer_df2.get_config()"
   ]
  },
  {
   "cell_type": "code",
   "execution_count": 15,
   "metadata": {},
   "outputs": [
    {
     "name": "stdout",
     "output_type": "stream",
     "text": [
      "262793 26125\n"
     ]
    }
   ],
   "source": [
    "vocab_list_df1 = list(tokenizer_df1.word_index.keys())\n",
    "vocab_list_df2 = list(tokenizer_df2.word_index.keys())\n",
    "print(len(vocab_list_df1), len(vocab_list_df2))"
   ]
  },
  {
   "cell_type": "code",
   "execution_count": 28,
   "metadata": {},
   "outputs": [
    {
     "name": "stdout",
     "output_type": "stream",
     "text": [
      "['said', 'trump', '’', '“', '”', 'us', 'would', 'president', 'people', 'one'] ['number', 'one', 'de', 'mexico', 'said', 'people', 'would', 'also', 'years', 'la']\n"
     ]
    }
   ],
   "source": [
    "print(vocab_list_df1[:10] ,vocab_list_df2[:10])"
   ]
  },
  {
   "cell_type": "markdown",
   "metadata": {},
   "source": [
    "Taking into account all the words found by the tokenizer"
   ]
  },
  {
   "cell_type": "code",
   "execution_count": 31,
   "metadata": {},
   "outputs": [
    {
     "name": "stdout",
     "output_type": "stream",
     "text": [
      "18786 71.908\n"
     ]
    }
   ],
   "source": [
    "count = 0\n",
    "for word in vocab_list_df2:\n",
    "    if word in vocab_list_df1: count += 1\n",
    "print(count, round((count*100)/len(vocab_list_df2), 3))"
   ]
  },
  {
   "cell_type": "markdown",
   "metadata": {},
   "source": [
    "Taking into account the 10000 most frequent words"
   ]
  },
  {
   "cell_type": "code",
   "execution_count": 33,
   "metadata": {},
   "outputs": [
    {
     "name": "stdout",
     "output_type": "stream",
     "text": [
      "6002 60.02\n"
     ]
    }
   ],
   "source": [
    "count = 0\n",
    "vocab_list_df1_10k = vocab_list_df1[:vocabulary_length]\n",
    "vocab_list_df2_10k = vocab_list_df2[:vocabulary_length]\n",
    "\n",
    "for word in vocab_list_df2_10k:\n",
    "    if word in vocab_list_df1_10k: count += 1\n",
    "print(count, round((count*100)/len(vocab_list_df2_10k), 3))"
   ]
  }
 ],
 "metadata": {
  "kernelspec": {
   "display_name": "Python 3",
   "language": "python",
   "name": "python3"
  },
  "language_info": {
   "codemirror_mode": {
    "name": "ipython",
    "version": 3
   },
   "file_extension": ".py",
   "mimetype": "text/x-python",
   "name": "python",
   "nbconvert_exporter": "python",
   "pygments_lexer": "ipython3",
   "version": "3.8.3"
  }
 },
 "nbformat": 4,
 "nbformat_minor": 2
}
