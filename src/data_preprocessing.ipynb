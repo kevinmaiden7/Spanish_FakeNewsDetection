{
 "cells": [
  {
   "cell_type": "code",
   "execution_count": 13,
   "metadata": {},
   "outputs": [
    {
     "name": "stderr",
     "output_type": "stream",
     "text": [
      "[nltk_data] Downloading package punkt to\n",
      "[nltk_data]     C:\\Users\\Kevin\\AppData\\Roaming\\nltk_data...\n",
      "[nltk_data]   Package punkt is already up-to-date!\n",
      "[nltk_data] Downloading package stopwords to\n",
      "[nltk_data]     C:\\Users\\Kevin\\AppData\\Roaming\\nltk_data...\n",
      "[nltk_data]   Package stopwords is already up-to-date!\n"
     ]
    }
   ],
   "source": [
    "import numpy as np\n",
    "import pandas as pd\n",
    "import re\n",
    "import string\n",
    "import nltk\n",
    "nltk.download('punkt')\n",
    "nltk.download('stopwords')\n",
    "from nltk import word_tokenize\n",
    "from nltk.stem import SnowballStemmer\n",
    "from sklearn.feature_extraction.text import CountVectorizer\n",
    "from sklearn.feature_extraction.text import TfidfVectorizer\n",
    "\n",
    "import matplotlib.pyplot as plt"
   ]
  },
  {
   "cell_type": "code",
   "execution_count": 2,
   "metadata": {},
   "outputs": [],
   "source": [
    "def max_length_text(df):\n",
    "    max_length = 0\n",
    "    for i in range(df.shape[0]):\n",
    "        length = np.size(word_tokenize(df.at[i, 'text']))\n",
    "        if length > max_length: max_length = length\n",
    "    return max_length"
   ]
  },
  {
   "cell_type": "code",
   "execution_count": 20,
   "metadata": {},
   "outputs": [],
   "source": [
    "def sequence_length_histogram(df):\n",
    "    lengths = []\n",
    "    for i in range(df.shape[0]):\n",
    "        length = np.size(word_tokenize(df.at[i, 'text']))\n",
    "        lengths.append(length)\n",
    "    \n",
    "    plt.hist(lengths, bins = 20)\n",
    "    plt.show()\n",
    "    return lengths"
   ]
  },
  {
   "cell_type": "code",
   "execution_count": 4,
   "metadata": {},
   "outputs": [],
   "source": [
    "def text_normalization(data):\n",
    "    data['text'] = data['text'].apply(lambda x: x.lower())\n",
    "    data['text'] = data['text'].apply((lambda x: re.sub('[%s]' % re.escape(string.punctuation), '', x)))"
   ]
  },
  {
   "cell_type": "code",
   "execution_count": 5,
   "metadata": {},
   "outputs": [],
   "source": [
    "def remove_stop_words(data, language, get_tokenize):\n",
    "    stopwords = nltk.corpus.stopwords.words(language)\n",
    "    if get_tokenize:\n",
    "        for i in range(data.shape[0]):\n",
    "            data.at[i, 'text'] = [word for word in nltk.word_tokenize(data.at[i, 'text']) if word not in stopwords]\n",
    "    else:\n",
    "        for i in range(data.shape[0]):\n",
    "            data.at[i, 'text'] = [word for word in nltk.word_tokenize(data.at[i, 'text']) if word not in stopwords]\n",
    "            data.at[i, 'text'] = ' '.join(data.at[i, 'text'])"
   ]
  },
  {
   "cell_type": "code",
   "execution_count": 6,
   "metadata": {},
   "outputs": [],
   "source": [
    "def apply_stemming(data, language):\n",
    "    stemmer = SnowballStemmer(language)\n",
    "    for i in range(data.shape[0]):\n",
    "         data.at[i, 'text'] = (' '.join([stemmer.stem(word) for word in data.at[i, 'text'].split()]))"
   ]
  },
  {
   "cell_type": "markdown",
   "metadata": {},
   "source": [
    "#### get_matrix representation | BoW and Tf-idf for Classic ML"
   ]
  },
  {
   "cell_type": "code",
   "execution_count": 7,
   "metadata": {},
   "outputs": [],
   "source": [
    "def get_matrix(data, representation, vocabulary_length, stemming, remove_stopwords, language):\n",
    "\n",
    "    df = data.copy(deep = True)\n",
    "    \n",
    "    text_normalization(df) # Text normalization\n",
    "    \n",
    "    # Stop_words\n",
    "    if remove_stopwords:\n",
    "        remove_stop_words(df, language, False)\n",
    "    \n",
    "    # Stemming\n",
    "    if stemming:\n",
    "        apply_stemming(df, language)\n",
    "    \n",
    "    # Word representation\n",
    "    if representation == 'BoW':\n",
    "        count_vectorizer = CountVectorizer(max_df = 0.9, max_features = vocabulary_length, min_df = 0)\n",
    "        #count_vectorizer = CountVectorizer(max_features = vocabulary_length)\n",
    "        matrix = count_vectorizer.fit_transform(df.text)\n",
    "        \n",
    "    elif representation == 'tf-idf':\n",
    "        tfidf_vectorizer = TfidfVectorizer(max_df = 0.9, max_features = vocabulary_length, min_df = 0, use_idf = True)\n",
    "        #tfidf_vectorizer = TfidfVectorizer(max_features = vocabulary_length, use_idf=True)\n",
    "        matrix = tfidf_vectorizer.fit_transform(df.text)\n",
    "    \n",
    "    return matrix, df"
   ]
  },
  {
   "cell_type": "markdown",
   "metadata": {},
   "source": [
    "#### Preprocessing for RNN - LSTM"
   ]
  },
  {
   "cell_type": "code",
   "execution_count": 8,
   "metadata": {},
   "outputs": [],
   "source": [
    "from tensorflow.keras.preprocessing.text import Tokenizer\n",
    "from tensorflow.keras.preprocessing.sequence import pad_sequences"
   ]
  },
  {
   "cell_type": "code",
   "execution_count": 9,
   "metadata": {},
   "outputs": [],
   "source": [
    "def get_input_RNN(data, stemming, remove_stopwords, vocabulary_length, max_length_sequence, language):\n",
    "    \n",
    "    df = data.copy(deep = True)\n",
    "    \n",
    "    text_normalization(df) # Text normalization\n",
    "    \n",
    "    # Stemming\n",
    "    if stemming:\n",
    "        apply_stemming(df, language)\n",
    "    \n",
    "    # Stop_words\n",
    "    if remove_stopwords:\n",
    "        remove_stop_words(df, language, True)\n",
    "        \n",
    "    # Tokenizer\n",
    "    tokenizer = Tokenizer(num_words = vocabulary_length)\n",
    "    tokenizer.fit_on_texts(df.text)\n",
    "    X = tokenizer.texts_to_sequences(df.text)\n",
    "    \n",
    "    # Padding\n",
    "    X = pad_sequences(X, maxlen = max_length_sequence, padding = 'post', truncating = 'post')\n",
    "    \n",
    "    return X, df"
   ]
  },
  {
   "cell_type": "markdown",
   "metadata": {},
   "source": [
    "#### Tests"
   ]
  },
  {
   "cell_type": "code",
   "execution_count": 10,
   "metadata": {},
   "outputs": [
    {
     "data": {
      "text/html": [
       "<div>\n",
       "<style scoped>\n",
       "    .dataframe tbody tr th:only-of-type {\n",
       "        vertical-align: middle;\n",
       "    }\n",
       "\n",
       "    .dataframe tbody tr th {\n",
       "        vertical-align: top;\n",
       "    }\n",
       "\n",
       "    .dataframe thead th {\n",
       "        text-align: right;\n",
       "    }\n",
       "</style>\n",
       "<table border=\"1\" class=\"dataframe\">\n",
       "  <thead>\n",
       "    <tr style=\"text-align: right;\">\n",
       "      <th></th>\n",
       "      <th>text</th>\n",
       "      <th>label</th>\n",
       "    </tr>\n",
       "  </thead>\n",
       "  <tbody>\n",
       "    <tr>\n",
       "      <td>0</td>\n",
       "      <td>RAE INCLUIRÁ LA PALABRA \"LADY\" EN EL DICCIONAR...</td>\n",
       "      <td>1</td>\n",
       "    </tr>\n",
       "    <tr>\n",
       "      <td>1</td>\n",
       "      <td>La palabra \"haiga\", aceptada por la RAE La Rea...</td>\n",
       "      <td>1</td>\n",
       "    </tr>\n",
       "    <tr>\n",
       "      <td>2</td>\n",
       "      <td>YORDI ROSADO ESCRIBIRÁ Y DISEÑARÁ LOS NUEVOS L...</td>\n",
       "      <td>1</td>\n",
       "    </tr>\n",
       "    <tr>\n",
       "      <td>3</td>\n",
       "      <td>UNAM capacitará a maestros para aprobar prueba...</td>\n",
       "      <td>0</td>\n",
       "    </tr>\n",
       "    <tr>\n",
       "      <td>4</td>\n",
       "      <td>Alerta: pretenden aprobar libros escolares con...</td>\n",
       "      <td>1</td>\n",
       "    </tr>\n",
       "    <tr>\n",
       "      <td>...</td>\n",
       "      <td>...</td>\n",
       "      <td>...</td>\n",
       "    </tr>\n",
       "    <tr>\n",
       "      <td>2566</td>\n",
       "      <td>Recuperamos la historia de Aleixandra, la jove...</td>\n",
       "      <td>0</td>\n",
       "    </tr>\n",
       "    <tr>\n",
       "      <td>2567</td>\n",
       "      <td>Reproches, tensión y sinceridad: la comida en ...</td>\n",
       "      <td>0</td>\n",
       "    </tr>\n",
       "    <tr>\n",
       "      <td>2568</td>\n",
       "      <td>RT @ElMundoOpinion: \"PSOE, PP, Ciudadanos y Vo...</td>\n",
       "      <td>0</td>\n",
       "    </tr>\n",
       "    <tr>\n",
       "      <td>2569</td>\n",
       "      <td>Rusia cita al embajador español por unas decla...</td>\n",
       "      <td>0</td>\n",
       "    </tr>\n",
       "    <tr>\n",
       "      <td>2570</td>\n",
       "      <td>Saeed Malekpour fue detenido en 2008, cuando v...</td>\n",
       "      <td>0</td>\n",
       "    </tr>\n",
       "  </tbody>\n",
       "</table>\n",
       "<p>2571 rows × 2 columns</p>\n",
       "</div>"
      ],
      "text/plain": [
       "                                                   text  label\n",
       "0     RAE INCLUIRÁ LA PALABRA \"LADY\" EN EL DICCIONAR...      1\n",
       "1     La palabra \"haiga\", aceptada por la RAE La Rea...      1\n",
       "2     YORDI ROSADO ESCRIBIRÁ Y DISEÑARÁ LOS NUEVOS L...      1\n",
       "3     UNAM capacitará a maestros para aprobar prueba...      0\n",
       "4     Alerta: pretenden aprobar libros escolares con...      1\n",
       "...                                                 ...    ...\n",
       "2566  Recuperamos la historia de Aleixandra, la jove...      0\n",
       "2567  Reproches, tensión y sinceridad: la comida en ...      0\n",
       "2568  RT @ElMundoOpinion: \"PSOE, PP, Ciudadanos y Vo...      0\n",
       "2569  Rusia cita al embajador español por unas decla...      0\n",
       "2570  Saeed Malekpour fue detenido en 2008, cuando v...      0\n",
       "\n",
       "[2571 rows x 2 columns]"
      ]
     },
     "execution_count": 10,
     "metadata": {},
     "output_type": "execute_result"
    }
   ],
   "source": [
    "dataset = pd.read_csv('../data/Merged/spanish_dataset.csv')\n",
    "dataset"
   ]
  },
  {
   "cell_type": "code",
   "execution_count": 11,
   "metadata": {},
   "outputs": [
    {
     "data": {
      "text/plain": [
       "2865"
      ]
     },
     "execution_count": 11,
     "metadata": {},
     "output_type": "execute_result"
    }
   ],
   "source": [
    "max_length_text(dataset)"
   ]
  },
  {
   "cell_type": "code",
   "execution_count": 21,
   "metadata": {},
   "outputs": [
    {
     "data": {
      "image/png": "[encoded data removed]",
      "text/plain": [
       "<Figure size 432x288 with 1 Axes>"
      ]
     },
     "metadata": {
      "needs_background": "light"
     },
     "output_type": "display_data"
    },
    {
     "name": "stdout",
     "output_type": "stream",
     "text": [
      "193.06\n"
     ]
    }
   ],
   "source": [
    "lengths = sequence_length_histogram(dataset)\n",
    "print(round(np.mean(lengths), 3))"
   ]
  },
  {
   "cell_type": "code",
   "execution_count": 22,
   "metadata": {},
   "outputs": [
    {
     "name": "stdout",
     "output_type": "stream",
     "text": [
      "RAE INCLUIRÁ LA PALABRA \"LADY\" EN EL DICCIONARIO DEL IDIOMA ESPAÑOL COMO DEFINICIÓN DE \"MUJER PROBLEMÁTICA\"\n",
      "España.- El presidente de la Real Academia Española (RAE), Darío Villanueva, informó en conferencia de prensa que a partir del próximo mes se incluirá el término \"Lady\" como una nueva palabra en el diccionario del idioma español.\n",
      "Darío señaló que \"Lady\" servirá para definir a una \"mujer problemática\" o a una \"mujer que causa problemas\", y mencionó que esta palabra será una de las pocas que también se utilizan en el idioma inglés pero que en castellano tiene un significado diferente:\n",
      "\"Son contadas las palabras del idioma inglés que se utilizan en el español pero que tienen otro significado. Con la globalización las personas han comenzado a adoptar términos anglosajones pero los utilizan con su significado real, sin embargo en este caso la expresión Lady no significará lo mismo que en su idioma original (\"dama\" en inglés) sino que se usará para definir a una mujer que es problemática o acostumbra causar problemas y alborotos.\n",
      "La gente podrá decirle Lady a una fémina que cause algún escándalo, sea agresiva o provoque algún tipo de problema. El término dejara de considerarse una palabra exclusiva del idioma inglés ya que tras se incluida en el diccionario de la lengua española también pasara ser una palabra oficial del castellano, pero con un significado distinto\", confesó.\n",
      "Villanueva presentó a los medios la definición oficial que aparecerá en los diccionarios, señalando que será la siguiente:\n",
      "-Lady\n",
      "Del anglosajón Ænglisc, part. de Difficilis 'problematica', ferox 'agresiva'\n",
      "*NUMBER*.- adj. f. Mujer excesivamente problemática\n",
      "*NUMBER*.- adj. f. Mujer que causa problemas o alborotos\n",
      "*NUMBER*.- adj. f. Mujer que tiende a causar conflictos, es agresiva\n",
      "Te puede interesar Cholas descubren que las Donitas Bimbo también se pueden comer y no solo sirven para maquillarse\n",
      "*NUMBER*.- adj. f. Mujer que se guía por sus instintos animales, que no le importa crear conflictos\n",
      "El presidente señaló que fue uno de los miembros mexicanos de la RAE quien propuso incluir la palabra, y tras meses de análisis finamente fue aceptada por el comité:\n",
      "\"Es una término que tuvo su origen en México pero se usará en todos los países de habla hispana. Los videos de las Lady´s que han circulado nos sirvieron para crear una perfecta definición, la cual servirá para resumir y definir a una hembra problemática\", dijo\n",
      "Por último, Darío reveló que también ya se encuentran analizando la idea de incluir el término Lord en el diccionario, que sería el equivalente a la definición masculina de Lady.\n"
     ]
    }
   ],
   "source": [
    "print(dataset.at[0, 'text'])"
   ]
  },
  {
   "cell_type": "code",
   "execution_count": 23,
   "metadata": {},
   "outputs": [
    {
     "name": "stdout",
     "output_type": "stream",
     "text": [
      "['rae', 'incluirá', 'palabra', 'lady', 'diccionario', 'idioma', 'español', 'definición', 'mujer', 'problemática', 'españa', 'presidente', 'real', 'academia', 'española', 'rae', 'darío', 'villanueva', 'informó', 'conferencia', 'prensa', 'partir', 'próximo', 'mes', 'incluirá', 'término', 'lady', 'nueva', 'palabra', 'diccionario', 'idioma', 'español', 'darío', 'señaló', 'lady', 'servirá', 'definir', 'mujer', 'problemática', 'mujer', 'causa', 'problemas', 'mencionó', 'palabra', 'pocas', 'utilizan', 'idioma', 'inglés', 'castellano', 'significado', 'diferente', 'contadas', 'palabras', 'idioma', 'inglés', 'utilizan', 'español', 'significado', 'globalización', 'personas', 'comenzado', 'adoptar', 'términos', 'anglosajones', 'utilizan', 'significado', 'real', 'embargo', 'caso', 'expresión', 'lady', 'significará', 'mismo', 'idioma', 'original', 'dama', 'inglés', 'sino', 'usará', 'definir', 'mujer', 'problemática', 'acostumbra', 'causar', 'problemas', 'alborotos', 'gente', 'podrá', 'decirle', 'lady', 'fémina', 'cause', 'algún', 'escándalo', 'agresiva', 'provoque', 'algún', 'tipo', 'problema', 'término', 'dejara', 'considerarse', 'palabra', 'exclusiva', 'idioma', 'inglés', 'tras', 'incluida', 'diccionario', 'lengua', 'española', 'pasara', 'ser', 'palabra', 'oficial', 'castellano', 'significado', 'distinto', 'confesó', 'villanueva', 'presentó', 'medios', 'definición', 'oficial', 'aparecerá', 'diccionarios', 'señalando', 'siguiente', 'lady', 'anglosajón', 'ænglisc', 'part', 'difficilis', 'problematica', 'ferox', 'agresiva', 'number', 'adj', 'f', 'mujer', 'excesivamente', 'problemática', 'number', 'adj', 'f', 'mujer', 'causa', 'problemas', 'alborotos', 'number', 'adj', 'f', 'mujer', 'tiende', 'causar', 'conflictos', 'agresiva', 'puede', 'interesar', 'cholas', 'descubren', 'donitas', 'bimbo', 'pueden', 'comer', 'solo', 'sirven', 'maquillarse', 'number', 'adj', 'f', 'mujer', 'guía', 'instintos', 'animales', 'importa', 'crear', 'conflictos', 'presidente', 'señaló', 'miembros', 'mexicanos', 'rae', 'propuso', 'incluir', 'palabra', 'tras', 'meses', 'análisis', 'finamente', 'aceptada', 'comité', 'término', 'origen', 'méxico', 'usará', 'países', 'habla', 'hispana', 'videos', 'lady´s', 'circulado', 'sirvieron', 'crear', 'perfecta', 'definición', 'servirá', 'resumir', 'definir', 'hembra', 'problemática', 'dijo', 'último', 'darío', 'reveló', 'encuentran', 'analizando', 'idea', 'incluir', 'término', 'lord', 'diccionario', 'equivalente', 'definición', 'masculina', 'lady']\n",
      "(2571, 2)\n"
     ]
    }
   ],
   "source": [
    "X, df = get_input_RNN(dataset, False, True, 10000, 500, language = 'spanish')\n",
    "# X, df = get_input_RNN(dataset, True, True, 40000, 2900, language = 'spanish')\n",
    "print(df.at[0, 'text'])\n",
    "print(df.shape)"
   ]
  },
  {
   "cell_type": "code",
   "execution_count": 24,
   "metadata": {},
   "outputs": [
    {
     "name": "stdout",
     "output_type": "stream",
     "text": [
      "(2571, 500)\n",
      "2571\n",
      "[1328 3124  729 2909 2261 1639  232 4706   91 5246   54    9  268  975\n",
      "  352 1328 4300 5247  359  330  176  138  166  122 3124 1786 2909   71\n",
      "  729 2261 1639  232 4300  123 2909 3125 1961   91 5246   91  548  326\n",
      "  303  729 1484 1962 1639  645 5942 3126 1485  463 1639  645 1962  232\n",
      " 3126 9847   17 2544 3939 1038 1962 3126  268   68   34 1329 2909   56\n",
      " 1639 2262  481  645  100 4707 1961   91 5246 9848 2411  326   63  264\n",
      " 3649 2909 9849 9850  464  838 4708 8041  464  170  315 1786 4301 9851\n",
      "  729 1559 1639  645   26 4302 2261 2711  352 6792    5  729  265 5942\n",
      " 3126 4303 1169 5247  769  104 4706  265 4304  887  534 2909 4708    1\n",
      " 8042 2545   91 8043 5246    1 8042 2545   91  548  326    1 8042 2545\n",
      "   91 5943 2411 2263 4708   27 9852 2712 9853  124 1285   31 5248    1\n",
      " 8042 2545   91 5249  646 1170  861 2263    9  123  564   80 1328 2713\n",
      " 1787  729   26   97 1127 6793 1330 1786  574    2 4707  167  713 6794\n",
      " 1039  861 4709 4706 3125 1961 9854 5246   11  215 4300  492  730 3940\n",
      "  248 1787 1786 9855 2261 2042 4706 9856 2909    0    0    0    0    0\n",
      "    0    0    0    0    0    0    0    0    0    0    0    0    0    0\n",
      "    0    0    0    0    0    0    0    0    0    0    0    0    0    0\n",
      "    0    0    0    0    0    0    0    0    0    0    0    0    0    0\n",
      "    0    0    0    0    0    0    0    0    0    0    0    0    0    0\n",
      "    0    0    0    0    0    0    0    0    0    0    0    0    0    0\n",
      "    0    0    0    0    0    0    0    0    0    0    0    0    0    0\n",
      "    0    0    0    0    0    0    0    0    0    0    0    0    0    0\n",
      "    0    0    0    0    0    0    0    0    0    0    0    0    0    0\n",
      "    0    0    0    0    0    0    0    0    0    0    0    0    0    0\n",
      "    0    0    0    0    0    0    0    0    0    0    0    0    0    0\n",
      "    0    0    0    0    0    0    0    0    0    0    0    0    0    0\n",
      "    0    0    0    0    0    0    0    0    0    0    0    0    0    0\n",
      "    0    0    0    0    0    0    0    0    0    0    0    0    0    0\n",
      "    0    0    0    0    0    0    0    0    0    0    0    0    0    0\n",
      "    0    0    0    0    0    0    0    0    0    0    0    0    0    0\n",
      "    0    0    0    0    0    0    0    0    0    0    0    0    0    0\n",
      "    0    0    0    0    0    0    0    0    0    0    0    0    0    0\n",
      "    0    0    0    0    0    0    0    0    0    0    0    0    0    0\n",
      "    0    0    0    0    0    0    0    0    0    0    0    0    0    0\n",
      "    0    0    0    0    0    0    0    0    0    0    0    0    0    0\n",
      "    0    0    0    0    0    0    0    0    0    0] 500\n",
      "[1328 3124  729 2909 2261 1639  232 4706   91 5246   54    9  268  975\n",
      "  352 1328 4300 5247  359  330  176  138  166  122 3124 1786 2909   71\n",
      "  729 2261 1639  232 4300  123 2909 3125 1961   91 5246   91  548  326\n",
      "  303  729 1484 1962 1639  645 5942 3126 1485  463 1639  645 1962  232\n",
      " 3126 9847   17 2544 3939 1038 1962 3126  268   68   34 1329 2909   56\n",
      " 1639 2262  481  645  100 4707 1961   91 5246 9848 2411  326   63  264\n",
      " 3649 2909 9849 9850  464  838 4708 8041  464  170  315 1786 4301 9851\n",
      "  729 1559 1639  645   26 4302 2261 2711  352 6792    5  729  265 5942\n",
      " 3126 4303 1169 5247  769  104 4706  265 4304  887  534 2909 4708    1\n",
      " 8042 2545   91 8043 5246    1 8042 2545   91  548  326    1 8042 2545\n",
      "   91 5943 2411 2263 4708   27 9852 2712 9853  124 1285   31 5248    1\n",
      " 8042 2545   91 5249  646 1170  861 2263    9  123  564   80 1328 2713\n",
      " 1787  729   26   97 1127 6793 1330 1786  574    2 4707  167  713 6794\n",
      " 1039  861 4709 4706 3125 1961 9854 5246   11  215 4300  492  730 3940\n",
      "  248 1787 1786 9855 2261 2042 4706 9856 2909    0    0    0    0    0\n",
      "    0    0    0    0    0    0    0    0    0    0    0    0    0    0\n",
      "    0    0    0    0    0    0    0    0    0    0    0    0    0    0\n",
      "    0    0    0    0    0    0    0    0    0    0    0    0    0    0\n",
      "    0    0    0    0    0    0    0    0    0    0    0    0    0    0\n",
      "    0    0    0    0    0    0    0    0    0    0    0    0    0    0\n",
      "    0    0    0    0    0    0    0    0    0    0    0    0    0    0\n",
      "    0    0    0    0    0    0    0    0    0    0    0    0    0    0\n",
      "    0    0    0    0    0    0    0    0    0    0    0    0    0    0\n",
      "    0    0    0    0    0    0    0    0    0    0    0    0    0    0\n",
      "    0    0    0    0    0    0    0    0    0    0    0    0    0    0\n",
      "    0    0    0    0    0    0    0    0    0    0    0    0    0    0\n",
      "    0    0    0    0    0    0    0    0    0    0    0    0    0    0\n",
      "    0    0    0    0    0    0    0    0    0    0    0    0    0    0\n",
      "    0    0    0    0    0    0    0    0    0    0    0    0    0    0\n",
      "    0    0    0    0    0    0    0    0    0    0    0    0    0    0\n",
      "    0    0    0    0    0    0    0    0    0    0    0    0    0    0\n",
      "    0    0    0    0    0    0    0    0    0    0    0    0    0    0\n",
      "    0    0    0    0    0    0    0    0    0    0    0    0    0    0\n",
      "    0    0    0    0    0    0    0    0    0    0    0    0    0    0\n",
      "    0    0    0    0    0    0    0    0    0    0    0    0    0    0\n",
      "    0    0    0    0    0    0    0    0    0    0]\n"
     ]
    }
   ],
   "source": [
    "print(X.shape)\n",
    "print(len(X))\n",
    "print(X[0], len(X[0]))\n",
    "print(X[0,:])"
   ]
  },
  {
   "cell_type": "code",
   "execution_count": 25,
   "metadata": {},
   "outputs": [
    {
     "name": "stdout",
     "output_type": "stream",
     "text": [
      "[ 729 6795 6793 1328  268  975 2711 1328 3379  223 6795 5944   40   17\n",
      " 9857 1128 9858 4710   53   42  279   81 8044 2711 9859   58  400  285\n",
      "    8 1012  437 1328 3380  152   20 3381 1286 1099  975 2711   26 8045\n",
      " 5944 1245   21 2714   17  493  493 6796 1963 1716 5945 5250  335 5946\n",
      " 4305   85 6795  190 2910 5946 4305 6795 8046  463 3379 1328 5251  794\n",
      "  152  289 5947  770  401  401  224  729  534  362    0    0    0    0\n",
      "    0    0    0    0    0    0    0    0    0    0    0    0    0    0\n",
      "    0    0    0    0    0    0    0    0    0    0    0    0    0    0\n",
      "    0    0    0    0    0    0    0    0    0    0    0    0    0    0\n",
      "    0    0    0    0    0    0    0    0    0    0    0    0    0    0\n",
      "    0    0    0    0    0    0    0    0    0    0    0    0    0    0\n",
      "    0    0    0    0    0    0    0    0    0    0    0    0    0    0\n",
      "    0    0    0    0    0    0    0    0    0    0    0    0    0    0\n",
      "    0    0    0    0    0    0    0    0    0    0    0    0    0    0\n",
      "    0    0    0    0    0    0    0    0    0    0    0    0    0    0\n",
      "    0    0    0    0    0    0    0    0    0    0    0    0    0    0\n",
      "    0    0    0    0    0    0    0    0    0    0    0    0    0    0\n",
      "    0    0    0    0    0    0    0    0    0    0    0    0    0    0\n",
      "    0    0    0    0    0    0    0    0    0    0    0    0    0    0\n",
      "    0    0    0    0    0    0    0    0    0    0    0    0    0    0\n",
      "    0    0    0    0    0    0    0    0    0    0    0    0    0    0\n",
      "    0    0    0    0    0    0    0    0    0    0    0    0    0    0\n",
      "    0    0    0    0    0    0    0    0    0    0    0    0    0    0\n",
      "    0    0    0    0    0    0    0    0    0    0    0    0    0    0\n",
      "    0    0    0    0    0    0    0    0    0    0    0    0    0    0\n",
      "    0    0    0    0    0    0    0    0    0    0    0    0    0    0\n",
      "    0    0    0    0    0    0    0    0    0    0    0    0    0    0\n",
      "    0    0    0    0    0    0    0    0    0    0    0    0    0    0\n",
      "    0    0    0    0    0    0    0    0    0    0    0    0    0    0\n",
      "    0    0    0    0    0    0    0    0    0    0    0    0    0    0\n",
      "    0    0    0    0    0    0    0    0    0    0    0    0    0    0\n",
      "    0    0    0    0    0    0    0    0    0    0    0    0    0    0\n",
      "    0    0    0    0    0    0    0    0    0    0    0    0    0    0\n",
      "    0    0    0    0    0    0    0    0    0    0    0    0    0    0\n",
      "    0    0    0    0    0    0    0    0    0    0    0    0    0    0\n",
      "    0    0    0    0    0    0    0    0    0    0] 500\n"
     ]
    }
   ],
   "source": [
    "print(X[1], len(X[1]))"
   ]
  }
 ],
 "metadata": {
  "kernelspec": {
   "display_name": "Python 3",
   "language": "python",
   "name": "python3"
  },
  "language_info": {
   "codemirror_mode": {
    "name": "ipython",
    "version": 3
   },
   "file_extension": ".py",
   "mimetype": "text/x-python",
   "name": "python",
   "nbconvert_exporter": "python",
   "pygments_lexer": "ipython3",
   "version": "3.7.4"
  }
 },
 "nbformat": 4,
 "nbformat_minor": 2
}
