{
 "cells": [
  {
   "cell_type": "code",
   "execution_count": 31,
   "metadata": {},
   "outputs": [],
   "source": [
    "import numpy as np\n",
    "import pandas as pd\n",
    "from sklearn.model_selection import GridSearchCV\n",
    "from sklearn.model_selection import ShuffleSplit\n",
    "from sklearn.preprocessing import StandardScaler\n",
    "from sklearn.metrics import accuracy_score\n",
    "\n",
    "from data_preprocessing import get_matrix"
   ]
  },
  {
   "cell_type": "code",
   "execution_count": 32,
   "metadata": {},
   "outputs": [],
   "source": [
    "def grid_search_cv(model, parameters, train_matrix, Y_train, test_matrix, Y_test):\n",
    "    \n",
    "    #scaler = StandardScaler().fit(train_matrix)\n",
    "    #X_train = scaler.transform(train_matrix)\n",
    "    \n",
    "    iterations = 5\n",
    "    shuffle_split = ShuffleSplit(n_splits=iterations, train_size=.75)\n",
    "    index = shuffle_split.split(train_matrix, Y_train)\n",
    "    \n",
    "    clf = GridSearchCV(model, parameters, cv = index, scoring = 'accuracy', verbose=12)\n",
    "    clf.fit(train_matrix, Y_train)\n",
    "    \n",
    "    best_model = clf.best_params_\n",
    "    best_score_validation = clf.best_score_\n",
    "    \n",
    "    #scaler = StandardScaler().fit(test_matrix)\n",
    "    #X_test = scaler.transform(test_matrix)\n",
    "\n",
    "    Y_pred = clf.predict(test_matrix)\n",
    "    accuracy = accuracy_score(Y_test, Y_pred)\n",
    "    \n",
    "    return best_model, best_score_validation, accuracy"
   ]
  },
  {
   "cell_type": "code",
   "execution_count": 5,
   "metadata": {},
   "outputs": [
    {
     "data": {
      "text/html": [
       "<div>\n",
       "<style scoped>\n",
       "    .dataframe tbody tr th:only-of-type {\n",
       "        vertical-align: middle;\n",
       "    }\n",
       "\n",
       "    .dataframe tbody tr th {\n",
       "        vertical-align: top;\n",
       "    }\n",
       "\n",
       "    .dataframe thead th {\n",
       "        text-align: right;\n",
       "    }\n",
       "</style>\n",
       "<table border=\"1\" class=\"dataframe\">\n",
       "  <thead>\n",
       "    <tr style=\"text-align: right;\">\n",
       "      <th></th>\n",
       "      <th>text</th>\n",
       "      <th>label</th>\n",
       "    </tr>\n",
       "  </thead>\n",
       "  <tbody>\n",
       "    <tr>\n",
       "      <td>0</td>\n",
       "      <td>RAE INCLUIRÁ LA PALABRA \"LADY\" EN EL DICCIONAR...</td>\n",
       "      <td>1</td>\n",
       "    </tr>\n",
       "    <tr>\n",
       "      <td>1</td>\n",
       "      <td>La palabra \"haiga\", aceptada por la RAE La Rea...</td>\n",
       "      <td>1</td>\n",
       "    </tr>\n",
       "    <tr>\n",
       "      <td>2</td>\n",
       "      <td>YORDI ROSADO ESCRIBIRÁ Y DISEÑARÁ LOS NUEVOS L...</td>\n",
       "      <td>1</td>\n",
       "    </tr>\n",
       "    <tr>\n",
       "      <td>3</td>\n",
       "      <td>UNAM capacitará a maestros para aprobar prueba...</td>\n",
       "      <td>0</td>\n",
       "    </tr>\n",
       "    <tr>\n",
       "      <td>4</td>\n",
       "      <td>Alerta: pretenden aprobar libros escolares con...</td>\n",
       "      <td>1</td>\n",
       "    </tr>\n",
       "    <tr>\n",
       "      <td>...</td>\n",
       "      <td>...</td>\n",
       "      <td>...</td>\n",
       "    </tr>\n",
       "    <tr>\n",
       "      <td>2271</td>\n",
       "      <td>Recuperamos la historia de Aleixandra, la jove...</td>\n",
       "      <td>0</td>\n",
       "    </tr>\n",
       "    <tr>\n",
       "      <td>2272</td>\n",
       "      <td>Reproches, tensión y sinceridad: la comida en ...</td>\n",
       "      <td>0</td>\n",
       "    </tr>\n",
       "    <tr>\n",
       "      <td>2273</td>\n",
       "      <td>RT @ElMundoOpinion: \"PSOE, PP, Ciudadanos y Vo...</td>\n",
       "      <td>0</td>\n",
       "    </tr>\n",
       "    <tr>\n",
       "      <td>2274</td>\n",
       "      <td>Rusia cita al embajador español por unas decla...</td>\n",
       "      <td>0</td>\n",
       "    </tr>\n",
       "    <tr>\n",
       "      <td>2275</td>\n",
       "      <td>Saeed Malekpour fue detenido en 2008, cuando v...</td>\n",
       "      <td>0</td>\n",
       "    </tr>\n",
       "  </tbody>\n",
       "</table>\n",
       "<p>2276 rows × 2 columns</p>\n",
       "</div>"
      ],
      "text/plain": [
       "                                                   text  label\n",
       "0     RAE INCLUIRÁ LA PALABRA \"LADY\" EN EL DICCIONAR...      1\n",
       "1     La palabra \"haiga\", aceptada por la RAE La Rea...      1\n",
       "2     YORDI ROSADO ESCRIBIRÁ Y DISEÑARÁ LOS NUEVOS L...      1\n",
       "3     UNAM capacitará a maestros para aprobar prueba...      0\n",
       "4     Alerta: pretenden aprobar libros escolares con...      1\n",
       "...                                                 ...    ...\n",
       "2271  Recuperamos la historia de Aleixandra, la jove...      0\n",
       "2272  Reproches, tensión y sinceridad: la comida en ...      0\n",
       "2273  RT @ElMundoOpinion: \"PSOE, PP, Ciudadanos y Vo...      0\n",
       "2274  Rusia cita al embajador español por unas decla...      0\n",
       "2275  Saeed Malekpour fue detenido en 2008, cuando v...      0\n",
       "\n",
       "[2276 rows x 2 columns]"
      ]
     },
     "execution_count": 5,
     "metadata": {},
     "output_type": "execute_result"
    }
   ],
   "source": [
    "train = pd.read_csv('../data/Merged/train.csv')\n",
    "train"
   ]
  },
  {
   "cell_type": "code",
   "execution_count": 6,
   "metadata": {},
   "outputs": [
    {
     "data": {
      "text/html": [
       "<div>\n",
       "<style scoped>\n",
       "    .dataframe tbody tr th:only-of-type {\n",
       "        vertical-align: middle;\n",
       "    }\n",
       "\n",
       "    .dataframe tbody tr th {\n",
       "        vertical-align: top;\n",
       "    }\n",
       "\n",
       "    .dataframe thead th {\n",
       "        text-align: right;\n",
       "    }\n",
       "</style>\n",
       "<table border=\"1\" class=\"dataframe\">\n",
       "  <thead>\n",
       "    <tr style=\"text-align: right;\">\n",
       "      <th></th>\n",
       "      <th>text</th>\n",
       "      <th>label</th>\n",
       "    </tr>\n",
       "  </thead>\n",
       "  <tbody>\n",
       "    <tr>\n",
       "      <td>0</td>\n",
       "      <td>MAESTRA DE *NUMBER* AÑOS QUE TUVO RELACIONES C...</td>\n",
       "      <td>1</td>\n",
       "    </tr>\n",
       "    <tr>\n",
       "      <td>1</td>\n",
       "      <td>Oxford lanza sus propios exámenes de certifica...</td>\n",
       "      <td>0</td>\n",
       "    </tr>\n",
       "    <tr>\n",
       "      <td>2</td>\n",
       "      <td>La RAE estudia incluir «machirulo» en el Dicci...</td>\n",
       "      <td>0</td>\n",
       "    </tr>\n",
       "    <tr>\n",
       "      <td>3</td>\n",
       "      <td>Malala Yousafzai anuncia que estudiará en Oxfo...</td>\n",
       "      <td>0</td>\n",
       "    </tr>\n",
       "    <tr>\n",
       "      <td>4</td>\n",
       "      <td>Nombran a Ricardo Arjona nuevo miembro de la R...</td>\n",
       "      <td>1</td>\n",
       "    </tr>\n",
       "    <tr>\n",
       "      <td>...</td>\n",
       "      <td>...</td>\n",
       "      <td>...</td>\n",
       "    </tr>\n",
       "    <tr>\n",
       "      <td>290</td>\n",
       "      <td>Meryl Streep disfrutó unos premios Oscar tan m...</td>\n",
       "      <td>0</td>\n",
       "    </tr>\n",
       "    <tr>\n",
       "      <td>291</td>\n",
       "      <td>EL PLAGIO DE LANA DEL REY A RADIOHEAD FUE ACOR...</td>\n",
       "      <td>1</td>\n",
       "    </tr>\n",
       "    <tr>\n",
       "      <td>292</td>\n",
       "      <td>Ricardo Arjona lanza una serie documental por ...</td>\n",
       "      <td>0</td>\n",
       "    </tr>\n",
       "    <tr>\n",
       "      <td>293</td>\n",
       "      <td>Raúl Araiza sorprende a Andrea Legarreta con b...</td>\n",
       "      <td>0</td>\n",
       "    </tr>\n",
       "    <tr>\n",
       "      <td>294</td>\n",
       "      <td>Adal Ramones protagonizará el remake de El Cha...</td>\n",
       "      <td>1</td>\n",
       "    </tr>\n",
       "  </tbody>\n",
       "</table>\n",
       "<p>295 rows × 2 columns</p>\n",
       "</div>"
      ],
      "text/plain": [
       "                                                  text  label\n",
       "0    MAESTRA DE *NUMBER* AÑOS QUE TUVO RELACIONES C...      1\n",
       "1    Oxford lanza sus propios exámenes de certifica...      0\n",
       "2    La RAE estudia incluir «machirulo» en el Dicci...      0\n",
       "3    Malala Yousafzai anuncia que estudiará en Oxfo...      0\n",
       "4    Nombran a Ricardo Arjona nuevo miembro de la R...      1\n",
       "..                                                 ...    ...\n",
       "290  Meryl Streep disfrutó unos premios Oscar tan m...      0\n",
       "291  EL PLAGIO DE LANA DEL REY A RADIOHEAD FUE ACOR...      1\n",
       "292  Ricardo Arjona lanza una serie documental por ...      0\n",
       "293  Raúl Araiza sorprende a Andrea Legarreta con b...      0\n",
       "294  Adal Ramones protagonizará el remake de El Cha...      1\n",
       "\n",
       "[295 rows x 2 columns]"
      ]
     },
     "execution_count": 6,
     "metadata": {},
     "output_type": "execute_result"
    }
   ],
   "source": [
    "test = pd.read_csv('../data/Merged/test.csv')\n",
    "test"
   ]
  },
  {
   "cell_type": "code",
   "execution_count": 34,
   "metadata": {},
   "outputs": [
    {
     "name": "stdout",
     "output_type": "stream",
     "text": [
      "(2276, 3000)\n"
     ]
    }
   ],
   "source": [
    "train_matrix, df_train = get_matrix(train, 'BoW', vocabulary_length = 3000, stop_words_flag = True, language = 'spanish')\n",
    "print(train_matrix.shape)"
   ]
  },
  {
   "cell_type": "code",
   "execution_count": 35,
   "metadata": {},
   "outputs": [
    {
     "name": "stdout",
     "output_type": "stream",
     "text": [
      "(295, 3000)\n"
     ]
    }
   ],
   "source": [
    "test_matrix, df_train = get_matrix(test, 'BoW', vocabulary_length = 3000, stop_words_flag = True, language = 'spanish')\n",
    "print(test_matrix.shape)"
   ]
  },
  {
   "cell_type": "code",
   "execution_count": 22,
   "metadata": {},
   "outputs": [
    {
     "name": "stdout",
     "output_type": "stream",
     "text": [
      "2276\n",
      "295\n"
     ]
    }
   ],
   "source": [
    "Y_train = train.label.tolist()\n",
    "print(np.size(Y_train))\n",
    "Y_test = test.label.tolist()\n",
    "print(np.size(Y_test))"
   ]
  },
  {
   "cell_type": "markdown",
   "metadata": {},
   "source": [
    "### Random Forest"
   ]
  },
  {
   "cell_type": "code",
   "execution_count": 36,
   "metadata": {},
   "outputs": [],
   "source": [
    "from sklearn.ensemble import RandomForestClassifier\n",
    "\n",
    "model = RandomForestClassifier()\n",
    "parameters = {'n_estimators': [5,10,20,50,100],\n",
    "             'max_features': [5,10,50,100]}"
   ]
  },
  {
   "cell_type": "code",
   "execution_count": 37,
   "metadata": {},
   "outputs": [
    {
     "name": "stdout",
     "output_type": "stream",
     "text": [
      "Fitting 5 folds for each of 20 candidates, totalling 100 fits\n",
      "[CV] max_features=5, n_estimators=5 ..................................\n",
      "[CV] ...... max_features=5, n_estimators=5, score=0.610, total=   0.1s\n",
      "[CV] max_features=5, n_estimators=5 ..................................\n",
      "[CV] ...... max_features=5, n_estimators=5, score=0.654, total=   0.1s\n",
      "[CV] max_features=5, n_estimators=5 ..................................\n",
      "[CV] ...... max_features=5, n_estimators=5, score=0.591, total=   0.1s"
     ]
    },
    {
     "name": "stderr",
     "output_type": "stream",
     "text": [
      "[Parallel(n_jobs=1)]: Using backend SequentialBackend with 1 concurrent workers.\n",
      "[Parallel(n_jobs=1)]: Done   1 out of   1 | elapsed:    0.0s remaining:    0.0s\n",
      "[Parallel(n_jobs=1)]: Done   2 out of   2 | elapsed:    0.1s remaining:    0.0s\n"
     ]
    },
    {
     "name": "stdout",
     "output_type": "stream",
     "text": [
      "\n",
      "[CV] max_features=5, n_estimators=5 ..................................\n",
      "[CV] ...... max_features=5, n_estimators=5, score=0.636, total=   0.1s\n",
      "[CV] max_features=5, n_estimators=5 ..................................\n",
      "[CV] ...... max_features=5, n_estimators=5, score=0.634, total=   0.1s\n",
      "[CV] max_features=5, n_estimators=10 .................................\n"
     ]
    },
    {
     "name": "stderr",
     "output_type": "stream",
     "text": [
      "[Parallel(n_jobs=1)]: Done   3 out of   3 | elapsed:    0.1s remaining:    0.0s\n",
      "[Parallel(n_jobs=1)]: Done   4 out of   4 | elapsed:    0.2s remaining:    0.0s\n",
      "[Parallel(n_jobs=1)]: Done   5 out of   5 | elapsed:    0.2s remaining:    0.0s\n",
      "[Parallel(n_jobs=1)]: Done   6 out of   6 | elapsed:    0.4s remaining:    0.0s\n"
     ]
    },
    {
     "name": "stdout",
     "output_type": "stream",
     "text": [
      "[CV] ..... max_features=5, n_estimators=10, score=0.640, total=   0.1s\n",
      "[CV] max_features=5, n_estimators=10 .................................\n",
      "[CV] ..... max_features=5, n_estimators=10, score=0.666, total=   0.1s\n",
      "[CV] max_features=5, n_estimators=10 .................................\n",
      "[CV] ..... max_features=5, n_estimators=10, score=0.659, total=   0.1s"
     ]
    },
    {
     "name": "stderr",
     "output_type": "stream",
     "text": [
      "[Parallel(n_jobs=1)]: Done   7 out of   7 | elapsed:    0.4s remaining:    0.0s\n",
      "[Parallel(n_jobs=1)]: Done   8 out of   8 | elapsed:    0.5s remaining:    0.0s\n",
      "[Parallel(n_jobs=1)]: Done   9 out of   9 | elapsed:    0.6s remaining:    0.0s\n"
     ]
    },
    {
     "name": "stdout",
     "output_type": "stream",
     "text": [
      "\n",
      "[CV] max_features=5, n_estimators=10 .................................\n",
      "[CV] ..... max_features=5, n_estimators=10, score=0.668, total=   0.1s\n",
      "[CV] max_features=5, n_estimators=10 .................................\n",
      "[CV] ..... max_features=5, n_estimators=10, score=0.638, total=   0.1s\n",
      "[CV] max_features=5, n_estimators=20 .................................\n"
     ]
    },
    {
     "name": "stderr",
     "output_type": "stream",
     "text": [
      "[Parallel(n_jobs=1)]: Done  10 out of  10 | elapsed:    0.7s remaining:    0.0s\n",
      "[Parallel(n_jobs=1)]: Done  11 out of  11 | elapsed:    0.9s remaining:    0.0s\n"
     ]
    },
    {
     "name": "stdout",
     "output_type": "stream",
     "text": [
      "[CV] ..... max_features=5, n_estimators=20, score=0.703, total=   0.2s\n",
      "[CV] max_features=5, n_estimators=20 .................................\n",
      "[CV] ..... max_features=5, n_estimators=20, score=0.670, total=   0.2s\n",
      "[CV] max_features=5, n_estimators=20 .................................\n",
      "[CV] ..... max_features=5, n_estimators=20, score=0.671, total=   0.2s\n",
      "[CV] max_features=5, n_estimators=20 .................................\n",
      "[CV] ..... max_features=5, n_estimators=20, score=0.677, total=   0.2s\n",
      "[CV] max_features=5, n_estimators=20 .................................\n",
      "[CV] ..... max_features=5, n_estimators=20, score=0.663, total=   0.3s\n",
      "[CV] max_features=5, n_estimators=50 .................................\n",
      "[CV] ..... max_features=5, n_estimators=50, score=0.724, total=   0.5s\n",
      "[CV] max_features=5, n_estimators=50 .................................\n",
      "[CV] ..... max_features=5, n_estimators=50, score=0.740, total=   0.5s\n",
      "[CV] max_features=5, n_estimators=50 .................................\n",
      "[CV] ..... max_features=5, n_estimators=50, score=0.705, total=   0.4s\n",
      "[CV] max_features=5, n_estimators=50 .................................\n",
      "[CV] ..... max_features=5, n_estimators=50, score=0.691, total=   0.4s\n",
      "[CV] max_features=5, n_estimators=50 .................................\n",
      "[CV] ..... max_features=5, n_estimators=50, score=0.714, total=   0.4s\n",
      "[CV] max_features=5, n_estimators=100 ................................\n",
      "[CV] .... max_features=5, n_estimators=100, score=0.729, total=   1.0s\n",
      "[CV] max_features=5, n_estimators=100 ................................\n",
      "[CV] .... max_features=5, n_estimators=100, score=0.731, total=   0.9s\n",
      "[CV] max_features=5, n_estimators=100 ................................\n",
      "[CV] .... max_features=5, n_estimators=100, score=0.717, total=   1.1s\n",
      "[CV] max_features=5, n_estimators=100 ................................\n",
      "[CV] .... max_features=5, n_estimators=100, score=0.752, total=   1.0s\n",
      "[CV] max_features=5, n_estimators=100 ................................\n",
      "[CV] .... max_features=5, n_estimators=100, score=0.743, total=   1.1s\n",
      "[CV] max_features=10, n_estimators=5 .................................\n",
      "[CV] ..... max_features=10, n_estimators=5, score=0.612, total=   0.1s\n",
      "[CV] max_features=10, n_estimators=5 .................................\n",
      "[CV] ..... max_features=10, n_estimators=5, score=0.610, total=   0.1s\n",
      "[CV] max_features=10, n_estimators=5 .................................\n",
      "[CV] ..... max_features=10, n_estimators=5, score=0.591, total=   0.1s\n",
      "[CV] max_features=10, n_estimators=5 .................................\n",
      "[CV] ..... max_features=10, n_estimators=5, score=0.589, total=   0.1s\n",
      "[CV] max_features=10, n_estimators=5 .................................\n",
      "[CV] ..... max_features=10, n_estimators=5, score=0.615, total=   0.1s\n",
      "[CV] max_features=10, n_estimators=10 ................................\n",
      "[CV] .... max_features=10, n_estimators=10, score=0.650, total=   0.1s\n",
      "[CV] max_features=10, n_estimators=10 ................................\n",
      "[CV] .... max_features=10, n_estimators=10, score=0.643, total=   0.1s\n",
      "[CV] max_features=10, n_estimators=10 ................................\n",
      "[CV] .... max_features=10, n_estimators=10, score=0.652, total=   0.1s\n",
      "[CV] max_features=10, n_estimators=10 ................................\n",
      "[CV] .... max_features=10, n_estimators=10, score=0.678, total=   0.1s\n",
      "[CV] max_features=10, n_estimators=10 ................................\n",
      "[CV] .... max_features=10, n_estimators=10, score=0.647, total=   0.1s\n",
      "[CV] max_features=10, n_estimators=20 ................................\n",
      "[CV] .... max_features=10, n_estimators=20, score=0.689, total=   0.2s\n",
      "[CV] max_features=10, n_estimators=20 ................................\n",
      "[CV] .... max_features=10, n_estimators=20, score=0.689, total=   0.2s\n",
      "[CV] max_features=10, n_estimators=20 ................................\n",
      "[CV] .... max_features=10, n_estimators=20, score=0.687, total=   0.2s\n",
      "[CV] max_features=10, n_estimators=20 ................................\n",
      "[CV] .... max_features=10, n_estimators=20, score=0.699, total=   0.2s\n",
      "[CV] max_features=10, n_estimators=20 ................................\n",
      "[CV] .... max_features=10, n_estimators=20, score=0.687, total=   0.2s\n",
      "[CV] max_features=10, n_estimators=50 ................................\n",
      "[CV] .... max_features=10, n_estimators=50, score=0.752, total=   0.4s\n",
      "[CV] max_features=10, n_estimators=50 ................................\n",
      "[CV] .... max_features=10, n_estimators=50, score=0.712, total=   0.4s\n",
      "[CV] max_features=10, n_estimators=50 ................................\n",
      "[CV] .... max_features=10, n_estimators=50, score=0.731, total=   0.5s\n",
      "[CV] max_features=10, n_estimators=50 ................................\n",
      "[CV] .... max_features=10, n_estimators=50, score=0.692, total=   0.5s\n",
      "[CV] max_features=10, n_estimators=50 ................................\n",
      "[CV] .... max_features=10, n_estimators=50, score=0.701, total=   0.5s\n",
      "[CV] max_features=10, n_estimators=100 ...............................\n",
      "[CV] ... max_features=10, n_estimators=100, score=0.756, total=   0.9s\n",
      "[CV] max_features=10, n_estimators=100 ...............................\n",
      "[CV] ... max_features=10, n_estimators=100, score=0.733, total=   0.8s\n",
      "[CV] max_features=10, n_estimators=100 ...............................\n",
      "[CV] ... max_features=10, n_estimators=100, score=0.710, total=   0.9s\n",
      "[CV] max_features=10, n_estimators=100 ...............................\n",
      "[CV] ... max_features=10, n_estimators=100, score=0.754, total=   1.2s\n",
      "[CV] max_features=10, n_estimators=100 ...............................\n",
      "[CV] ... max_features=10, n_estimators=100, score=0.735, total=   0.9s\n",
      "[CV] max_features=50, n_estimators=5 .................................\n",
      "[CV] ..... max_features=50, n_estimators=5, score=0.675, total=   0.1s\n",
      "[CV] max_features=50, n_estimators=5 .................................\n",
      "[CV] ..... max_features=50, n_estimators=5, score=0.649, total=   0.1s\n",
      "[CV] max_features=50, n_estimators=5 .................................\n",
      "[CV] ..... max_features=50, n_estimators=5, score=0.636, total=   0.1s\n",
      "[CV] max_features=50, n_estimators=5 .................................\n",
      "[CV] ..... max_features=50, n_estimators=5, score=0.663, total=   0.1s\n",
      "[CV] max_features=50, n_estimators=5 .................................\n",
      "[CV] ..... max_features=50, n_estimators=5, score=0.656, total=   0.1s\n",
      "[CV] max_features=50, n_estimators=10 ................................\n",
      "[CV] .... max_features=50, n_estimators=10, score=0.721, total=   0.1s\n",
      "[CV] max_features=50, n_estimators=10 ................................\n",
      "[CV] .... max_features=50, n_estimators=10, score=0.684, total=   0.1s\n",
      "[CV] max_features=50, n_estimators=10 ................................\n",
      "[CV] .... max_features=50, n_estimators=10, score=0.701, total=   0.1s\n",
      "[CV] max_features=50, n_estimators=10 ................................\n",
      "[CV] .... max_features=50, n_estimators=10, score=0.675, total=   0.1s\n",
      "[CV] max_features=50, n_estimators=10 ................................\n",
      "[CV] .... max_features=50, n_estimators=10, score=0.680, total=   0.1s\n",
      "[CV] max_features=50, n_estimators=20 ................................\n",
      "[CV] .... max_features=50, n_estimators=20, score=0.726, total=   0.2s\n",
      "[CV] max_features=50, n_estimators=20 ................................\n",
      "[CV] .... max_features=50, n_estimators=20, score=0.708, total=   0.3s\n",
      "[CV] max_features=50, n_estimators=20 ................................\n",
      "[CV] .... max_features=50, n_estimators=20, score=0.696, total=   0.2s\n",
      "[CV] max_features=50, n_estimators=20 ................................\n",
      "[CV] .... max_features=50, n_estimators=20, score=0.694, total=   0.2s\n",
      "[CV] max_features=50, n_estimators=20 ................................\n",
      "[CV] .... max_features=50, n_estimators=20, score=0.673, total=   0.3s\n",
      "[CV] max_features=50, n_estimators=50 ................................\n",
      "[CV] .... max_features=50, n_estimators=50, score=0.740, total=   0.8s\n",
      "[CV] max_features=50, n_estimators=50 ................................\n",
      "[CV] .... max_features=50, n_estimators=50, score=0.733, total=   0.6s\n",
      "[CV] max_features=50, n_estimators=50 ................................\n",
      "[CV] .... max_features=50, n_estimators=50, score=0.724, total=   0.6s\n",
      "[CV] max_features=50, n_estimators=50 ................................\n"
     ]
    },
    {
     "name": "stdout",
     "output_type": "stream",
     "text": [
      "[CV] .... max_features=50, n_estimators=50, score=0.733, total=   0.6s\n",
      "[CV] max_features=50, n_estimators=50 ................................\n",
      "[CV] .... max_features=50, n_estimators=50, score=0.701, total=   0.5s\n",
      "[CV] max_features=50, n_estimators=100 ...............................\n",
      "[CV] ... max_features=50, n_estimators=100, score=0.757, total=   1.1s\n",
      "[CV] max_features=50, n_estimators=100 ...............................\n",
      "[CV] ... max_features=50, n_estimators=100, score=0.736, total=   1.1s\n",
      "[CV] max_features=50, n_estimators=100 ...............................\n",
      "[CV] ... max_features=50, n_estimators=100, score=0.731, total=   1.1s\n",
      "[CV] max_features=50, n_estimators=100 ...............................\n",
      "[CV] ... max_features=50, n_estimators=100, score=0.763, total=   1.1s\n",
      "[CV] max_features=50, n_estimators=100 ...............................\n",
      "[CV] ... max_features=50, n_estimators=100, score=0.731, total=   1.5s\n",
      "[CV] max_features=100, n_estimators=5 ................................\n",
      "[CV] .... max_features=100, n_estimators=5, score=0.668, total=   0.1s\n",
      "[CV] max_features=100, n_estimators=5 ................................\n",
      "[CV] .... max_features=100, n_estimators=5, score=0.622, total=   0.1s\n",
      "[CV] max_features=100, n_estimators=5 ................................\n",
      "[CV] .... max_features=100, n_estimators=5, score=0.650, total=   0.1s\n",
      "[CV] max_features=100, n_estimators=5 ................................\n",
      "[CV] .... max_features=100, n_estimators=5, score=0.668, total=   0.1s\n",
      "[CV] max_features=100, n_estimators=5 ................................\n",
      "[CV] .... max_features=100, n_estimators=5, score=0.634, total=   0.1s\n",
      "[CV] max_features=100, n_estimators=10 ...............................\n",
      "[CV] ... max_features=100, n_estimators=10, score=0.698, total=   0.2s\n",
      "[CV] max_features=100, n_estimators=10 ...............................\n",
      "[CV] ... max_features=100, n_estimators=10, score=0.678, total=   0.3s\n",
      "[CV] max_features=100, n_estimators=10 ...............................\n",
      "[CV] ... max_features=100, n_estimators=10, score=0.677, total=   0.2s\n",
      "[CV] max_features=100, n_estimators=10 ...............................\n",
      "[CV] ... max_features=100, n_estimators=10, score=0.694, total=   0.2s\n",
      "[CV] max_features=100, n_estimators=10 ...............................\n",
      "[CV] ... max_features=100, n_estimators=10, score=0.691, total=   0.2s\n",
      "[CV] max_features=100, n_estimators=20 ...............................\n",
      "[CV] ... max_features=100, n_estimators=20, score=0.735, total=   0.4s\n",
      "[CV] max_features=100, n_estimators=20 ...............................\n",
      "[CV] ... max_features=100, n_estimators=20, score=0.699, total=   0.5s\n",
      "[CV] max_features=100, n_estimators=20 ...............................\n",
      "[CV] ... max_features=100, n_estimators=20, score=0.685, total=   0.4s\n",
      "[CV] max_features=100, n_estimators=20 ...............................\n",
      "[CV] ... max_features=100, n_estimators=20, score=0.729, total=   0.5s\n",
      "[CV] max_features=100, n_estimators=20 ...............................\n",
      "[CV] ... max_features=100, n_estimators=20, score=0.684, total=   0.3s\n",
      "[CV] max_features=100, n_estimators=50 ...............................\n",
      "[CV] ... max_features=100, n_estimators=50, score=0.749, total=   0.9s\n",
      "[CV] max_features=100, n_estimators=50 ...............................\n",
      "[CV] ... max_features=100, n_estimators=50, score=0.719, total=   0.8s\n",
      "[CV] max_features=100, n_estimators=50 ...............................\n",
      "[CV] ... max_features=100, n_estimators=50, score=0.712, total=   0.7s\n",
      "[CV] max_features=100, n_estimators=50 ...............................\n",
      "[CV] ... max_features=100, n_estimators=50, score=0.752, total=   0.8s\n",
      "[CV] max_features=100, n_estimators=50 ...............................\n",
      "[CV] ... max_features=100, n_estimators=50, score=0.707, total=   0.8s\n",
      "[CV] max_features=100, n_estimators=100 ..............................\n",
      "[CV] .. max_features=100, n_estimators=100, score=0.749, total=   1.5s\n",
      "[CV] max_features=100, n_estimators=100 ..............................\n",
      "[CV] .. max_features=100, n_estimators=100, score=0.708, total=   1.6s\n",
      "[CV] max_features=100, n_estimators=100 ..............................\n",
      "[CV] .. max_features=100, n_estimators=100, score=0.726, total=   1.8s\n",
      "[CV] max_features=100, n_estimators=100 ..............................\n",
      "[CV] .. max_features=100, n_estimators=100, score=0.750, total=   1.6s\n",
      "[CV] max_features=100, n_estimators=100 ..............................\n",
      "[CV] .. max_features=100, n_estimators=100, score=0.724, total=   1.6s\n"
     ]
    },
    {
     "name": "stderr",
     "output_type": "stream",
     "text": [
      "[Parallel(n_jobs=1)]: Done 100 out of 100 | elapsed:   45.0s finished\n"
     ]
    },
    {
     "data": {
      "text/plain": [
       "({'max_features': 50, 'n_estimators': 100},\n",
       " 0.7437609841827768,\n",
       " 0.5457627118644067)"
      ]
     },
     "execution_count": 37,
     "metadata": {},
     "output_type": "execute_result"
    }
   ],
   "source": [
    "grid_search_cv(model, parameters, train_matrix, Y_train, test_matrix, Y_test)"
   ]
  },
  {
   "cell_type": "markdown",
   "metadata": {},
   "source": [
    "Model"
   ]
  }
 ],
 "metadata": {
  "kernelspec": {
   "display_name": "Python 3",
   "language": "python",
   "name": "python3"
  },
  "language_info": {
   "codemirror_mode": {
    "name": "ipython",
    "version": 3
   },
   "file_extension": ".py",
   "mimetype": "text/x-python",
   "name": "python",
   "nbconvert_exporter": "python",
   "pygments_lexer": "ipython3",
   "version": "3.7.4"
  }
 },
 "nbformat": 4,
 "nbformat_minor": 2
}
