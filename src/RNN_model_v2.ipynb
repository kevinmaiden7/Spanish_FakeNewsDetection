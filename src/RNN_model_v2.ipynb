{
 "cells": [
  {
   "cell_type": "code",
   "execution_count": null,
   "metadata": {},
   "outputs": [],
   "source": [
    "import numpy as np\n",
    "import pandas as pd\n",
    "from sklearn.model_selection import GridSearchCV\n",
    "from sklearn.model_selection import ShuffleSplit\n",
    "from sklearn.model_selection import train_test_split\n",
    "from sklearn.metrics import accuracy_score\n",
    "\n",
    "from data_preprocessing import get_input_RNN\n",
    "\n",
    "from keras.models import Model\n",
    "from keras.layers import Input, LSTM, Dense, Activation, Bidirectional\n",
    "from keras.layers.embeddings import Embedding\n",
    "\n",
    "from tensorflow.keras import regularizers"
   ]
  },
  {
   "cell_type": "code",
   "execution_count": null,
   "metadata": {},
   "outputs": [],
   "source": [
    "def create_model(vocabulary_length, max_length_sequence, emb_dim, lstm_units, l2_kernel, l2_bias, l2_activity):\n",
    "    \n",
    "    X_input = Input(shape = (max_length_sequence, ))\n",
    "    embedding_layer = Embedding(input_dim = vocabulary_length, output_dim = emb_dim,\n",
    "                                trainable = True, mask_zero = True)(X_input)\n",
    "    \n",
    "    X = LSTM(units = lstm_units, return_sequences = False,\n",
    "            kernel_regularizer = regularizers.l2(l2_kernel),\n",
    "            bias_regularizer = regularizers.l2(l2_bias),\n",
    "            activity_regularizer=regularizers.l2(l2_activity))(embedding_layer)\n",
    "    \n",
    "    X = Dense(units = 1)(X)\n",
    "    X = Activation('sigmoid')(X)\n",
    "                          \n",
    "    model = Model(inputs = X_input, outputs = X)\n",
    "                          \n",
    "    return(model)"
   ]
  },
  {
   "cell_type": "code",
   "execution_count": null,
   "metadata": {},
   "outputs": [],
   "source": [
    "#model = create_model(10000, 500, 100, lstm_units = 64, l2_kernel = 0.01, l2_bias = 0.01, l2_activity = 0.01)\n",
    "#model.summary()"
   ]
  },
  {
   "cell_type": "code",
   "execution_count": null,
   "metadata": {},
   "outputs": [],
   "source": [
    "def grid_search(X, dataset, epochs, vocabulary_length, max_length_sequence, emb_dim, \n",
    "                lstm_units, l2_kernel, l2_bias, l2_activity):\n",
    "    \n",
    "    Y = dataset.label.values\n",
    "    \n",
    "    X_train, X_test, y_train, y_test = train_test_split(X, Y, test_size = 0.2, shuffle = True)\n",
    "\n",
    "    mean_dev_accuracy = np.zeros(np.size(lstm_units))\n",
    "    \n",
    "    for i in range(np.size(lstm_units)):\n",
    "    \n",
    "        iterations = 5\n",
    "        dev_accuracy_shuffle_split = np.zeros(iterations)\n",
    "        shuffle = ShuffleSplit(n_splits = iterations, test_size = 0.2)\n",
    "\n",
    "        j = 0\n",
    "        for train, dev in shuffle.split(X_train, y_train):\n",
    "            Xtrain = X_train[train]\n",
    "            Ytrain = y_train[train]\n",
    "            Xdev = X_train[dev]\n",
    "            Ydev = y_train[dev]\n",
    "\n",
    "            model = create_model(vocabulary_length, max_length_sequence, emb_dim, lstm_units = lstm_units[i], \n",
    "                                 l2_kernel = l2_kernel, l2_bias = l2_bias, l2_activity = l2_activity) # Create model\n",
    "            \n",
    "            model.compile(loss = 'binary_crossentropy', optimizer = 'adam', metrics = ['accuracy']) # Compile model\n",
    "            model.fit(Xtrain, Ytrain, epochs = epochs, batch_size = 32, shuffle = True) # Fit model\n",
    "\n",
    "            loss, accuracy_val = model.evaluate(Xdev, Ydev) # Validate model\n",
    "            dev_accuracy_shuffle_split[j] = accuracy_val\n",
    "\n",
    "            j += 1\n",
    "              \n",
    "        mean_dev_accuracy[i] = round(np.mean(dev_accuracy_shuffle_split), 3)\n",
    "        std = round(np.std(dev_accuracy_shuffle_split), 3)\n",
    "        print('LSTM: ' + str(lstm_units[i]) +' --> dev_acc: ' + str(mean_dev_accuracy[i]) + ' +- ' + str(std))\n",
    "    \n",
    "    # test\n",
    "    best_model_index = np.argmax(mean_dev_accuracy)\n",
    "    \n",
    "    best_model = create_model(vocabulary_length, max_length_sequence, emb_dim, lstm_units = lstm_units[best_model_index], \n",
    "                                 l2_kernel = l2_kernel, l2_bias = l2_bias, l2_activity = l2_activity) # Create best model\n",
    "    \n",
    "    best_model.compile(loss = 'binary_crossentropy', optimizer = 'adam', metrics = ['accuracy']) # Compile best model\n",
    "    best_model.fit(X_train, y_train, epochs = epochs, batch_size = 32, shuffle = True) # Fit best model\n",
    "    y_pred = best_model.predict(X_test) # Test best model\n",
    "    y_pred = y_pred > 0.5 # Sigmoid activation function\n",
    "    accuracy_test = accuracy_score(y_test, y_pred)\n",
    "    \n",
    "    return lstm_units[best_model_index], round(accuracy_test, 3)"
   ]
  },
  {
   "cell_type": "code",
   "execution_count": null,
   "metadata": {},
   "outputs": [],
   "source": [
    "dataset = pd.read_csv('../data/Merged/spanish_dataset.csv')\n",
    "dataset"
   ]
  },
  {
   "cell_type": "markdown",
   "metadata": {},
   "source": [
    "#### Models"
   ]
  },
  {
   "cell_type": "code",
   "execution_count": null,
   "metadata": {},
   "outputs": [],
   "source": [
    "vocabulary_length = 10000\n",
    "max_length_sequence = 500\n",
    "emb_dim = 100\n",
    "language = 'spanish'\n",
    "epochs = 5"
   ]
  },
  {
   "cell_type": "code",
   "execution_count": null,
   "metadata": {},
   "outputs": [],
   "source": [
    "lstm_units = [16, 32, 64]\n",
    "\n",
    "l2_kernel = 0.1\n",
    "l2_bias = 0.1\n",
    "l2_activity = 0.1"
   ]
  },
  {
   "cell_type": "code",
   "execution_count": null,
   "metadata": {},
   "outputs": [],
   "source": [
    "X, df = get_input_RNN(dataset, stemming = False, remove_stopwords = True, \n",
    "                      vocabulary_length = vocabulary_length, max_length_sequence = max_length_sequence, language = language)\n",
    "print(X.shape)"
   ]
  },
  {
   "cell_type": "code",
   "execution_count": null,
   "metadata": {},
   "outputs": [],
   "source": [
    "best_model, test_acc = grid_search(X, df, epochs, vocabulary_length, max_length_sequence, emb_dim, \n",
    "                lstm_units, l2_kernel, l2_bias, l2_activity)\n",
    "print('LSTM :' + str(best_model), 'test_acc: ' + str(test_acc))"
   ]
  }
 ],
 "metadata": {
  "kernelspec": {
   "display_name": "Python 3",
   "language": "python",
   "name": "python3"
  },
  "language_info": {
   "codemirror_mode": {
    "name": "ipython",
    "version": 3
   },
   "file_extension": ".py",
   "mimetype": "text/x-python",
   "name": "python",
   "nbconvert_exporter": "python",
   "pygments_lexer": "ipython3",
   "version": "3.7.4"
  }
 },
 "nbformat": 4,
 "nbformat_minor": 2
}
