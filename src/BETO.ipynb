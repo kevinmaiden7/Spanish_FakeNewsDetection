{
 "cells": [
  {
   "cell_type": "code",
   "execution_count": 23,
   "metadata": {},
   "outputs": [
    {
     "name": "stdout",
     "output_type": "stream",
     "text": [
      "TF version:  2.3.1\n"
     ]
    }
   ],
   "source": [
    "import tensorflow as tf\n",
    "print(\"TF version: \", tf.__version__)"
   ]
  },
  {
   "cell_type": "code",
   "execution_count": 24,
   "metadata": {},
   "outputs": [],
   "source": [
    "from transformers import AutoConfig, AutoModel, TFAutoModel, AutoTokenizer"
   ]
  },
  {
   "cell_type": "code",
   "execution_count": 25,
   "metadata": {},
   "outputs": [],
   "source": [
    "import numpy as np\n",
    "import pandas as pd\n",
    "\n",
    "from sklearn.model_selection import train_test_split\n",
    "from sklearn.metrics import accuracy_score\n",
    "\n",
    "from data_preprocessing import remove_stop_words, text_normalization, add_data_portion\n",
    "\n",
    "from keras.models import Model\n",
    "from keras.layers import Input, Dense, LSTM, Dropout, Flatten, Conv1D, MaxPooling1D\n",
    "from tensorflow.keras import regularizers"
   ]
  },
  {
   "cell_type": "markdown",
   "metadata": {},
   "source": [
    "#### Load Dataset"
   ]
  },
  {
   "cell_type": "code",
   "execution_count": 26,
   "metadata": {},
   "outputs": [
    {
     "name": "stdout",
     "output_type": "stream",
     "text": [
      "(2571, 2)\n"
     ]
    }
   ],
   "source": [
    "spanish_dataset = pd.read_csv('../data/Merged/spanish_dataset.csv')\n",
    "print(spanish_dataset.shape)"
   ]
  },
  {
   "cell_type": "code",
   "execution_count": 53,
   "metadata": {},
   "outputs": [],
   "source": [
    "max_length_sequence = 100"
   ]
  },
  {
   "cell_type": "markdown",
   "metadata": {},
   "source": [
    "#### Load BETO Model"
   ]
  },
  {
   "cell_type": "code",
   "execution_count": 54,
   "metadata": {},
   "outputs": [
    {
     "name": "stdout",
     "output_type": "stream",
     "text": [
      "{\n",
      "  \"attention_probs_dropout_prob\": 0.1,\n",
      "  \"finetuning_task\": null,\n",
      "  \"hidden_act\": \"gelu\",\n",
      "  \"hidden_dropout_prob\": 0.1,\n",
      "  \"hidden_size\": 768,\n",
      "  \"initializer_range\": 0.02,\n",
      "  \"intermediate_size\": 3072,\n",
      "  \"layer_norm_eps\": 1e-12,\n",
      "  \"max_position_embeddings\": 512,\n",
      "  \"num_attention_heads\": 12,\n",
      "  \"num_hidden_layers\": 12,\n",
      "  \"num_labels\": 2,\n",
      "  \"output_attentions\": false,\n",
      "  \"output_hidden_states\": false,\n",
      "  \"output_past\": true,\n",
      "  \"pruned_heads\": {},\n",
      "  \"torchscript\": false,\n",
      "  \"type_vocab_size\": 2,\n",
      "  \"use_bfloat16\": false,\n",
      "  \"vocab_size\": 31002\n",
      "}\n",
      " <transformers.modeling_tf_bert.TFBertModel object at 0x000001CB16532D30>\n"
     ]
    }
   ],
   "source": [
    "config = AutoConfig.from_pretrained('../data/bert_beto/config.json')\n",
    "#model = AutoModel.from_pretrained('../data/bert_beto/model.ckpt-2000000.index', from_tf=True, config=config)\n",
    "beto = TFAutoModel.from_pretrained('../data/bert_beto/pytorch_model.bin', from_pt=True, config=config)\n",
    "print(config, beto)"
   ]
  },
  {
   "cell_type": "code",
   "execution_count": 55,
   "metadata": {},
   "outputs": [
    {
     "data": {
      "text/plain": [
       "<transformers.tokenization_bert.BertTokenizer at 0x1cac7026130>"
      ]
     },
     "execution_count": 55,
     "metadata": {},
     "output_type": "execute_result"
    }
   ],
   "source": [
    "#tokenizer = AutoTokenizer.from_pretrained('../data/bert_beto/vocab.txt')\n",
    "tokenizer = AutoTokenizer.from_pretrained('../data/bert_beto/vocab.txt', do_lower_case=True, add_special_tokens=True,\n",
    "                                          max_length=max_length_sequence, pad_to_max_length=True)\n",
    "tokenizer"
   ]
  },
  {
   "cell_type": "markdown",
   "metadata": {},
   "source": [
    "#### Prepare Data"
   ]
  },
  {
   "cell_type": "code",
   "execution_count": 56,
   "metadata": {},
   "outputs": [],
   "source": [
    "def get_ids(tokens, tokenizer, max_seq_length):\n",
    "    \"\"\"Token ids from Tokenizer vocab\"\"\"\n",
    "    token_ids = tokenizer.encode(tokens)\n",
    "    input_ids = token_ids + [0] * (max_seq_length-len(token_ids))\n",
    "    return input_ids\n",
    "\n",
    "def get_masks(tokens, max_seq_length):\n",
    "    \"\"\"Mask for padding\"\"\"\n",
    "    if len(tokens)>max_seq_length:\n",
    "        raise IndexError(\"Token length more than max seq length!\")\n",
    "    return [1]*len(tokens) + [0] * (max_seq_length - len(tokens))\n",
    "\n",
    "def get_segments(tokens, max_seq_length):\n",
    "    \"\"\"Segments: 0 for the first sequence, 1 for the second\"\"\"\n",
    "    if len(tokens)>max_seq_length:\n",
    "        raise IndexError(\"Token length more than max seq length!\")\n",
    "    segments = []\n",
    "    current_segment_id = 0\n",
    "    for token in tokens:\n",
    "        segments.append(current_segment_id)\n",
    "        if token == \"[SEP]\":\n",
    "            current_segment_id = 1\n",
    "    return segments + [0] * (max_seq_length - len(tokens))"
   ]
  },
  {
   "cell_type": "code",
   "execution_count": 57,
   "metadata": {},
   "outputs": [],
   "source": [
    "def normalize_and_tokenize_data(df, max_length_sequence):\n",
    "    text_normalization(df) # Normalize text\n",
    "    remove_stop_words(df, language = 'spanish', get_tokenize = False) # Remove stop words [and Tokenize texts]\n",
    "    \n",
    "    all_sentences = df['text'].values\n",
    "    all_words = []\n",
    "    for sent in all_sentences:\n",
    "        temp = []\n",
    "        temp.append('[CLS]')\n",
    "        i = 0\n",
    "        for w in tokenizer.tokenize(sent):\n",
    "            i+=1\n",
    "            if i == (max_length_sequence - 1): break\n",
    "            temp.append(w)\n",
    "        temp.append('[SEP]')\n",
    "        all_words.append(temp)\n",
    "\n",
    "    return all_words"
   ]
  },
  {
   "cell_type": "code",
   "execution_count": 58,
   "metadata": {},
   "outputs": [],
   "source": [
    "def get_inputs(spanish_dataset, max_length_sequence):\n",
    "\n",
    "    all_words = normalize_and_tokenize_data(spanish_dataset, max_length_sequence)\n",
    "\n",
    "    input_ids = np.zeros((len(all_words), max_length_sequence))\n",
    "    input_masks = np.zeros((len(all_words), max_length_sequence))\n",
    "    input_segments = np.zeros((len(all_words), max_length_sequence))\n",
    "\n",
    "    for i in range(len(all_words)):\n",
    "        input_ids[i,:] = np.array(get_ids(all_words[i], tokenizer, max_length_sequence)).reshape(1,-1)\n",
    "        input_masks[i,:] = np.array(get_masks(all_words[i], max_length_sequence)).reshape(1,-1)\n",
    "        input_segments[i,:] = np.array(get_segments(all_words[i], max_length_sequence)).reshape(1,-1)\n",
    "\n",
    "    input_ids = input_ids.astype(int)\n",
    "    return (input_ids, input_masks, input_segments)"
   ]
  },
  {
   "cell_type": "code",
   "execution_count": 59,
   "metadata": {},
   "outputs": [
    {
     "name": "stdout",
     "output_type": "stream",
     "text": [
      "(2571, 100) (2571, 100) (2571, 100)\n"
     ]
    }
   ],
   "source": [
    "input_ids, input_masks, input_segments = get_inputs(spanish_dataset, max_length_sequence)\n",
    "print(input_ids.shape, input_masks.shape, input_segments.shape)"
   ]
  },
  {
   "cell_type": "code",
   "execution_count": 60,
   "metadata": {},
   "outputs": [
    {
     "name": "stdout",
     "output_type": "stream",
     "text": [
      "[    4 29047  6249 30956  3269 10296 18116  6949 10406  1083  4543  1105\n",
      "  1626  2322  1498 10406 30956  2078  2570  7105 10406  1519 29047  1785\n",
      "  1130 27832  1637 30957  3180  4898  3120 14825 30957  1935  6249 30956\n",
      " 17576 10296  2035  3269 18116  6949 10406  1083  1785  1130 24861  1092\n",
      " 10296  5868 30956  9869  1626  2322  1498  1626  3756  2397  3382 30957\n",
      "  3269  7288  8173  6949  7035 14327  8636  4293  3603  1688  3469  6949\n",
      "  7035  8173 10406  1083  8636  5508  3464  1105  1845 11469  5181 17576\n",
      " 30958 30380 11712  8173  8636  2570  2338  2053  2749  1497 10296 18972\n",
      " 30956  1665  6949     5]\n",
      "[1. 1. 1. 1. 1. 1. 1. 1. 1. 1. 1. 1. 1. 1. 1. 1. 1. 1. 1. 1. 1. 1. 1. 1.\n",
      " 1. 1. 1. 1. 1. 1. 1. 1. 1. 1. 1. 1. 1. 1. 1. 1. 1. 1. 1. 1. 1. 1. 1. 1.\n",
      " 1. 1. 1. 1. 1. 1. 1. 1. 1. 1. 1. 1. 1. 1. 1. 1. 1. 1. 1. 1. 1. 1. 1. 1.\n",
      " 1. 1. 1. 1. 1. 1. 1. 1. 1. 1. 1. 1. 1. 1. 1. 1. 1. 1. 1. 1. 1. 1. 1. 1.\n",
      " 1. 1. 1. 1.]\n",
      "[0. 0. 0. 0. 0. 0. 0. 0. 0. 0. 0. 0. 0. 0. 0. 0. 0. 0. 0. 0. 0. 0. 0. 0.\n",
      " 0. 0. 0. 0. 0. 0. 0. 0. 0. 0. 0. 0. 0. 0. 0. 0. 0. 0. 0. 0. 0. 0. 0. 0.\n",
      " 0. 0. 0. 0. 0. 0. 0. 0. 0. 0. 0. 0. 0. 0. 0. 0. 0. 0. 0. 0. 0. 0. 0. 0.\n",
      " 0. 0. 0. 0. 0. 0. 0. 0. 0. 0. 0. 0. 0. 0. 0. 0. 0. 0. 0. 0. 0. 0. 0. 0.\n",
      " 0. 0. 0. 0.]\n"
     ]
    }
   ],
   "source": [
    "print(input_ids[0])\n",
    "print(input_masks[0])\n",
    "print(input_segments[0])"
   ]
  },
  {
   "cell_type": "markdown",
   "metadata": {},
   "source": [
    "#### Models"
   ]
  },
  {
   "cell_type": "code",
   "execution_count": 61,
   "metadata": {},
   "outputs": [],
   "source": [
    "batch_size = 32"
   ]
  },
  {
   "cell_type": "code",
   "execution_count": 62,
   "metadata": {},
   "outputs": [],
   "source": [
    "def create_model_CNN(max_length_sequence, filters, kernel_size, dense_units, l2_kernel):\n",
    "    \n",
    "    input_word_ids = Input(shape=(max_length_sequence, ), dtype=tf.int32, name=\"input_word_ids\")\n",
    "    input_mask = Input(shape=(max_length_sequence, ), dtype=tf.int32, name=\"input_mask\")\n",
    "    segment_ids = Input(shape=(max_length_sequence, ), dtype=tf.int32, name=\"segment_ids\")\n",
    "    \n",
    "    embedding_layer = beto(input_word_ids, attention_mask=input_mask, token_type_ids=segment_ids)\n",
    "    \n",
    "    X = Conv1D(filters = filters, kernel_size = kernel_size, activation = 'relu',\n",
    "              kernel_regularizer = regularizers.l2(l2_kernel))(embedding_layer[0])\n",
    "    X = MaxPooling1D(pool_size = 2)(X)\n",
    "    X = Flatten()(X)\n",
    "    X = Dense(units = dense_units, activation = 'relu')(X)\n",
    "    X = Dense(units = 1, activation = 'sigmoid')(X)\n",
    "                          \n",
    "    model = Model(inputs = [input_word_ids, input_mask, segment_ids], outputs = X)\n",
    "    \n",
    "    for layer in model.layers[:4]:\n",
    "        layer.trainable = False\n",
    "    \n",
    "    return(model)"
   ]
  },
  {
   "cell_type": "code",
   "execution_count": 63,
   "metadata": {},
   "outputs": [],
   "source": [
    "def create_model_RNN(max_length_sequence, lstm_units, l2_kernel, l2_recurrent, l2_activity, dropout):\n",
    "    \n",
    "    input_word_ids = Input(shape=(max_length_sequence, ), dtype=tf.int32, name=\"input_word_ids\")\n",
    "    input_mask = Input(shape=(max_length_sequence, ), dtype=tf.int32, name=\"input_mask\")\n",
    "    segment_ids = Input(shape=(max_length_sequence, ), dtype=tf.int32, name=\"segment_ids\")\n",
    "    \n",
    "    embedding_layer = beto(input_word_ids, attention_mask=input_mask, token_type_ids=segment_ids)\n",
    "    \n",
    "    X = LSTM(units = lstm_units, return_sequences = False,\n",
    "            kernel_regularizer = regularizers.l2(l2_kernel),\n",
    "            recurrent_regularizer = regularizers.l2(l2_recurrent),\n",
    "            activity_regularizer = regularizers.l2(l2_activity))(embedding_layer[0])\n",
    "    \n",
    "    X = Dropout(rate = dropout)(X)\n",
    "    X = Dense(units = 1, activation = 'sigmoid')(X)\n",
    "                          \n",
    "    model = Model(inputs = [input_word_ids, input_mask, segment_ids], outputs = X)\n",
    "    \n",
    "    for layer in model.layers[:4]:\n",
    "        layer.trainable = False\n",
    "                          \n",
    "    return(model)"
   ]
  },
  {
   "cell_type": "markdown",
   "metadata": {},
   "source": [
    "#### Execute Models"
   ]
  },
  {
   "cell_type": "code",
   "execution_count": 64,
   "metadata": {},
   "outputs": [],
   "source": [
    "epochs = 25"
   ]
  },
  {
   "cell_type": "markdown",
   "metadata": {},
   "source": [
    "max_length_sequence = 50"
   ]
  },
  {
   "cell_type": "code",
   "execution_count": 65,
   "metadata": {},
   "outputs": [],
   "source": [
    "test_size = 0.1\n",
    "Y = spanish_dataset.label.values\n",
    "\n",
    "input_ids_tr, input_ids_te, input_masks_tr, input_masks_te, input_segments_tr, input_segments_te, y_tr, y_te = train_test_split(\n",
    "    input_ids, input_masks, input_segments, Y, test_size = test_size, shuffle = True)"
   ]
  },
  {
   "cell_type": "code",
   "execution_count": 66,
   "metadata": {},
   "outputs": [
    {
     "name": "stdout",
     "output_type": "stream",
     "text": [
      "2313 258\n",
      "2313 258\n",
      "2313 258\n",
      "2313 258\n"
     ]
    }
   ],
   "source": [
    "print(len(input_ids_tr), len(input_ids_te))\n",
    "print(len(input_masks_tr), len(input_masks_te))\n",
    "print(len(input_segments_tr), len(input_segments_te))\n",
    "print(len(y_tr), len(y_te))"
   ]
  },
  {
   "cell_type": "markdown",
   "metadata": {},
   "source": [
    "RNN"
   ]
  },
  {
   "cell_type": "code",
   "execution_count": 67,
   "metadata": {},
   "outputs": [
    {
     "name": "stdout",
     "output_type": "stream",
     "text": [
      "Model: \"functional_13\"\n",
      "__________________________________________________________________________________________________\n",
      "Layer (type)                    Output Shape         Param #     Connected to                     \n",
      "==================================================================================================\n",
      "input_word_ids (InputLayer)     [(None, 100)]        0                                            \n",
      "__________________________________________________________________________________________________\n",
      "input_mask (InputLayer)         [(None, 100)]        0                                            \n",
      "__________________________________________________________________________________________________\n",
      "segment_ids (InputLayer)        [(None, 100)]        0                                            \n",
      "__________________________________________________________________________________________________\n",
      "tf_bert_model_2 (TFBertModel)   ((None, 100, 768), ( 109850880   input_word_ids[0][0]             \n",
      "                                                                 input_mask[0][0]                 \n",
      "                                                                 segment_ids[0][0]                \n",
      "__________________________________________________________________________________________________\n",
      "lstm_3 (LSTM)                   (None, 8)            24864       tf_bert_model_2[0][0]            \n",
      "__________________________________________________________________________________________________\n",
      "dropout_114 (Dropout)           (None, 8)            0           lstm_3[0][0]                     \n",
      "__________________________________________________________________________________________________\n",
      "dense_9 (Dense)                 (None, 1)            9           dropout_114[0][0]                \n",
      "==================================================================================================\n",
      "Total params: 109,875,753\n",
      "Trainable params: 24,873\n",
      "Non-trainable params: 109,850,880\n",
      "__________________________________________________________________________________________________\n"
     ]
    }
   ],
   "source": [
    "RNN = create_model_RNN(max_length_sequence = max_length_sequence, lstm_units = 8, l2_kernel = 0, l2_recurrent = 0, l2_activity = 0, dropout = 0)\n",
    "RNN.compile(loss = 'binary_crossentropy', optimizer = 'adam', metrics = ['accuracy']) # Compile model\n",
    "RNN.summary()"
   ]
  },
  {
   "cell_type": "code",
   "execution_count": 68,
   "metadata": {},
   "outputs": [
    {
     "name": "stdout",
     "output_type": "stream",
     "text": [
      "Epoch 1/25\n",
      "73/73 [==============================] - 440s 6s/step - loss: 0.6584 - accuracy: 0.5997\n",
      "Epoch 2/25\n",
      "73/73 [==============================] - 443s 6s/step - loss: 0.5726 - accuracy: 0.7004\n",
      "Epoch 3/25\n",
      "73/73 [==============================] - 455s 6s/step - loss: 0.5382 - accuracy: 0.7307\n",
      "Epoch 4/25\n",
      "73/73 [==============================] - 449s 6s/step - loss: 0.4973 - accuracy: 0.7665\n",
      "Epoch 5/25\n",
      "73/73 [==============================] - 448s 6s/step - loss: 0.4956 - accuracy: 0.7605\n",
      "Epoch 6/25\n",
      "73/73 [==============================] - 451s 6s/step - loss: 0.4675 - accuracy: 0.7804\n",
      "Epoch 7/25\n",
      "73/73 [==============================] - 450s 6s/step - loss: 0.4409 - accuracy: 0.8050\n",
      "Epoch 8/25\n",
      "73/73 [==============================] - 449s 6s/step - loss: 0.4133 - accuracy: 0.8132\n",
      "Epoch 9/25\n",
      "73/73 [==============================] - 449s 6s/step - loss: 0.4112 - accuracy: 0.8128\n",
      "Epoch 10/25\n",
      "73/73 [==============================] - 447s 6s/step - loss: 0.3791 - accuracy: 0.8457\n",
      "Epoch 11/25\n",
      "73/73 [==============================] - 450s 6s/step - loss: 0.3651 - accuracy: 0.8413\n",
      "Epoch 12/25\n",
      "73/73 [==============================] - 451s 6s/step - loss: 0.3577 - accuracy: 0.8552\n",
      "Epoch 13/25\n",
      "73/73 [==============================] - 450s 6s/step - loss: 0.3373 - accuracy: 0.8569\n",
      "Epoch 14/25\n",
      "73/73 [==============================] - 451s 6s/step - loss: 0.3274 - accuracy: 0.8660\n",
      "Epoch 15/25\n",
      "73/73 [==============================] - 447s 6s/step - loss: 0.3033 - accuracy: 0.8798\n",
      "Epoch 16/25\n",
      "73/73 [==============================] - 459s 6s/step - loss: 0.2971 - accuracy: 0.8824\n",
      "Epoch 17/25\n",
      "73/73 [==============================] - 455s 6s/step - loss: 0.2806 - accuracy: 0.8872\n",
      "Epoch 18/25\n",
      "73/73 [==============================] - 451s 6s/step - loss: 0.2763 - accuracy: 0.8859\n",
      "Epoch 19/25\n",
      "73/73 [==============================] - 448s 6s/step - loss: 0.2595 - accuracy: 0.9049\n",
      "Epoch 20/25\n",
      "73/73 [==============================] - 454s 6s/step - loss: 0.2364 - accuracy: 0.9075\n",
      "Epoch 21/25\n",
      "73/73 [==============================] - 449s 6s/step - loss: 0.2475 - accuracy: 0.8980\n",
      "Epoch 22/25\n",
      "73/73 [==============================] - 453s 6s/step - loss: 0.2418 - accuracy: 0.9023\n",
      "Epoch 23/25\n",
      "73/73 [==============================] - 447s 6s/step - loss: 0.2211 - accuracy: 0.9166\n",
      "Epoch 24/25\n",
      "73/73 [==============================] - 450s 6s/step - loss: 0.2047 - accuracy: 0.9248\n",
      "Epoch 25/25\n",
      "73/73 [==============================] - 449s 6s/step - loss: 0.2122 - accuracy: 0.9209\n",
      "9/9 [==============================] - 38s 4s/step - loss: 0.7101 - accuracy: 0.7326\n",
      "0.7101134657859802 0.733\n"
     ]
    }
   ],
   "source": [
    "RNN.fit([input_ids_tr, input_masks_tr, input_segments_tr], y_tr, epochs = epochs, batch_size = batch_size, shuffle = True) # Fit model\n",
    "loss, acc = RNN.evaluate([input_ids_te, input_masks_te, input_segments_te], y_te) # Evaluate model\n",
    "print(loss, round(acc, 3))\n",
    "RNN.save_weights('../data/Weights/BETO_RNN.h5')"
   ]
  },
  {
   "cell_type": "markdown",
   "metadata": {},
   "source": [
    "CNN"
   ]
  },
  {
   "cell_type": "code",
   "execution_count": 69,
   "metadata": {},
   "outputs": [
    {
     "name": "stdout",
     "output_type": "stream",
     "text": [
      "Model: \"functional_15\"\n",
      "__________________________________________________________________________________________________\n",
      "Layer (type)                    Output Shape         Param #     Connected to                     \n",
      "==================================================================================================\n",
      "input_word_ids (InputLayer)     [(None, 100)]        0                                            \n",
      "__________________________________________________________________________________________________\n",
      "input_mask (InputLayer)         [(None, 100)]        0                                            \n",
      "__________________________________________________________________________________________________\n",
      "segment_ids (InputLayer)        [(None, 100)]        0                                            \n",
      "__________________________________________________________________________________________________\n",
      "tf_bert_model_2 (TFBertModel)   ((None, 100, 768), ( 109850880   input_word_ids[0][0]             \n",
      "                                                                 input_mask[0][0]                 \n",
      "                                                                 segment_ids[0][0]                \n",
      "__________________________________________________________________________________________________\n",
      "conv1d_3 (Conv1D)               (None, 91, 16)       122896      tf_bert_model_2[1][0]            \n",
      "__________________________________________________________________________________________________\n",
      "max_pooling1d_3 (MaxPooling1D)  (None, 45, 16)       0           conv1d_3[0][0]                   \n",
      "__________________________________________________________________________________________________\n",
      "flatten_3 (Flatten)             (None, 720)          0           max_pooling1d_3[0][0]            \n",
      "__________________________________________________________________________________________________\n",
      "dense_10 (Dense)                (None, 4)            2884        flatten_3[0][0]                  \n",
      "__________________________________________________________________________________________________\n",
      "dense_11 (Dense)                (None, 1)            5           dense_10[0][0]                   \n",
      "==================================================================================================\n",
      "Total params: 109,976,665\n",
      "Trainable params: 125,785\n",
      "Non-trainable params: 109,850,880\n",
      "__________________________________________________________________________________________________\n"
     ]
    }
   ],
   "source": [
    "CNN = create_model_CNN(max_length_sequence = max_length_sequence, filters = 16, kernel_size = 10, dense_units = 4, l2_kernel = 0)\n",
    "CNN.compile(loss = 'binary_crossentropy', optimizer = 'adam', metrics = ['accuracy']) # Compile model\n",
    "CNN.summary()"
   ]
  },
  {
   "cell_type": "code",
   "execution_count": 70,
   "metadata": {},
   "outputs": [
    {
     "name": "stdout",
     "output_type": "stream",
     "text": [
      "Epoch 1/25\n",
      "73/73 [==============================] - 456s 6s/step - loss: 0.6732 - accuracy: 0.6087\n",
      "Epoch 2/25\n",
      "73/73 [==============================] - 459s 6s/step - loss: 0.5488 - accuracy: 0.7281\n",
      "Epoch 3/25\n",
      "73/73 [==============================] - 453s 6s/step - loss: 0.4785 - accuracy: 0.7722\n",
      "Epoch 4/25\n",
      "73/73 [==============================] - 455s 6s/step - loss: 0.4217 - accuracy: 0.8141\n",
      "Epoch 5/25\n",
      "73/73 [==============================] - 458s 6s/step - loss: 0.3753 - accuracy: 0.8457\n",
      "Epoch 6/25\n",
      "73/73 [==============================] - 455s 6s/step - loss: 0.3170 - accuracy: 0.8785\n",
      "Epoch 7/25\n",
      "73/73 [==============================] - 453s 6s/step - loss: 0.2866 - accuracy: 0.8846\n",
      "Epoch 8/25\n",
      "73/73 [==============================] - 455s 6s/step - loss: 0.2387 - accuracy: 0.9144\n",
      "Epoch 9/25\n",
      "73/73 [==============================] - 475s 7s/step - loss: 0.1733 - accuracy: 0.9438\n",
      "Epoch 10/25\n",
      "73/73 [==============================] - 452s 6s/step - loss: 0.1557 - accuracy: 0.9403\n",
      "Epoch 11/25\n",
      "73/73 [==============================] - 445s 6s/step - loss: 0.1099 - accuracy: 0.9710\n",
      "Epoch 12/25\n",
      "73/73 [==============================] - 445s 6s/step - loss: 0.0895 - accuracy: 0.9758\n",
      "Epoch 13/25\n",
      "73/73 [==============================] - 449s 6s/step - loss: 0.0793 - accuracy: 0.9758\n",
      "Epoch 14/25\n",
      "73/73 [==============================] - 447s 6s/step - loss: 0.0667 - accuracy: 0.9818\n",
      "Epoch 15/25\n",
      "73/73 [==============================] - 445s 6s/step - loss: 0.0612 - accuracy: 0.9818\n",
      "Epoch 16/25\n",
      "73/73 [==============================] - 477s 7s/step - loss: 0.0445 - accuracy: 0.9883\n",
      "Epoch 17/25\n",
      "73/73 [==============================] - 427s 6s/step - loss: 0.0669 - accuracy: 0.9788\n",
      "Epoch 18/25\n",
      "73/73 [==============================] - 441s 6s/step - loss: 0.0476 - accuracy: 0.9836\n",
      "Epoch 19/25\n",
      "73/73 [==============================] - 431s 6s/step - loss: 0.0416 - accuracy: 0.9862\n",
      "Epoch 20/25\n",
      "73/73 [==============================] - 443s 6s/step - loss: 0.0285 - accuracy: 0.9918\n",
      "Epoch 21/25\n",
      "73/73 [==============================] - 449s 6s/step - loss: 0.0350 - accuracy: 0.9905\n",
      "Epoch 22/25\n",
      "73/73 [==============================] - 449s 6s/step - loss: 0.0287 - accuracy: 0.9931\n",
      "Epoch 23/25\n",
      "73/73 [==============================] - 446s 6s/step - loss: 0.0255 - accuracy: 0.9931\n",
      "Epoch 24/25\n",
      "73/73 [==============================] - 446s 6s/step - loss: 0.0196 - accuracy: 0.9952\n",
      "Epoch 25/25\n",
      "73/73 [==============================] - 446s 6s/step - loss: 0.0196 - accuracy: 0.9939\n",
      "9/9 [==============================] - 36s 4s/step - loss: 1.2914 - accuracy: 0.7364\n",
      "1.2913553714752197 0.736\n"
     ]
    }
   ],
   "source": [
    "CNN.fit([input_ids_tr, input_masks_tr, input_segments_tr], y_tr, epochs = epochs, batch_size = batch_size, shuffle = True) # Fit model\n",
    "loss, acc = CNN.evaluate([input_ids_te, input_masks_te, input_segments_te], y_te) # Evaluate model\n",
    "print(loss, round(acc, 3))\n",
    "CNN.save_weights('../data/Weights/BETO_CNN.h5')"
   ]
  },
  {
   "cell_type": "code",
   "execution_count": null,
   "metadata": {},
   "outputs": [],
   "source": []
  }
 ],
 "metadata": {
  "kernelspec": {
   "display_name": "Python 3",
   "language": "python",
   "name": "python3"
  },
  "language_info": {
   "codemirror_mode": {
    "name": "ipython",
    "version": 3
   },
   "file_extension": ".py",
   "mimetype": "text/x-python",
   "name": "python",
   "nbconvert_exporter": "python",
   "pygments_lexer": "ipython3",
   "version": "3.8.3"
  }
 },
 "nbformat": 4,
 "nbformat_minor": 4
}
