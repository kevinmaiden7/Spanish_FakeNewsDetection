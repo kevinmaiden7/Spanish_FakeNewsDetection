{
 "cells": [
  {
   "cell_type": "code",
   "execution_count": 1,
   "metadata": {},
   "outputs": [
    {
     "name": "stdout",
     "output_type": "stream",
     "text": [
      "TF version:  2.3.1\n"
     ]
    }
   ],
   "source": [
    "import tensorflow as tf\n",
    "print(\"TF version: \", tf.__version__)"
   ]
  },
  {
   "cell_type": "code",
   "execution_count": 2,
   "metadata": {},
   "outputs": [],
   "source": [
    "from transformers import AutoConfig, AutoModel, TFAutoModel, AutoTokenizer"
   ]
  },
  {
   "cell_type": "code",
   "execution_count": 5,
   "metadata": {},
   "outputs": [],
   "source": [
    "import numpy as np\n",
    "import pandas as pd\n",
    "import matplotlib.pyplot as plt\n",
    "\n",
    "from sklearn.model_selection import train_test_split\n",
    "from sklearn.metrics import accuracy_score, confusion_matrix, ConfusionMatrixDisplay\n",
    "\n",
    "from data_preprocessing import remove_stop_words, text_normalization, add_data_portion\n",
    "\n",
    "from keras.models import Model\n",
    "from keras.layers import Input, Dense, LSTM, Dropout, Flatten, Conv1D, MaxPooling1D\n",
    "from tensorflow.keras import regularizers\n",
    "from tensorflow.keras.callbacks import EarlyStopping"
   ]
  },
  {
   "cell_type": "markdown",
   "metadata": {},
   "source": [
    "#### Load Dataset"
   ]
  },
  {
   "cell_type": "code",
   "execution_count": 4,
   "metadata": {},
   "outputs": [
    {
     "data": {
      "text/html": [
       "<div>\n",
       "<style scoped>\n",
       "    .dataframe tbody tr th:only-of-type {\n",
       "        vertical-align: middle;\n",
       "    }\n",
       "\n",
       "    .dataframe tbody tr th {\n",
       "        vertical-align: top;\n",
       "    }\n",
       "\n",
       "    .dataframe thead th {\n",
       "        text-align: right;\n",
       "    }\n",
       "</style>\n",
       "<table border=\"1\" class=\"dataframe\">\n",
       "  <thead>\n",
       "    <tr style=\"text-align: right;\">\n",
       "      <th></th>\n",
       "      <th>text</th>\n",
       "      <th>label</th>\n",
       "    </tr>\n",
       "  </thead>\n",
       "  <tbody>\n",
       "    <tr>\n",
       "      <th>0</th>\n",
       "      <td>RAE INCLUIRÁ LA PALABRA \"LADY\" EN EL DICCIONAR...</td>\n",
       "      <td>1</td>\n",
       "    </tr>\n",
       "    <tr>\n",
       "      <th>1</th>\n",
       "      <td>La palabra \"haiga\", aceptada por la RAE La Rea...</td>\n",
       "      <td>1</td>\n",
       "    </tr>\n",
       "    <tr>\n",
       "      <th>2</th>\n",
       "      <td>YORDI ROSADO ESCRIBIRÁ Y DISEÑARÁ LOS NUEVOS L...</td>\n",
       "      <td>1</td>\n",
       "    </tr>\n",
       "    <tr>\n",
       "      <th>3</th>\n",
       "      <td>UNAM capacitará a maestros para aprobar prueba...</td>\n",
       "      <td>0</td>\n",
       "    </tr>\n",
       "    <tr>\n",
       "      <th>4</th>\n",
       "      <td>Alerta: pretenden aprobar libros escolares con...</td>\n",
       "      <td>1</td>\n",
       "    </tr>\n",
       "    <tr>\n",
       "      <th>...</th>\n",
       "      <td>...</td>\n",
       "      <td>...</td>\n",
       "    </tr>\n",
       "    <tr>\n",
       "      <th>2566</th>\n",
       "      <td>Recuperamos la historia de Aleixandra, la jove...</td>\n",
       "      <td>0</td>\n",
       "    </tr>\n",
       "    <tr>\n",
       "      <th>2567</th>\n",
       "      <td>Reproches, tensión y sinceridad: la comida en ...</td>\n",
       "      <td>0</td>\n",
       "    </tr>\n",
       "    <tr>\n",
       "      <th>2568</th>\n",
       "      <td>RT @ElMundoOpinion: \"PSOE, PP, Ciudadanos y Vo...</td>\n",
       "      <td>0</td>\n",
       "    </tr>\n",
       "    <tr>\n",
       "      <th>2569</th>\n",
       "      <td>Rusia cita al embajador español por unas decla...</td>\n",
       "      <td>0</td>\n",
       "    </tr>\n",
       "    <tr>\n",
       "      <th>2570</th>\n",
       "      <td>Saeed Malekpour fue detenido en 2008, cuando v...</td>\n",
       "      <td>0</td>\n",
       "    </tr>\n",
       "  </tbody>\n",
       "</table>\n",
       "<p>2571 rows × 2 columns</p>\n",
       "</div>"
      ],
      "text/plain": [
       "                                                   text  label\n",
       "0     RAE INCLUIRÁ LA PALABRA \"LADY\" EN EL DICCIONAR...      1\n",
       "1     La palabra \"haiga\", aceptada por la RAE La Rea...      1\n",
       "2     YORDI ROSADO ESCRIBIRÁ Y DISEÑARÁ LOS NUEVOS L...      1\n",
       "3     UNAM capacitará a maestros para aprobar prueba...      0\n",
       "4     Alerta: pretenden aprobar libros escolares con...      1\n",
       "...                                                 ...    ...\n",
       "2566  Recuperamos la historia de Aleixandra, la jove...      0\n",
       "2567  Reproches, tensión y sinceridad: la comida en ...      0\n",
       "2568  RT @ElMundoOpinion: \"PSOE, PP, Ciudadanos y Vo...      0\n",
       "2569  Rusia cita al embajador español por unas decla...      0\n",
       "2570  Saeed Malekpour fue detenido en 2008, cuando v...      0\n",
       "\n",
       "[2571 rows x 2 columns]"
      ]
     },
     "execution_count": 4,
     "metadata": {},
     "output_type": "execute_result"
    }
   ],
   "source": [
    "spanish_dataset = pd.read_csv('../data/Merged/spanish_dataset.csv')\n",
    "spanish_dataset\n",
    "#print(spanish_dataset.shape)"
   ]
  },
  {
   "cell_type": "markdown",
   "metadata": {},
   "source": [
    "#### Load BETO Model"
   ]
  },
  {
   "cell_type": "code",
   "execution_count": 6,
   "metadata": {},
   "outputs": [
    {
     "name": "stdout",
     "output_type": "stream",
     "text": [
      "{\n",
      "  \"attention_probs_dropout_prob\": 0.1,\n",
      "  \"finetuning_task\": null,\n",
      "  \"hidden_act\": \"gelu\",\n",
      "  \"hidden_dropout_prob\": 0.1,\n",
      "  \"hidden_size\": 768,\n",
      "  \"initializer_range\": 0.02,\n",
      "  \"intermediate_size\": 3072,\n",
      "  \"layer_norm_eps\": 1e-12,\n",
      "  \"max_position_embeddings\": 512,\n",
      "  \"num_attention_heads\": 12,\n",
      "  \"num_hidden_layers\": 12,\n",
      "  \"num_labels\": 2,\n",
      "  \"output_attentions\": false,\n",
      "  \"output_hidden_states\": false,\n",
      "  \"output_past\": true,\n",
      "  \"pruned_heads\": {},\n",
      "  \"torchscript\": false,\n",
      "  \"type_vocab_size\": 2,\n",
      "  \"use_bfloat16\": false,\n",
      "  \"vocab_size\": 31002\n",
      "}\n",
      " <transformers.modeling_tf_bert.TFBertModel object at 0x0000019090077580>\n"
     ]
    }
   ],
   "source": [
    "config = AutoConfig.from_pretrained('../data/bert_beto/config.json')\n",
    "#model = AutoModel.from_pretrained('../data/bert_beto/model.ckpt-2000000.index', from_tf=True, config=config)\n",
    "beto = TFAutoModel.from_pretrained('../data/bert_beto/pytorch_model.bin', from_pt=True, config=config)\n",
    "print(config, beto)"
   ]
  },
  {
   "cell_type": "code",
   "execution_count": 7,
   "metadata": {},
   "outputs": [],
   "source": [
    "max_length_sequence = 150"
   ]
  },
  {
   "cell_type": "code",
   "execution_count": 8,
   "metadata": {},
   "outputs": [
    {
     "data": {
      "text/plain": [
       "<transformers.tokenization_bert.BertTokenizer at 0x19090176ac0>"
      ]
     },
     "execution_count": 8,
     "metadata": {},
     "output_type": "execute_result"
    }
   ],
   "source": [
    "#tokenizer = AutoTokenizer.from_pretrained('../data/bert_beto/vocab.txt')\n",
    "tokenizer = AutoTokenizer.from_pretrained('../data/bert_beto/vocab.txt', do_lower_case=True, add_special_tokens=True,\n",
    "                                          max_length=max_length_sequence, pad_to_max_length=True)\n",
    "tokenizer"
   ]
  },
  {
   "cell_type": "markdown",
   "metadata": {},
   "source": [
    "#### Prepare Data"
   ]
  },
  {
   "cell_type": "code",
   "execution_count": 9,
   "metadata": {},
   "outputs": [],
   "source": [
    "def get_ids(tokens, tokenizer, max_seq_length):\n",
    "    \"\"\"Token ids from Tokenizer vocab\"\"\"\n",
    "    token_ids = tokenizer.encode(tokens)\n",
    "    input_ids = token_ids + [0] * (max_seq_length-len(token_ids))\n",
    "    return input_ids\n",
    "\n",
    "def get_masks(tokens, max_seq_length):\n",
    "    \"\"\"Mask for padding\"\"\"\n",
    "    if len(tokens)>max_seq_length:\n",
    "        raise IndexError(\"Token length more than max seq length!\")\n",
    "    return [1]*len(tokens) + [0] * (max_seq_length - len(tokens))\n",
    "\n",
    "def get_segments(tokens, max_seq_length):\n",
    "    \"\"\"Segments: 0 for the first sequence, 1 for the second\"\"\"\n",
    "    if len(tokens)>max_seq_length:\n",
    "        raise IndexError(\"Token length more than max seq length!\")\n",
    "    segments = []\n",
    "    current_segment_id = 0\n",
    "    for token in tokens:\n",
    "        segments.append(current_segment_id)\n",
    "        if token == \"[SEP]\":\n",
    "            current_segment_id = 1\n",
    "    return segments + [0] * (max_seq_length - len(tokens))"
   ]
  },
  {
   "cell_type": "code",
   "execution_count": 10,
   "metadata": {},
   "outputs": [],
   "source": [
    "def normalize_and_tokenize_data(df, max_length_sequence):\n",
    "    text_normalization(df) # Normalize text\n",
    "    remove_stop_words(df, language = 'spanish', get_tokenize = False) # Remove stop words [and Tokenize texts]\n",
    "    \n",
    "    all_sentences = df['text'].values\n",
    "    all_words = []\n",
    "    for sent in all_sentences:\n",
    "        temp = []\n",
    "        temp.append('[CLS]')\n",
    "        i = 0\n",
    "        for w in tokenizer.tokenize(sent):\n",
    "            i+=1\n",
    "            if i == (max_length_sequence - 1): break\n",
    "            temp.append(w)\n",
    "        temp.append('[SEP]')\n",
    "        all_words.append(temp)\n",
    "\n",
    "    return all_words"
   ]
  },
  {
   "cell_type": "code",
   "execution_count": 11,
   "metadata": {},
   "outputs": [],
   "source": [
    "def get_inputs(spanish_dataset, max_length_sequence):\n",
    "\n",
    "    all_words = normalize_and_tokenize_data(spanish_dataset, max_length_sequence)\n",
    "\n",
    "    input_ids = np.zeros((len(all_words), max_length_sequence))\n",
    "    input_masks = np.zeros((len(all_words), max_length_sequence))\n",
    "    input_segments = np.zeros((len(all_words), max_length_sequence))\n",
    "\n",
    "    for i in range(len(all_words)):\n",
    "        input_ids[i,:] = np.array(get_ids(all_words[i], tokenizer, max_length_sequence)).reshape(1,-1)\n",
    "        input_masks[i,:] = np.array(get_masks(all_words[i], max_length_sequence)).reshape(1,-1)\n",
    "        input_segments[i,:] = np.array(get_segments(all_words[i], max_length_sequence)).reshape(1,-1)\n",
    "\n",
    "    input_ids = input_ids.astype(int)\n",
    "    return (input_ids, input_masks, input_segments)"
   ]
  },
  {
   "cell_type": "markdown",
   "metadata": {},
   "source": [
    "#### Models"
   ]
  },
  {
   "cell_type": "code",
   "execution_count": 12,
   "metadata": {},
   "outputs": [],
   "source": [
    "batch_size = 32"
   ]
  },
  {
   "cell_type": "code",
   "execution_count": 13,
   "metadata": {},
   "outputs": [],
   "source": [
    "def create_model_CNN(max_length_sequence, filters, kernel_size, dense_units, l2_kernel):\n",
    "    \n",
    "    input_word_ids = Input(shape=(max_length_sequence, ), dtype=tf.int32, name=\"input_word_ids\")\n",
    "    input_mask = Input(shape=(max_length_sequence, ), dtype=tf.int32, name=\"input_mask\")\n",
    "    segment_ids = Input(shape=(max_length_sequence, ), dtype=tf.int32, name=\"segment_ids\")\n",
    "    \n",
    "    embedding_layer = beto(input_word_ids, attention_mask=input_mask, token_type_ids=segment_ids)\n",
    "    \n",
    "    X = Conv1D(filters = filters, kernel_size = kernel_size, activation = 'relu',\n",
    "              kernel_regularizer = regularizers.l2(l2_kernel))(embedding_layer[0])\n",
    "    X = MaxPooling1D(pool_size = 2)(X)\n",
    "    X = Flatten()(X)\n",
    "    X = Dense(units = dense_units, activation = 'relu')(X)\n",
    "    X = Dense(units = 1, activation = 'sigmoid')(X)\n",
    "                          \n",
    "    model = Model(inputs = [input_word_ids, input_mask, segment_ids], outputs = X)\n",
    "    \n",
    "    for layer in model.layers[:4]:\n",
    "        layer.trainable = False\n",
    "    \n",
    "    return(model)"
   ]
  },
  {
   "cell_type": "code",
   "execution_count": 14,
   "metadata": {},
   "outputs": [],
   "source": [
    "def create_model_RNN(max_length_sequence, lstm_units, l2_kernel, l2_recurrent, l2_activity, dropout):\n",
    "    \n",
    "    input_word_ids = Input(shape=(max_length_sequence, ), dtype=tf.int32, name=\"input_word_ids\")\n",
    "    input_mask = Input(shape=(max_length_sequence, ), dtype=tf.int32, name=\"input_mask\")\n",
    "    segment_ids = Input(shape=(max_length_sequence, ), dtype=tf.int32, name=\"segment_ids\")\n",
    "    \n",
    "    embedding_layer = beto(input_word_ids, attention_mask=input_mask, token_type_ids=segment_ids)\n",
    "    \n",
    "    X = LSTM(units = lstm_units, return_sequences = False,\n",
    "            kernel_regularizer = regularizers.l2(l2_kernel),\n",
    "            recurrent_regularizer = regularizers.l2(l2_recurrent),\n",
    "            activity_regularizer = regularizers.l2(l2_activity))(embedding_layer[0])\n",
    "    \n",
    "    X = Dropout(rate = dropout)(X)\n",
    "    X = Dense(units = 1, activation = 'sigmoid')(X)\n",
    "                          \n",
    "    model = Model(inputs = [input_word_ids, input_mask, segment_ids], outputs = X)\n",
    "    \n",
    "    for layer in model.layers[:4]:\n",
    "        layer.trainable = False\n",
    "                          \n",
    "    return(model)"
   ]
  },
  {
   "cell_type": "markdown",
   "metadata": {},
   "source": [
    "#### Execute Models"
   ]
  },
  {
   "cell_type": "code",
   "execution_count": 15,
   "metadata": {},
   "outputs": [
    {
     "name": "stdout",
     "output_type": "stream",
     "text": [
      "(2571, 150) (2571, 150) (2571, 150)\n"
     ]
    }
   ],
   "source": [
    "input_ids, input_masks, input_segments = get_inputs(spanish_dataset, max_length_sequence)\n",
    "print(input_ids.shape, input_masks.shape, input_segments.shape)"
   ]
  },
  {
   "cell_type": "code",
   "execution_count": 52,
   "metadata": {},
   "outputs": [
    {
     "name": "stdout",
     "output_type": "stream",
     "text": [
      "[    4 29047  6249 30956  3269 10296 18116  6949 10406  1083  4543  1105\n",
      "  1626  2322  1498 10406 30956  2078  2570  7105 10406  1519 29047  1785\n",
      "  1130 27832  1637 30957  3180  4898  3120 14825 30957  1935  6249 30956\n",
      " 17576 10296  2035  3269 18116  6949 10406  1083  1785  1130 24861  1092\n",
      " 10296  5868 30956  9869  1626  2322  1498  1626  3756  2397  3382 30957\n",
      "  3269  7288  8173  6949  7035 14327  8636  4293  3603  1688  3469  6949\n",
      "  7035  8173 10406  1083  8636  5508  3464  1105  1845 11469  5181 17576\n",
      " 30958 30380 11712  8173  8636  2570  2338  2053  2749  1497 10296 18972\n",
      " 30956  1665  6949  4500  8168  7035  2652  3758 30956  9869  1626  2322\n",
      "  1498  9179 30956 10194  2397 25065 30958  1973  1556 30956  5334 10296\n",
      " 15067 30956 29310  1524 26635 30957 25719  4412  1207  1524  1916  2322\n",
      " 17576 15903 10799  3269 12630  6949  7035  1894  6584 18116  4002 10406\n",
      "  1519 13981  1170  3269  3207     5]\n",
      "[1. 1. 1. 1. 1. 1. 1. 1. 1. 1. 1. 1. 1. 1. 1. 1. 1. 1. 1. 1. 1. 1. 1. 1.\n",
      " 1. 1. 1. 1. 1. 1. 1. 1. 1. 1. 1. 1. 1. 1. 1. 1. 1. 1. 1. 1. 1. 1. 1. 1.\n",
      " 1. 1. 1. 1. 1. 1. 1. 1. 1. 1. 1. 1. 1. 1. 1. 1. 1. 1. 1. 1. 1. 1. 1. 1.\n",
      " 1. 1. 1. 1. 1. 1. 1. 1. 1. 1. 1. 1. 1. 1. 1. 1. 1. 1. 1. 1. 1. 1. 1. 1.\n",
      " 1. 1. 1. 1. 1. 1. 1. 1. 1. 1. 1. 1. 1. 1. 1. 1. 1. 1. 1. 1. 1. 1. 1. 1.\n",
      " 1. 1. 1. 1. 1. 1. 1. 1. 1. 1. 1. 1. 1. 1. 1. 1. 1. 1. 1. 1. 1. 1. 1. 1.\n",
      " 1. 1. 1. 1. 1. 1.]\n",
      "[0. 0. 0. 0. 0. 0. 0. 0. 0. 0. 0. 0. 0. 0. 0. 0. 0. 0. 0. 0. 0. 0. 0. 0.\n",
      " 0. 0. 0. 0. 0. 0. 0. 0. 0. 0. 0. 0. 0. 0. 0. 0. 0. 0. 0. 0. 0. 0. 0. 0.\n",
      " 0. 0. 0. 0. 0. 0. 0. 0. 0. 0. 0. 0. 0. 0. 0. 0. 0. 0. 0. 0. 0. 0. 0. 0.\n",
      " 0. 0. 0. 0. 0. 0. 0. 0. 0. 0. 0. 0. 0. 0. 0. 0. 0. 0. 0. 0. 0. 0. 0. 0.\n",
      " 0. 0. 0. 0. 0. 0. 0. 0. 0. 0. 0. 0. 0. 0. 0. 0. 0. 0. 0. 0. 0. 0. 0. 0.\n",
      " 0. 0. 0. 0. 0. 0. 0. 0. 0. 0. 0. 0. 0. 0. 0. 0. 0. 0. 0. 0. 0. 0. 0. 0.\n",
      " 0. 0. 0. 0. 0. 0.]\n"
     ]
    }
   ],
   "source": [
    "print(input_ids[0])\n",
    "print(input_masks[0])\n",
    "print(input_segments[0])"
   ]
  },
  {
   "cell_type": "code",
   "execution_count": 17,
   "metadata": {},
   "outputs": [],
   "source": [
    "test_size = 0.1\n",
    "Y = spanish_dataset.label.values\n",
    "\n",
    "input_ids_tr, input_ids_te, input_masks_tr, input_masks_te, input_segments_tr, input_segments_te, y_tr, y_te = train_test_split(\n",
    "    input_ids, input_masks, input_segments, Y, test_size = test_size, shuffle = True)"
   ]
  },
  {
   "cell_type": "code",
   "execution_count": 18,
   "metadata": {},
   "outputs": [
    {
     "name": "stdout",
     "output_type": "stream",
     "text": [
      "2313 258\n",
      "2313 258\n",
      "2313 258\n",
      "2313 258\n"
     ]
    }
   ],
   "source": [
    "print(len(input_ids_tr), len(input_ids_te))\n",
    "print(len(input_masks_tr), len(input_masks_te))\n",
    "print(len(input_segments_tr), len(input_segments_te))\n",
    "print(len(y_tr), len(y_te))"
   ]
  },
  {
   "cell_type": "markdown",
   "metadata": {},
   "source": [
    "##### outcomes with max_length_sequence = 150"
   ]
  },
  {
   "cell_type": "markdown",
   "metadata": {},
   "source": [
    "RNN"
   ]
  },
  {
   "cell_type": "code",
   "execution_count": 31,
   "metadata": {},
   "outputs": [],
   "source": [
    "epochs = 40"
   ]
  },
  {
   "cell_type": "code",
   "execution_count": 19,
   "metadata": {},
   "outputs": [
    {
     "name": "stdout",
     "output_type": "stream",
     "text": [
      "Model: \"functional_1\"\n",
      "__________________________________________________________________________________________________\n",
      "Layer (type)                    Output Shape         Param #     Connected to                     \n",
      "==================================================================================================\n",
      "input_word_ids (InputLayer)     [(None, 150)]        0                                            \n",
      "__________________________________________________________________________________________________\n",
      "input_mask (InputLayer)         [(None, 150)]        0                                            \n",
      "__________________________________________________________________________________________________\n",
      "segment_ids (InputLayer)        [(None, 150)]        0                                            \n",
      "__________________________________________________________________________________________________\n",
      "tf_bert_model (TFBertModel)     ((None, 150, 768), ( 109850880   input_word_ids[0][0]             \n",
      "                                                                 input_mask[0][0]                 \n",
      "                                                                 segment_ids[0][0]                \n",
      "__________________________________________________________________________________________________\n",
      "lstm (LSTM)                     (None, 8)            24864       tf_bert_model[0][0]              \n",
      "__________________________________________________________________________________________________\n",
      "dropout_37 (Dropout)            (None, 8)            0           lstm[0][0]                       \n",
      "__________________________________________________________________________________________________\n",
      "dense (Dense)                   (None, 1)            9           dropout_37[0][0]                 \n",
      "==================================================================================================\n",
      "Total params: 109,875,753\n",
      "Trainable params: 24,873\n",
      "Non-trainable params: 109,850,880\n",
      "__________________________________________________________________________________________________\n"
     ]
    }
   ],
   "source": [
    "RNN = create_model_RNN(max_length_sequence = max_length_sequence, lstm_units = 8, l2_kernel = 0, l2_recurrent = 0, l2_activity = 0, dropout = 0.5)\n",
    "RNN.compile(loss = 'binary_crossentropy', optimizer = 'adam', metrics = ['accuracy']) # Compile model\n",
    "RNN.summary()"
   ]
  },
  {
   "cell_type": "code",
   "execution_count": 20,
   "metadata": {},
   "outputs": [
    {
     "name": "stdout",
     "output_type": "stream",
     "text": [
      "Epoch 1/40\n",
      "73/73 [==============================] - 1091s 15s/step - loss: 0.6741 - accuracy: 0.5841\n",
      "Epoch 2/40\n",
      "73/73 [==============================] - 1020s 14s/step - loss: 0.6174 - accuracy: 0.6753\n",
      "Epoch 3/40\n",
      "73/73 [==============================] - 1003s 14s/step - loss: 0.5965 - accuracy: 0.6762\n",
      "Epoch 4/40\n",
      "73/73 [==============================] - 1031s 14s/step - loss: 0.5722 - accuracy: 0.7043\n",
      "Epoch 5/40\n",
      "73/73 [==============================] - 959s 13s/step - loss: 0.5648 - accuracy: 0.7103\n",
      "Epoch 6/40\n",
      "73/73 [==============================] - 942s 13s/step - loss: 0.5521 - accuracy: 0.7224\n",
      "Epoch 7/40\n",
      "73/73 [==============================] - 892s 12s/step - loss: 0.5179 - accuracy: 0.7505\n",
      "Epoch 8/40\n",
      "73/73 [==============================] - 837s 11s/step - loss: 0.5138 - accuracy: 0.7475\n",
      "Epoch 9/40\n",
      "73/73 [==============================] - 911s 12s/step - loss: 0.5121 - accuracy: 0.7575\n",
      "Epoch 10/40\n",
      "73/73 [==============================] - 903s 12s/step - loss: 0.4974 - accuracy: 0.7687\n",
      "Epoch 11/40\n",
      "73/73 [==============================] - 881s 12s/step - loss: 0.4820 - accuracy: 0.7752\n",
      "Epoch 12/40\n",
      "73/73 [==============================] - 937s 13s/step - loss: 0.4651 - accuracy: 0.7938\n",
      "Epoch 13/40\n",
      "73/73 [==============================] - 866s 12s/step - loss: 0.4447 - accuracy: 0.7990\n",
      "Epoch 14/40\n",
      "73/73 [==============================] - 836s 11s/step - loss: 0.4493 - accuracy: 0.7959\n",
      "Epoch 15/40\n",
      "73/73 [==============================] - 886s 12s/step - loss: 0.4517 - accuracy: 0.7985\n",
      "Epoch 16/40\n",
      "73/73 [==============================] - 820s 11s/step - loss: 0.4604 - accuracy: 0.7920\n",
      "Epoch 17/40\n",
      "73/73 [==============================] - 824s 11s/step - loss: 0.4294 - accuracy: 0.8063\n",
      "Epoch 18/40\n",
      "73/73 [==============================] - 1040s 14s/step - loss: 0.4401 - accuracy: 0.7985\n",
      "Epoch 19/40\n",
      "73/73 [==============================] - 1977s 27s/step - loss: 0.4106 - accuracy: 0.8150\n",
      "Epoch 20/40\n",
      "73/73 [==============================] - 1480s 20s/step - loss: 0.3916 - accuracy: 0.8301\n",
      "Epoch 21/40\n",
      "73/73 [==============================] - 1176s 16s/step - loss: 0.3890 - accuracy: 0.8348\n",
      "Epoch 22/40\n",
      "73/73 [==============================] - 1183s 16s/step - loss: 0.3913 - accuracy: 0.8275\n",
      "Epoch 23/40\n",
      "73/73 [==============================] - 1081s 15s/step - loss: 0.3904 - accuracy: 0.8361\n",
      "Epoch 24/40\n",
      "73/73 [==============================] - 1169s 16s/step - loss: 0.3975 - accuracy: 0.8279\n",
      "Epoch 25/40\n",
      "73/73 [==============================] - 1146s 16s/step - loss: 0.3776 - accuracy: 0.8444\n",
      "Epoch 26/40\n",
      "73/73 [==============================] - 1077s 15s/step - loss: 0.3636 - accuracy: 0.8560\n",
      "Epoch 27/40\n",
      "73/73 [==============================] - 902s 12s/step - loss: 0.3625 - accuracy: 0.8431\n",
      "Epoch 28/40\n",
      "73/73 [==============================] - 880s 12s/step - loss: 0.3612 - accuracy: 0.8487\n",
      "Epoch 29/40\n",
      "73/73 [==============================] - 890s 12s/step - loss: 0.3542 - accuracy: 0.8526\n",
      "Epoch 30/40\n",
      "73/73 [==============================] - 861s 12s/step - loss: 0.3537 - accuracy: 0.8560\n",
      "Epoch 31/40\n",
      "73/73 [==============================] - 841s 12s/step - loss: 0.3432 - accuracy: 0.8621\n",
      "Epoch 32/40\n",
      "73/73 [==============================] - 823s 11s/step - loss: 0.3165 - accuracy: 0.8716\n",
      "Epoch 33/40\n",
      "73/73 [==============================] - 796s 11s/step - loss: 0.3131 - accuracy: 0.8733\n",
      "Epoch 34/40\n",
      "73/73 [==============================] - 760s 10s/step - loss: 0.3075 - accuracy: 0.8742\n",
      "Epoch 35/40\n",
      "73/73 [==============================] - 762s 10s/step - loss: 0.2736 - accuracy: 0.8893\n",
      "Epoch 36/40\n",
      "73/73 [==============================] - 776s 11s/step - loss: 0.3047 - accuracy: 0.8729\n",
      "Epoch 37/40\n",
      "73/73 [==============================] - 745s 10s/step - loss: 0.2986 - accuracy: 0.8807\n",
      "Epoch 38/40\n",
      "73/73 [==============================] - 738s 10s/step - loss: 0.2705 - accuracy: 0.8906\n",
      "Epoch 39/40\n",
      "73/73 [==============================] - 733s 10s/step - loss: 0.3021 - accuracy: 0.8733\n",
      "Epoch 40/40\n",
      "73/73 [==============================] - 725s 10s/step - loss: 0.2741 - accuracy: 0.8876\n",
      "9/9 [==============================] - 56s 6s/step - loss: 0.5881 - accuracy: 0.7868\n",
      "0.5880562663078308 0.787\n"
     ]
    }
   ],
   "source": [
    "RNN.fit([input_ids_tr, input_masks_tr, input_segments_tr], y_tr, epochs = epochs, batch_size = batch_size, shuffle = True) # Fit model\n",
    "loss, acc = RNN.evaluate([input_ids_te, input_masks_te, input_segments_te], y_te) # Evaluate model\n",
    "print(loss, round(acc, 3))\n",
    "RNN.save_weights('../data/Weights/BETO_RNN.h5')"
   ]
  },
  {
   "cell_type": "code",
   "execution_count": 22,
   "metadata": {},
   "outputs": [
    {
     "name": "stdout",
     "output_type": "stream",
     "text": [
      "Model: \"functional_3\"\n",
      "__________________________________________________________________________________________________\n",
      "Layer (type)                    Output Shape         Param #     Connected to                     \n",
      "==================================================================================================\n",
      "input_word_ids (InputLayer)     [(None, 150)]        0                                            \n",
      "__________________________________________________________________________________________________\n",
      "input_mask (InputLayer)         [(None, 150)]        0                                            \n",
      "__________________________________________________________________________________________________\n",
      "segment_ids (InputLayer)        [(None, 150)]        0                                            \n",
      "__________________________________________________________________________________________________\n",
      "tf_bert_model (TFBertModel)     ((None, 150, 768), ( 109850880   input_word_ids[0][0]             \n",
      "                                                                 input_mask[0][0]                 \n",
      "                                                                 segment_ids[0][0]                \n",
      "__________________________________________________________________________________________________\n",
      "conv1d (Conv1D)                 (None, 141, 16)      122896      tf_bert_model[1][0]              \n",
      "__________________________________________________________________________________________________\n",
      "max_pooling1d (MaxPooling1D)    (None, 70, 16)       0           conv1d[0][0]                     \n",
      "__________________________________________________________________________________________________\n",
      "flatten (Flatten)               (None, 1120)         0           max_pooling1d[0][0]              \n",
      "__________________________________________________________________________________________________\n",
      "dense_1 (Dense)                 (None, 4)            4484        flatten[0][0]                    \n",
      "__________________________________________________________________________________________________\n",
      "dense_2 (Dense)                 (None, 1)            5           dense_1[0][0]                    \n",
      "==================================================================================================\n",
      "Total params: 109,978,265\n",
      "Trainable params: 127,385\n",
      "Non-trainable params: 109,850,880\n",
      "__________________________________________________________________________________________________\n"
     ]
    }
   ],
   "source": [
    "CNN = create_model_CNN(max_length_sequence = max_length_sequence, filters = 16, kernel_size = 10, dense_units = 4, l2_kernel = 0)\n",
    "CNN.compile(loss = 'binary_crossentropy', optimizer = 'adam', metrics = ['accuracy']) # Compile model\n",
    "CNN.summary()"
   ]
  },
  {
   "cell_type": "markdown",
   "metadata": {},
   "source": [
    "##### outcomes max_length_sequence = 200 + early_stopping"
   ]
  },
  {
   "cell_type": "markdown",
   "metadata": {},
   "source": [
    "RNN"
   ]
  },
  {
   "cell_type": "code",
   "execution_count": 32,
   "metadata": {},
   "outputs": [],
   "source": [
    "epochs = 40"
   ]
  },
  {
   "cell_type": "code",
   "execution_count": 33,
   "metadata": {},
   "outputs": [],
   "source": [
    "early_stopping = EarlyStopping(\n",
    "    monitor = 'val_accuracy',\n",
    "    patience = 5,\n",
    "    min_delta = 0.1,\n",
    "    mode = 'max',\n",
    "    restore_best_weights = True\n",
    ")"
   ]
  },
  {
   "cell_type": "code",
   "execution_count": 34,
   "metadata": {},
   "outputs": [],
   "source": [
    "validation_split = 0.1"
   ]
  },
  {
   "cell_type": "code",
   "execution_count": 35,
   "metadata": {},
   "outputs": [],
   "source": [
    "RNN = create_model_RNN(max_length_sequence = max_length_sequence, lstm_units = 8, l2_kernel = 0, l2_recurrent = 0, l2_activity = 0, dropout = 0.5)\n",
    "RNN.compile(loss = 'binary_crossentropy', optimizer = 'adam', metrics = ['accuracy']) # Compile model"
   ]
  },
  {
   "cell_type": "code",
   "execution_count": 36,
   "metadata": {},
   "outputs": [
    {
     "name": "stdout",
     "output_type": "stream",
     "text": [
      "Epoch 1/40\n",
      "66/66 [==============================] - 1117s 17s/step - loss: 0.6680 - accuracy: 0.5766 - val_loss: 0.6343 - val_accuracy: 0.6638\n",
      "Epoch 2/40\n",
      "66/66 [==============================] - 984s 15s/step - loss: 0.6168 - accuracy: 0.6684 - val_loss: 0.5796 - val_accuracy: 0.7155\n",
      "Epoch 3/40\n",
      "66/66 [==============================] - 940s 14s/step - loss: 0.6140 - accuracy: 0.6569 - val_loss: 0.5626 - val_accuracy: 0.7198\n",
      "Epoch 4/40\n",
      "66/66 [==============================] - 943s 14s/step - loss: 0.5667 - accuracy: 0.7198 - val_loss: 0.5549 - val_accuracy: 0.7284\n",
      "Epoch 5/40\n",
      "66/66 [==============================] - 953s 14s/step - loss: 0.5375 - accuracy: 0.7439 - val_loss: 0.5202 - val_accuracy: 0.7716\n",
      "Epoch 6/40\n",
      "66/66 [==============================] - 951s 14s/step - loss: 0.5366 - accuracy: 0.7501 - val_loss: 0.5229 - val_accuracy: 0.7629\n",
      "Epoch 7/40\n",
      "66/66 [==============================] - 959s 15s/step - loss: 0.5089 - accuracy: 0.7669 - val_loss: 0.5272 - val_accuracy: 0.7155\n",
      "Epoch 8/40\n",
      "66/66 [==============================] - 954s 14s/step - loss: 0.5236 - accuracy: 0.7487 - val_loss: 0.5296 - val_accuracy: 0.7371\n",
      "Epoch 9/40\n",
      "66/66 [==============================] - 952s 14s/step - loss: 0.4895 - accuracy: 0.7741 - val_loss: 0.5242 - val_accuracy: 0.7371\n",
      "Epoch 10/40\n",
      "66/66 [==============================] - 952s 14s/step - loss: 0.4646 - accuracy: 0.7953 - val_loss: 0.5035 - val_accuracy: 0.7543\n",
      "9/9 [==============================] - 75s 8s/step - loss: 0.5229 - accuracy: 0.7326\n",
      "0.523 0.733\n"
     ]
    }
   ],
   "source": [
    "RNN.fit([input_ids_tr, input_masks_tr, input_segments_tr], y_tr, epochs = epochs, batch_size = batch_size, shuffle = True, \n",
    "        validation_split = validation_split, callbacks=[early_stopping]) # Fit model\n",
    "\n",
    "loss, acc = RNN.evaluate([input_ids_te, input_masks_te, input_segments_te], y_te) # Evaluate model\n",
    "print(round(loss, 3), round(acc, 3))\n",
    "RNN.save_weights('../data/Weights/BETO_RNN_v2.h5')"
   ]
  },
  {
   "cell_type": "markdown",
   "metadata": {},
   "source": [
    "CNN"
   ]
  },
  {
   "cell_type": "code",
   "execution_count": 37,
   "metadata": {},
   "outputs": [],
   "source": [
    "CNN = create_model_CNN(max_length_sequence = max_length_sequence, filters = 16, kernel_size = 10, dense_units = 4, l2_kernel = 0)\n",
    "CNN.compile(loss = 'binary_crossentropy', optimizer = 'adam', metrics = ['accuracy']) # Compile model"
   ]
  },
  {
   "cell_type": "code",
   "execution_count": 38,
   "metadata": {},
   "outputs": [
    {
     "name": "stdout",
     "output_type": "stream",
     "text": [
      "Epoch 1/40\n",
      "66/66 [==============================] - 967s 15s/step - loss: 0.6991 - accuracy: 0.4849 - val_loss: 0.6930 - val_accuracy: 0.5302\n",
      "Epoch 2/40\n",
      "66/66 [==============================] - 957s 14s/step - loss: 0.6932 - accuracy: 0.5002 - val_loss: 0.6931 - val_accuracy: 0.5302\n",
      "Epoch 3/40\n",
      "66/66 [==============================] - 957s 15s/step - loss: 0.6932 - accuracy: 0.5002 - val_loss: 0.6931 - val_accuracy: 0.5302\n",
      "Epoch 4/40\n",
      "66/66 [==============================] - 956s 14s/step - loss: 0.6932 - accuracy: 0.4733 - val_loss: 0.6931 - val_accuracy: 0.5302\n",
      "Epoch 5/40\n",
      "66/66 [==============================] - 966s 15s/step - loss: 0.6932 - accuracy: 0.5002 - val_loss: 0.6930 - val_accuracy: 0.5302\n",
      "Epoch 6/40\n",
      "66/66 [==============================] - 956s 14s/step - loss: 0.6932 - accuracy: 0.5002 - val_loss: 0.6930 - val_accuracy: 0.5302\n",
      "9/9 [==============================] - 76s 8s/step - loss: 0.6932 - accuracy: 0.4922\n",
      "0.693 0.492\n"
     ]
    }
   ],
   "source": [
    "CNN.fit([input_ids_tr, input_masks_tr, input_segments_tr], y_tr, epochs = epochs, batch_size = batch_size, shuffle = True, \n",
    "       validation_split = validation_split, callbacks=[early_stopping]) # Fit model\n",
    "\n",
    "loss, acc = CNN.evaluate([input_ids_te, input_masks_te, input_segments_te], y_te) # Evaluate model\n",
    "print(round(loss, 3), round(acc, 3))\n",
    "CNN.save_weights('../data/Weights/BETO_CNN_v2.h5')"
   ]
  },
  {
   "cell_type": "markdown",
   "metadata": {},
   "source": [
    "##### outcomes max_length_sequence = 150 + early_stopping"
   ]
  },
  {
   "cell_type": "markdown",
   "metadata": {},
   "source": [
    "RNN"
   ]
  },
  {
   "cell_type": "code",
   "execution_count": 18,
   "metadata": {},
   "outputs": [],
   "source": [
    "epochs = 40\n",
    "validation_split = 0.1"
   ]
  },
  {
   "cell_type": "code",
   "execution_count": 19,
   "metadata": {},
   "outputs": [],
   "source": [
    "early_stopping = EarlyStopping(\n",
    "    monitor = 'val_accuracy',\n",
    "    patience = 5,\n",
    "    min_delta = 0.05,\n",
    "    mode = 'max',\n",
    "    restore_best_weights = True\n",
    ")"
   ]
  },
  {
   "cell_type": "code",
   "execution_count": 20,
   "metadata": {},
   "outputs": [],
   "source": [
    "RNN = create_model_RNN(max_length_sequence = max_length_sequence, lstm_units = 8, l2_kernel = 0, l2_recurrent = 0, l2_activity = 0, dropout = 0.5)\n",
    "RNN.compile(loss = 'binary_crossentropy', optimizer = 'adam', metrics = ['accuracy']) # Compile model"
   ]
  },
  {
   "cell_type": "code",
   "execution_count": 21,
   "metadata": {},
   "outputs": [
    {
     "name": "stdout",
     "output_type": "stream",
     "text": [
      "Epoch 1/40\n",
      "66/66 [==============================] - 778s 12s/step - loss: 0.6743 - accuracy: 0.5776 - val_loss: 0.6205 - val_accuracy: 0.6767\n",
      "Epoch 2/40\n",
      "66/66 [==============================] - 793s 12s/step - loss: 0.6183 - accuracy: 0.6684 - val_loss: 0.6297 - val_accuracy: 0.6164\n",
      "Epoch 3/40\n",
      "66/66 [==============================] - 778s 12s/step - loss: 0.5951 - accuracy: 0.6824 - val_loss: 0.5629 - val_accuracy: 0.7069\n",
      "Epoch 4/40\n",
      "66/66 [==============================] - 772s 12s/step - loss: 0.5695 - accuracy: 0.7088 - val_loss: 0.5456 - val_accuracy: 0.7500\n",
      "Epoch 5/40\n",
      "66/66 [==============================] - 764s 12s/step - loss: 0.5467 - accuracy: 0.7184 - val_loss: 0.5412 - val_accuracy: 0.7371\n",
      "Epoch 6/40\n",
      "66/66 [==============================] - 748s 11s/step - loss: 0.5506 - accuracy: 0.7299 - val_loss: 0.5391 - val_accuracy: 0.7155\n",
      "Epoch 7/40\n",
      "66/66 [==============================] - 750s 11s/step - loss: 0.5336 - accuracy: 0.7381 - val_loss: 0.4967 - val_accuracy: 0.7931\n",
      "Epoch 8/40\n",
      "66/66 [==============================] - 749s 11s/step - loss: 0.5582 - accuracy: 0.7064 - val_loss: 0.5430 - val_accuracy: 0.7457\n",
      "Epoch 9/40\n",
      "66/66 [==============================] - 740s 11s/step - loss: 0.5287 - accuracy: 0.7463 - val_loss: 0.5279 - val_accuracy: 0.7759\n",
      "9/9 [==============================] - 58s 6s/step - loss: 0.5376 - accuracy: 0.7519\n",
      "0.538 0.752\n"
     ]
    }
   ],
   "source": [
    "RNN.fit([input_ids_tr, input_masks_tr, input_segments_tr], y_tr, epochs = epochs, batch_size = batch_size, shuffle = True, \n",
    "        validation_split = validation_split, callbacks=[early_stopping]) # Fit model\n",
    "\n",
    "loss, acc = RNN.evaluate([input_ids_te, input_masks_te, input_segments_te], y_te) # Evaluate model\n",
    "print(round(loss, 3), round(acc, 3))\n",
    "RNN.save_weights('../data/Weights/BETO_RNN_E_S_val_acc.h5')"
   ]
  },
  {
   "cell_type": "code",
   "execution_count": 22,
   "metadata": {},
   "outputs": [],
   "source": [
    "early_stopping = EarlyStopping(\n",
    "    monitor = 'val_loss',\n",
    "    patience = 5,\n",
    "    min_delta = 0.1,\n",
    "    mode = 'min',\n",
    "    restore_best_weights = True\n",
    ")"
   ]
  },
  {
   "cell_type": "code",
   "execution_count": 23,
   "metadata": {},
   "outputs": [],
   "source": [
    "RNN = create_model_RNN(max_length_sequence = max_length_sequence, lstm_units = 8, l2_kernel = 0, l2_recurrent = 0, l2_activity = 0, dropout = 0.5)\n",
    "RNN.compile(loss = 'binary_crossentropy', optimizer = 'adam', metrics = ['accuracy']) # Compile model"
   ]
  },
  {
   "cell_type": "code",
   "execution_count": 24,
   "metadata": {},
   "outputs": [
    {
     "name": "stdout",
     "output_type": "stream",
     "text": [
      "Epoch 1/40\n",
      "66/66 [==============================] - 748s 11s/step - loss: 0.6832 - accuracy: 0.5656 - val_loss: 0.6358 - val_accuracy: 0.6681\n",
      "Epoch 2/40\n",
      "66/66 [==============================] - 765s 12s/step - loss: 0.6203 - accuracy: 0.6598 - val_loss: 0.5789 - val_accuracy: 0.7026\n",
      "Epoch 3/40\n",
      "66/66 [==============================] - 756s 11s/step - loss: 0.5826 - accuracy: 0.6881 - val_loss: 0.5678 - val_accuracy: 0.7155\n",
      "Epoch 4/40\n",
      "66/66 [==============================] - 727s 11s/step - loss: 0.5709 - accuracy: 0.7189 - val_loss: 0.5646 - val_accuracy: 0.6983\n",
      "Epoch 5/40\n",
      "66/66 [==============================] - 718s 11s/step - loss: 0.5604 - accuracy: 0.7242 - val_loss: 0.5464 - val_accuracy: 0.7414\n",
      "Epoch 6/40\n",
      "66/66 [==============================] - 714s 11s/step - loss: 0.5526 - accuracy: 0.7251 - val_loss: 0.5403 - val_accuracy: 0.7586\n",
      "9/9 [==============================] - 61s 7s/step - loss: 0.6228 - accuracy: 0.6938\n",
      "0.623 0.694\n"
     ]
    }
   ],
   "source": [
    "RNN.fit([input_ids_tr, input_masks_tr, input_segments_tr], y_tr, epochs = epochs, batch_size = batch_size, shuffle = True, \n",
    "        validation_split = validation_split, callbacks=[early_stopping]) # Fit model\n",
    "\n",
    "loss, acc = RNN.evaluate([input_ids_te, input_masks_te, input_segments_te], y_te) # Evaluate model\n",
    "print(round(loss, 3), round(acc, 3))\n",
    "RNN.save_weights('../data/Weights/BETO_RNN_E_S_val_loss.h5')"
   ]
  },
  {
   "cell_type": "markdown",
   "metadata": {},
   "source": [
    "25 epochs without early_stopping"
   ]
  },
  {
   "cell_type": "code",
   "execution_count": 25,
   "metadata": {},
   "outputs": [],
   "source": [
    "epochs = 25"
   ]
  },
  {
   "cell_type": "code",
   "execution_count": 26,
   "metadata": {},
   "outputs": [],
   "source": [
    "RNN = create_model_RNN(max_length_sequence = max_length_sequence, lstm_units = 8, l2_kernel = 0, l2_recurrent = 0, l2_activity = 0, dropout = 0.5)\n",
    "RNN.compile(loss = 'binary_crossentropy', optimizer = 'adam', metrics = ['accuracy']) # Compile model"
   ]
  },
  {
   "cell_type": "code",
   "execution_count": 27,
   "metadata": {},
   "outputs": [
    {
     "name": "stdout",
     "output_type": "stream",
     "text": [
      "Epoch 1/25\n",
      "73/73 [==============================] - 713s 10s/step - loss: 0.6812 - accuracy: 0.5793\n",
      "Epoch 2/25\n",
      "73/73 [==============================] - 709s 10s/step - loss: 0.6289 - accuracy: 0.6485\n",
      "Epoch 3/25\n",
      "73/73 [==============================] - 705s 10s/step - loss: 0.6093 - accuracy: 0.6844\n",
      "Epoch 4/25\n",
      "73/73 [==============================] - 722s 10s/step - loss: 0.5621 - accuracy: 0.7216\n",
      "Epoch 5/25\n",
      "73/73 [==============================] - 730s 10s/step - loss: 0.5547 - accuracy: 0.7207\n",
      "Epoch 6/25\n",
      "73/73 [==============================] - 734s 10s/step - loss: 0.5297 - accuracy: 0.7475\n",
      "Epoch 7/25\n",
      "73/73 [==============================] - 719s 10s/step - loss: 0.5138 - accuracy: 0.7622\n",
      "Epoch 8/25\n",
      "73/73 [==============================] - 709s 10s/step - loss: 0.4919 - accuracy: 0.7717\n",
      "Epoch 9/25\n",
      "73/73 [==============================] - 702s 10s/step - loss: 0.4860 - accuracy: 0.7696\n",
      "Epoch 10/25\n",
      "73/73 [==============================] - 701s 10s/step - loss: 0.4749 - accuracy: 0.7838\n",
      "Epoch 11/25\n",
      "73/73 [==============================] - 693s 9s/step - loss: 0.4470 - accuracy: 0.7938\n",
      "Epoch 12/25\n",
      "73/73 [==============================] - 700s 10s/step - loss: 0.4356 - accuracy: 0.8037\n",
      "Epoch 13/25\n",
      "73/73 [==============================] - 695s 10s/step - loss: 0.4330 - accuracy: 0.8037\n",
      "Epoch 14/25\n",
      "73/73 [==============================] - 691s 9s/step - loss: 0.4230 - accuracy: 0.8223\n",
      "Epoch 15/25\n",
      "73/73 [==============================] - 744s 10s/step - loss: 0.4018 - accuracy: 0.8236\n",
      "Epoch 16/25\n",
      "73/73 [==============================] - 744s 10s/step - loss: 0.4158 - accuracy: 0.8236\n",
      "Epoch 17/25\n",
      "73/73 [==============================] - 733s 10s/step - loss: 0.3900 - accuracy: 0.8344\n",
      "Epoch 18/25\n",
      "73/73 [==============================] - 710s 10s/step - loss: 0.3842 - accuracy: 0.8340\n",
      "Epoch 19/25\n",
      "73/73 [==============================] - 703s 10s/step - loss: 0.3701 - accuracy: 0.8405\n",
      "Epoch 20/25\n",
      "73/73 [==============================] - 709s 10s/step - loss: 0.3759 - accuracy: 0.8392\n",
      "Epoch 21/25\n",
      "73/73 [==============================] - 706s 10s/step - loss: 0.3489 - accuracy: 0.8461\n",
      "Epoch 22/25\n",
      "73/73 [==============================] - 710s 10s/step - loss: 0.3815 - accuracy: 0.8366\n",
      "Epoch 23/25\n",
      "73/73 [==============================] - 702s 10s/step - loss: 0.3321 - accuracy: 0.8612\n",
      "Epoch 24/25\n",
      "73/73 [==============================] - 705s 10s/step - loss: 0.3215 - accuracy: 0.8668\n",
      "Epoch 25/25\n",
      "73/73 [==============================] - 706s 10s/step - loss: 0.3455 - accuracy: 0.8547\n",
      "9/9 [==============================] - 56s 6s/step - loss: 0.5430 - accuracy: 0.7946\n",
      "0.543 0.795\n"
     ]
    }
   ],
   "source": [
    "RNN.fit([input_ids_tr, input_masks_tr, input_segments_tr], y_tr, epochs = epochs, batch_size = batch_size, shuffle = True) # Fit model\n",
    "loss, acc = RNN.evaluate([input_ids_te, input_masks_te, input_segments_te], y_te) # Evaluate model\n",
    "print(round(loss, 3), round(acc, 3))\n",
    "RNN.save_weights('../data/Weights/BETO_RNN_NO_E_S_25e.h5')"
   ]
  },
  {
   "cell_type": "code",
   "execution_count": 55,
   "metadata": {},
   "outputs": [
    {
     "name": "stdout",
     "output_type": "stream",
     "text": [
      "Epoch 1/25\n",
      "73/73 [==============================] - 693s 9s/step - loss: 0.6712 - accuracy: 0.5854\n",
      "Epoch 2/25\n",
      "73/73 [==============================] - 691s 9s/step - loss: 0.6142 - accuracy: 0.6628\n",
      "Epoch 3/25\n",
      "73/73 [==============================] - 691s 9s/step - loss: 0.5936 - accuracy: 0.6827\n",
      "Epoch 4/25\n",
      "73/73 [==============================] - 691s 9s/step - loss: 0.5713 - accuracy: 0.7034\n",
      "Epoch 5/25\n",
      "73/73 [==============================] - 697s 10s/step - loss: 0.5462 - accuracy: 0.7233\n",
      "Epoch 6/25\n",
      "73/73 [==============================] - 695s 10s/step - loss: 0.5271 - accuracy: 0.7475\n",
      "Epoch 7/25\n",
      "73/73 [==============================] - 689s 9s/step - loss: 0.5108 - accuracy: 0.7596\n",
      "Epoch 8/25\n",
      "73/73 [==============================] - 692s 9s/step - loss: 0.4892 - accuracy: 0.7765\n",
      "Epoch 9/25\n",
      "73/73 [==============================] - 696s 10s/step - loss: 0.4903 - accuracy: 0.7748\n",
      "Epoch 10/25\n",
      "73/73 [==============================] - 692s 9s/step - loss: 0.4714 - accuracy: 0.7873\n",
      "Epoch 11/25\n",
      "73/73 [==============================] - 697s 10s/step - loss: 0.4694 - accuracy: 0.7786\n",
      "Epoch 12/25\n",
      "73/73 [==============================] - 688s 9s/step - loss: 0.4636 - accuracy: 0.7895\n",
      "Epoch 13/25\n",
      "73/73 [==============================] - 688s 9s/step - loss: 0.4379 - accuracy: 0.8158\n",
      "Epoch 14/25\n",
      "73/73 [==============================] - 690s 9s/step - loss: 0.4426 - accuracy: 0.8124\n",
      "Epoch 15/25\n",
      "73/73 [==============================] - 688s 9s/step - loss: 0.4136 - accuracy: 0.8275\n",
      "Epoch 16/25\n",
      "73/73 [==============================] - 689s 9s/step - loss: 0.4150 - accuracy: 0.8232\n",
      "Epoch 17/25\n",
      "73/73 [==============================] - 690s 9s/step - loss: 0.4080 - accuracy: 0.8305\n",
      "Epoch 18/25\n",
      "73/73 [==============================] - 689s 9s/step - loss: 0.4310 - accuracy: 0.8124\n",
      "Epoch 19/25\n",
      "73/73 [==============================] - 696s 10s/step - loss: 0.4060 - accuracy: 0.8331\n",
      "Epoch 20/25\n",
      "73/73 [==============================] - 699s 10s/step - loss: 0.4027 - accuracy: 0.8262\n",
      "Epoch 21/25\n",
      "73/73 [==============================] - 713s 10s/step - loss: 0.3989 - accuracy: 0.8370\n",
      "Epoch 22/25\n",
      "73/73 [==============================] - 713s 10s/step - loss: 0.3828 - accuracy: 0.8348\n",
      "Epoch 23/25\n",
      "73/73 [==============================] - 724s 10s/step - loss: 0.3708 - accuracy: 0.8383\n",
      "Epoch 24/25\n",
      "73/73 [==============================] - 730s 10s/step - loss: 0.3585 - accuracy: 0.8569\n",
      "Epoch 25/25\n",
      "73/73 [==============================] - 732s 10s/step - loss: 0.3645 - accuracy: 0.8470\n",
      "9/9 [==============================] - 61s 7s/step - loss: 0.5705 - accuracy: 0.7442\n",
      "0.57 0.744\n",
      "---\n",
      "Epoch 1/25\n",
      "73/73 [==============================] - 735s 10s/step - loss: 0.6833 - accuracy: 0.5659\n",
      "Epoch 2/25\n",
      "73/73 [==============================] - 741s 10s/step - loss: 0.6294 - accuracy: 0.6425\n",
      "Epoch 3/25\n",
      "73/73 [==============================] - 748s 10s/step - loss: 0.5824 - accuracy: 0.7043\n",
      "Epoch 4/25\n",
      "73/73 [==============================] - 758s 10s/step - loss: 0.5606 - accuracy: 0.7138\n",
      "Epoch 5/25\n",
      "73/73 [==============================] - 762s 10s/step - loss: 0.5557 - accuracy: 0.7281\n",
      "Epoch 6/25\n",
      "73/73 [==============================] - 767s 11s/step - loss: 0.5230 - accuracy: 0.7531\n",
      "Epoch 7/25\n",
      "73/73 [==============================] - 763s 10s/step - loss: 0.5266 - accuracy: 0.7479\n",
      "Epoch 8/25\n",
      "73/73 [==============================] - 772s 11s/step - loss: 0.5006 - accuracy: 0.7631\n",
      "Epoch 9/25\n",
      "73/73 [==============================] - 766s 10s/step - loss: 0.5020 - accuracy: 0.7739\n",
      "Epoch 10/25\n",
      "73/73 [==============================] - 761s 10s/step - loss: 0.4655 - accuracy: 0.7968\n",
      "Epoch 11/25\n",
      "73/73 [==============================] - 771s 11s/step - loss: 0.4731 - accuracy: 0.7968\n",
      "Epoch 12/25\n",
      "73/73 [==============================] - 764s 10s/step - loss: 0.4487 - accuracy: 0.7946\n",
      "Epoch 13/25\n",
      "73/73 [==============================] - 761s 10s/step - loss: 0.4401 - accuracy: 0.7998\n",
      "Epoch 14/25\n",
      "73/73 [==============================] - 756s 10s/step - loss: 0.4303 - accuracy: 0.8137\n",
      "Epoch 15/25\n",
      "73/73 [==============================] - 767s 11s/step - loss: 0.4171 - accuracy: 0.8176\n",
      "Epoch 16/25\n",
      "73/73 [==============================] - 745s 10s/step - loss: 0.4199 - accuracy: 0.8197\n",
      "Epoch 17/25\n",
      "73/73 [==============================] - 743s 10s/step - loss: 0.4196 - accuracy: 0.8145\n",
      "Epoch 18/25\n",
      "73/73 [==============================] - 747s 10s/step - loss: 0.4063 - accuracy: 0.8335\n",
      "Epoch 19/25\n",
      "73/73 [==============================] - 728s 10s/step - loss: 0.3838 - accuracy: 0.8361\n",
      "Epoch 20/25\n",
      "73/73 [==============================] - 694s 10s/step - loss: 0.3918 - accuracy: 0.8344\n",
      "Epoch 21/25\n",
      "73/73 [==============================] - 691s 9s/step - loss: 0.4020 - accuracy: 0.8266\n",
      "Epoch 22/25\n",
      "73/73 [==============================] - 691s 9s/step - loss: 0.3672 - accuracy: 0.8439\n",
      "Epoch 23/25\n",
      "73/73 [==============================] - 696s 10s/step - loss: 0.3562 - accuracy: 0.8604\n",
      "Epoch 24/25\n",
      "73/73 [==============================] - 690s 9s/step - loss: 0.3499 - accuracy: 0.8573\n",
      "Epoch 25/25\n",
      "73/73 [==============================] - 691s 9s/step - loss: 0.3598 - accuracy: 0.8526\n",
      "9/9 [==============================] - 56s 6s/step - loss: 0.5162 - accuracy: 0.7829\n",
      "0.516 0.783\n",
      "---\n",
      "Epoch 1/25\n",
      "73/73 [==============================] - 694s 10s/step - loss: 0.6752 - accuracy: 0.5802\n",
      "Epoch 2/25\n",
      "73/73 [==============================] - 694s 10s/step - loss: 0.6317 - accuracy: 0.6420\n",
      "Epoch 3/25\n",
      "73/73 [==============================] - 699s 10s/step - loss: 0.6029 - accuracy: 0.6736\n",
      "Epoch 4/25\n",
      "73/73 [==============================] - 695s 10s/step - loss: 0.5681 - accuracy: 0.7121\n",
      "Epoch 5/25\n",
      "73/73 [==============================] - 709s 10s/step - loss: 0.5525 - accuracy: 0.7250\n",
      "Epoch 6/25\n",
      "73/73 [==============================] - 692s 9s/step - loss: 0.5197 - accuracy: 0.7501\n",
      "Epoch 7/25\n",
      "73/73 [==============================] - 698s 10s/step - loss: 0.5053 - accuracy: 0.7566\n",
      "Epoch 8/25\n",
      "73/73 [==============================] - 704s 10s/step - loss: 0.5088 - accuracy: 0.7648\n",
      "Epoch 9/25\n",
      "73/73 [==============================] - 699s 10s/step - loss: 0.4847 - accuracy: 0.7778\n",
      "Epoch 10/25\n",
      "73/73 [==============================] - 694s 10s/step - loss: 0.4931 - accuracy: 0.7570\n",
      "Epoch 11/25\n",
      "73/73 [==============================] - 690s 9s/step - loss: 0.4613 - accuracy: 0.7907\n",
      "Epoch 12/25\n",
      "73/73 [==============================] - 708s 10s/step - loss: 0.4851 - accuracy: 0.7678\n",
      "Epoch 13/25\n",
      "73/73 [==============================] - 703s 10s/step - loss: 0.4599 - accuracy: 0.7972\n",
      "Epoch 14/25\n",
      "73/73 [==============================] - 704s 10s/step - loss: 0.4546 - accuracy: 0.7877\n",
      "Epoch 15/25\n",
      "73/73 [==============================] - 692s 9s/step - loss: 0.4315 - accuracy: 0.8085\n",
      "Epoch 16/25\n",
      "73/73 [==============================] - 694s 10s/step - loss: 0.4162 - accuracy: 0.8197\n",
      "Epoch 17/25\n",
      "73/73 [==============================] - 699s 10s/step - loss: 0.3963 - accuracy: 0.8245\n",
      "Epoch 18/25\n",
      "73/73 [==============================] - 697s 10s/step - loss: 0.3983 - accuracy: 0.8262\n",
      "Epoch 19/25\n",
      "73/73 [==============================] - 713s 10s/step - loss: 0.3779 - accuracy: 0.8361\n",
      "Epoch 20/25\n",
      "73/73 [==============================] - 694s 10s/step - loss: 0.3842 - accuracy: 0.8405\n",
      "Epoch 21/25\n",
      "73/73 [==============================] - 701s 10s/step - loss: 0.3799 - accuracy: 0.8348\n",
      "Epoch 22/25\n",
      "73/73 [==============================] - 699s 10s/step - loss: 0.3869 - accuracy: 0.8357\n",
      "Epoch 23/25\n",
      "73/73 [==============================] - 702s 10s/step - loss: 0.3699 - accuracy: 0.8335\n",
      "Epoch 24/25\n",
      "73/73 [==============================] - 708s 10s/step - loss: 0.3766 - accuracy: 0.8335\n",
      "Epoch 25/25\n",
      "73/73 [==============================] - 695s 10s/step - loss: 0.3550 - accuracy: 0.8482\n",
      "9/9 [==============================] - 54s 6s/step - loss: 0.5338 - accuracy: 0.7558\n",
      "0.534 0.756\n",
      "---\n",
      "Epoch 1/25\n",
      "73/73 [==============================] - 696s 10s/step - loss: 0.6721 - accuracy: 0.5746\n",
      "Epoch 2/25\n",
      "73/73 [==============================] - 704s 10s/step - loss: 0.6253 - accuracy: 0.6589\n",
      "Epoch 3/25\n",
      "73/73 [==============================] - 704s 10s/step - loss: 0.5812 - accuracy: 0.7017\n",
      "Epoch 4/25\n",
      "73/73 [==============================] - 712s 10s/step - loss: 0.5622 - accuracy: 0.7237\n",
      "Epoch 5/25\n",
      "73/73 [==============================] - 703s 10s/step - loss: 0.5352 - accuracy: 0.7315\n",
      "Epoch 6/25\n",
      "73/73 [==============================] - 711s 10s/step - loss: 0.5030 - accuracy: 0.7544\n",
      "Epoch 7/25\n",
      "73/73 [==============================] - 708s 10s/step - loss: 0.5070 - accuracy: 0.7648\n",
      "Epoch 8/25\n",
      "73/73 [==============================] - 707s 10s/step - loss: 0.4924 - accuracy: 0.7648\n",
      "Epoch 9/25\n",
      "73/73 [==============================] - 710s 10s/step - loss: 0.4734 - accuracy: 0.7847\n",
      "Epoch 10/25\n",
      "73/73 [==============================] - 706s 10s/step - loss: 0.4618 - accuracy: 0.7812\n",
      "Epoch 11/25\n",
      "73/73 [==============================] - 707s 10s/step - loss: 0.4395 - accuracy: 0.8124\n",
      "Epoch 12/25\n",
      "73/73 [==============================] - 706s 10s/step - loss: 0.4421 - accuracy: 0.8029\n",
      "Epoch 13/25\n",
      "73/73 [==============================] - 706s 10s/step - loss: 0.4140 - accuracy: 0.8197\n",
      "Epoch 14/25\n",
      "73/73 [==============================] - 710s 10s/step - loss: 0.4186 - accuracy: 0.8171\n",
      "Epoch 15/25\n",
      "73/73 [==============================] - 712s 10s/step - loss: 0.4232 - accuracy: 0.8188\n",
      "Epoch 16/25\n",
      "73/73 [==============================] - 708s 10s/step - loss: 0.3934 - accuracy: 0.8348\n",
      "Epoch 17/25\n",
      "73/73 [==============================] - 707s 10s/step - loss: 0.3884 - accuracy: 0.8383\n",
      "Epoch 18/25\n",
      "73/73 [==============================] - 706s 10s/step - loss: 0.3828 - accuracy: 0.8340\n",
      "Epoch 19/25\n",
      "73/73 [==============================] - 708s 10s/step - loss: 0.3681 - accuracy: 0.8426\n",
      "Epoch 20/25\n",
      "73/73 [==============================] - 705s 10s/step - loss: 0.3634 - accuracy: 0.8491\n",
      "Epoch 21/25\n",
      "73/73 [==============================] - 714s 10s/step - loss: 0.3549 - accuracy: 0.8556\n",
      "Epoch 22/25\n",
      "73/73 [==============================] - 709s 10s/step - loss: 0.3568 - accuracy: 0.8526\n",
      "Epoch 23/25\n",
      "73/73 [==============================] - 709s 10s/step - loss: 0.3393 - accuracy: 0.8604\n",
      "Epoch 24/25\n",
      "73/73 [==============================] - 712s 10s/step - loss: 0.3294 - accuracy: 0.8651\n",
      "Epoch 25/25\n",
      "73/73 [==============================] - 708s 10s/step - loss: 0.3226 - accuracy: 0.8738\n",
      "9/9 [==============================] - 56s 6s/step - loss: 0.4733 - accuracy: 0.8101\n",
      "0.473 0.81\n",
      "---\n",
      "test_acc_avg: 0.7732558250427246\n"
     ]
    }
   ],
   "source": [
    "epochs = 25\n",
    "test_size = 0.1\n",
    "total_models = 4\n",
    "\n",
    "Y = spanish_dataset.label.values\n",
    "input_ids, input_masks, input_segments = get_inputs(spanish_dataset, max_length_sequence)\n",
    "test_acc_avg = 0\n",
    "\n",
    "for i in range(total_models):\n",
    "    \n",
    "    input_ids_tr, input_ids_te, input_masks_tr, input_masks_te, input_segments_tr, input_segments_te, y_tr, y_te = train_test_split(\n",
    "        input_ids, input_masks, input_segments, Y, test_size = test_size, shuffle = True)\n",
    "    \n",
    "    RNN = create_model_RNN(max_length_sequence = max_length_sequence, lstm_units = 8, l2_kernel = 0, l2_recurrent = 0, l2_activity = 0, dropout = 0.5)\n",
    "    RNN.compile(loss = 'binary_crossentropy', optimizer = 'adam', metrics = ['accuracy']) # Compile model\n",
    "    \n",
    "    RNN.fit([input_ids_tr, input_masks_tr, input_segments_tr], y_tr, epochs = epochs, batch_size = batch_size, shuffle = True) # Fit model\n",
    "    loss, acc = RNN.evaluate([input_ids_te, input_masks_te, input_segments_te], y_te) # Evaluate model\n",
    "    print(round(loss, 3), round(acc, 3))\n",
    "    print('---')\n",
    "    test_acc_avg += acc\n",
    "    RNN.save_weights('../data/Weights/BETO_RNN_M_'+ str(i) +'.h5')\n",
    "\n",
    "print('test_acc_avg: ' + str(test_acc_avg / total_models))"
   ]
  },
  {
   "cell_type": "markdown",
   "metadata": {},
   "source": [
    "---"
   ]
  },
  {
   "cell_type": "markdown",
   "metadata": {},
   "source": [
    "#### Confusion Matrix for LSTM"
   ]
  },
  {
   "cell_type": "code",
   "execution_count": 60,
   "metadata": {},
   "outputs": [],
   "source": [
    "def plot_confusion_matrix(y_true, y_pred):\n",
    "    cm = confusion_matrix(y_true, y_pred)\n",
    "    disp = ConfusionMatrixDisplay(confusion_matrix=cm, display_labels = ['Real News', 'Fake News'])\n",
    "    disp = disp.plot(cmap='Blues')\n",
    "    plt.show()"
   ]
  },
  {
   "cell_type": "code",
   "execution_count": null,
   "metadata": {},
   "outputs": [],
   "source": [
    "epochs = 25\n",
    "test_size = 0.1\n",
    "total_models = 5\n",
    "\n",
    "Y = spanish_dataset.label.values\n",
    "input_ids, input_masks, input_segments = get_inputs(spanish_dataset, max_length_sequence)\n",
    "test_acc_avg = 0\n",
    "\n",
    "for i in range(total_models):\n",
    "    \n",
    "    input_ids_tr, input_ids_te, input_masks_tr, input_masks_te, input_segments_tr, input_segments_te, y_tr, y_te = train_test_split(\n",
    "        input_ids, input_masks, input_segments, Y, test_size = test_size, random_state = i)\n",
    "    \n",
    "    RNN = create_model_RNN(max_length_sequence = max_length_sequence, lstm_units = 8, l2_kernel = 0, l2_recurrent = 0, l2_activity = 0, dropout = 0.5)\n",
    "    RNN.compile(loss = 'binary_crossentropy', optimizer = 'adam', metrics = ['accuracy']) # Compile model\n",
    "    \n",
    "    RNN.fit([input_ids_tr, input_masks_tr, input_segments_tr], y_tr, epochs = epochs, batch_size = batch_size, shuffle = True) # Fit model\n",
    "    loss, acc = RNN.evaluate([input_ids_te, input_masks_te, input_segments_te], y_te) # Evaluate model\n",
    "    print('---')\n",
    "    test_acc_avg += acc\n",
    "    \n",
    "    y_pred = RNN.predict([input_ids_te, input_masks_te, input_segments_te])\n",
    "    y_pred = y_pred > 0.5 # Sigmoid activation function\n",
    "    plot_confusion_matrix(y_te, y_pred)\n",
    "    \n",
    "    RNN.save_weights('../data/Weights/BETO_RNN_CM_'+ str(i) +'.h5')\n",
    "\n",
    "print('test_acc_avg: ' + str(test_acc_avg / total_models))"
   ]
  }
 ],
 "metadata": {
  "kernelspec": {
   "display_name": "Python 3",
   "language": "python",
   "name": "python3"
  },
  "language_info": {
   "codemirror_mode": {
    "name": "ipython",
    "version": 3
   },
   "file_extension": ".py",
   "mimetype": "text/x-python",
   "name": "python",
   "nbconvert_exporter": "python",
   "pygments_lexer": "ipython3",
   "version": "3.8.3"
  }
 },
 "nbformat": 4,
 "nbformat_minor": 4
}
