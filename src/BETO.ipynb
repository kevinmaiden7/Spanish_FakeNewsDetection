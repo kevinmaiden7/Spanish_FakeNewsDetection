{
 "cells": [
  {
   "cell_type": "code",
   "execution_count": 23,
   "metadata": {},
   "outputs": [
    {
     "name": "stdout",
     "output_type": "stream",
     "text": [
      "TF version:  2.3.1\n"
     ]
    }
   ],
   "source": [
    "import tensorflow as tf\n",
    "print(\"TF version: \", tf.__version__)"
   ]
  },
  {
   "cell_type": "code",
   "execution_count": 24,
   "metadata": {},
   "outputs": [],
   "source": [
    "from transformers import AutoConfig, AutoModel, TFAutoModel, AutoTokenizer"
   ]
  },
  {
   "cell_type": "code",
   "execution_count": 25,
   "metadata": {},
   "outputs": [],
   "source": [
    "import numpy as np\n",
    "import pandas as pd\n",
    "\n",
    "from sklearn.model_selection import train_test_split\n",
    "from sklearn.metrics import accuracy_score\n",
    "\n",
    "from data_preprocessing import remove_stop_words, text_normalization, add_data_portion\n",
    "\n",
    "from keras.models import Model\n",
    "from keras.layers import Input, Dense, LSTM, Dropout, Flatten, Conv1D, MaxPooling1D\n",
    "from tensorflow.keras import regularizers"
   ]
  },
  {
   "cell_type": "markdown",
   "metadata": {},
   "source": [
    "#### Load Dataset"
   ]
  },
  {
   "cell_type": "code",
   "execution_count": 26,
   "metadata": {},
   "outputs": [
    {
     "name": "stdout",
     "output_type": "stream",
     "text": [
      "(2571, 2)\n"
     ]
    }
   ],
   "source": [
    "spanish_dataset = pd.read_csv('../data/Merged/spanish_dataset.csv')\n",
    "print(spanish_dataset.shape)"
   ]
  },
  {
   "cell_type": "code",
   "execution_count": 27,
   "metadata": {},
   "outputs": [],
   "source": [
    "max_length_sequence = 50"
   ]
  },
  {
   "cell_type": "markdown",
   "metadata": {},
   "source": [
    "#### Load BETO Model"
   ]
  },
  {
   "cell_type": "code",
   "execution_count": 28,
   "metadata": {},
   "outputs": [
    {
     "name": "stdout",
     "output_type": "stream",
     "text": [
      "{\n",
      "  \"attention_probs_dropout_prob\": 0.1,\n",
      "  \"finetuning_task\": null,\n",
      "  \"hidden_act\": \"gelu\",\n",
      "  \"hidden_dropout_prob\": 0.1,\n",
      "  \"hidden_size\": 768,\n",
      "  \"initializer_range\": 0.02,\n",
      "  \"intermediate_size\": 3072,\n",
      "  \"layer_norm_eps\": 1e-12,\n",
      "  \"max_position_embeddings\": 512,\n",
      "  \"num_attention_heads\": 12,\n",
      "  \"num_hidden_layers\": 12,\n",
      "  \"num_labels\": 2,\n",
      "  \"output_attentions\": false,\n",
      "  \"output_hidden_states\": false,\n",
      "  \"output_past\": true,\n",
      "  \"pruned_heads\": {},\n",
      "  \"torchscript\": false,\n",
      "  \"type_vocab_size\": 2,\n",
      "  \"use_bfloat16\": false,\n",
      "  \"vocab_size\": 31002\n",
      "}\n",
      " <transformers.modeling_tf_bert.TFBertModel object at 0x000001CAF57529D0>\n"
     ]
    }
   ],
   "source": [
    "config = AutoConfig.from_pretrained('../data/bert_beto/config.json')\n",
    "#model = AutoModel.from_pretrained('../data/bert_beto/model.ckpt-2000000.index', from_tf=True, config=config)\n",
    "beto = TFAutoModel.from_pretrained('../data/bert_beto/pytorch_model.bin', from_pt=True, config=config)\n",
    "print(config, beto)"
   ]
  },
  {
   "cell_type": "code",
   "execution_count": 29,
   "metadata": {},
   "outputs": [
    {
     "data": {
      "text/plain": [
       "<transformers.tokenization_bert.BertTokenizer at 0x1cab6c1a4f0>"
      ]
     },
     "execution_count": 29,
     "metadata": {},
     "output_type": "execute_result"
    }
   ],
   "source": [
    "#tokenizer = AutoTokenizer.from_pretrained('../data/bert_beto/vocab.txt')\n",
    "tokenizer = AutoTokenizer.from_pretrained('../data/bert_beto/vocab.txt', do_lower_case=True, add_special_tokens=True,\n",
    "                                          max_length=max_length_sequence, pad_to_max_length=True)\n",
    "tokenizer"
   ]
  },
  {
   "cell_type": "markdown",
   "metadata": {},
   "source": [
    "#### Prepare Data"
   ]
  },
  {
   "cell_type": "code",
   "execution_count": 30,
   "metadata": {},
   "outputs": [],
   "source": [
    "def get_ids(tokens, tokenizer, max_seq_length):\n",
    "    \"\"\"Token ids from Tokenizer vocab\"\"\"\n",
    "    token_ids = tokenizer.encode(tokens)\n",
    "    input_ids = token_ids + [0] * (max_seq_length-len(token_ids))\n",
    "    return input_ids\n",
    "\n",
    "def get_masks(tokens, max_seq_length):\n",
    "    \"\"\"Mask for padding\"\"\"\n",
    "    if len(tokens)>max_seq_length:\n",
    "        raise IndexError(\"Token length more than max seq length!\")\n",
    "    return [1]*len(tokens) + [0] * (max_seq_length - len(tokens))\n",
    "\n",
    "def get_segments(tokens, max_seq_length):\n",
    "    \"\"\"Segments: 0 for the first sequence, 1 for the second\"\"\"\n",
    "    if len(tokens)>max_seq_length:\n",
    "        raise IndexError(\"Token length more than max seq length!\")\n",
    "    segments = []\n",
    "    current_segment_id = 0\n",
    "    for token in tokens:\n",
    "        segments.append(current_segment_id)\n",
    "        if token == \"[SEP]\":\n",
    "            current_segment_id = 1\n",
    "    return segments + [0] * (max_seq_length - len(tokens))"
   ]
  },
  {
   "cell_type": "code",
   "execution_count": 31,
   "metadata": {},
   "outputs": [],
   "source": [
    "def normalize_and_tokenize_data(df, max_length_sequence):\n",
    "    text_normalization(df) # Normalize text\n",
    "    remove_stop_words(df, language = 'spanish', get_tokenize = False) # Remove stop words [and Tokenize texts]\n",
    "    \n",
    "    all_sentences = df['text'].values\n",
    "    all_words = []\n",
    "    for sent in all_sentences:\n",
    "        temp = []\n",
    "        temp.append('[CLS]')\n",
    "        i = 0\n",
    "        for w in tokenizer.tokenize(sent):\n",
    "            i+=1\n",
    "            if i == (max_length_sequence - 1): break\n",
    "            temp.append(w)\n",
    "        temp.append('[SEP]')\n",
    "        all_words.append(temp)\n",
    "\n",
    "    return all_words"
   ]
  },
  {
   "cell_type": "code",
   "execution_count": 32,
   "metadata": {},
   "outputs": [],
   "source": [
    "def get_inputs(spanish_dataset, max_length_sequence):\n",
    "\n",
    "    all_words = normalize_and_tokenize_data(spanish_dataset, max_length_sequence)\n",
    "\n",
    "    input_ids = np.zeros((len(all_words), max_length_sequence))\n",
    "    input_masks = np.zeros((len(all_words), max_length_sequence))\n",
    "    input_segments = np.zeros((len(all_words), max_length_sequence))\n",
    "\n",
    "    for i in range(len(all_words)):\n",
    "        input_ids[i,:] = np.array(get_ids(all_words[i], tokenizer, max_length_sequence)).reshape(1,-1)\n",
    "        input_masks[i,:] = np.array(get_masks(all_words[i], max_length_sequence)).reshape(1,-1)\n",
    "        input_segments[i,:] = np.array(get_segments(all_words[i], max_length_sequence)).reshape(1,-1)\n",
    "\n",
    "    input_ids = input_ids.astype(int)\n",
    "    return (input_ids, input_masks, input_segments)"
   ]
  },
  {
   "cell_type": "code",
   "execution_count": 33,
   "metadata": {},
   "outputs": [
    {
     "name": "stdout",
     "output_type": "stream",
     "text": [
      "(2571, 50) (2571, 50) (2571, 50)\n"
     ]
    }
   ],
   "source": [
    "input_ids, input_masks, input_segments = get_inputs(spanish_dataset, max_length_sequence)\n",
    "print(input_ids.shape, input_masks.shape, input_segments.shape)"
   ]
  },
  {
   "cell_type": "code",
   "execution_count": 34,
   "metadata": {},
   "outputs": [
    {
     "name": "stdout",
     "output_type": "stream",
     "text": [
      "[    4 29047  6249 30956  3269 10296 18116  6949 10406  1083  4543  1105\n",
      "  1626  2322  1498 10406 30956  2078  2570  7105 10406  1519 29047  1785\n",
      "  1130 27832  1637 30957  3180  4898  3120 14825 30957  1935  6249 30956\n",
      " 17576 10296  2035  3269 18116  6949 10406  1083  1785  1130 24861  1092\n",
      " 10296     5]\n",
      "[1. 1. 1. 1. 1. 1. 1. 1. 1. 1. 1. 1. 1. 1. 1. 1. 1. 1. 1. 1. 1. 1. 1. 1.\n",
      " 1. 1. 1. 1. 1. 1. 1. 1. 1. 1. 1. 1. 1. 1. 1. 1. 1. 1. 1. 1. 1. 1. 1. 1.\n",
      " 1. 1.]\n",
      "[0. 0. 0. 0. 0. 0. 0. 0. 0. 0. 0. 0. 0. 0. 0. 0. 0. 0. 0. 0. 0. 0. 0. 0.\n",
      " 0. 0. 0. 0. 0. 0. 0. 0. 0. 0. 0. 0. 0. 0. 0. 0. 0. 0. 0. 0. 0. 0. 0. 0.\n",
      " 0. 0.]\n"
     ]
    }
   ],
   "source": [
    "print(input_ids[0])\n",
    "print(input_masks[0])\n",
    "print(input_segments[0])"
   ]
  },
  {
   "cell_type": "markdown",
   "metadata": {},
   "source": [
    "#### Models"
   ]
  },
  {
   "cell_type": "code",
   "execution_count": 35,
   "metadata": {},
   "outputs": [],
   "source": [
    "batch_size = 32"
   ]
  },
  {
   "cell_type": "code",
   "execution_count": 36,
   "metadata": {},
   "outputs": [],
   "source": [
    "def create_model_CNN(max_length_sequence, filters, kernel_size, dense_units, l2_kernel):\n",
    "    \n",
    "    input_word_ids = Input(shape=(max_length_sequence, ), dtype=tf.int32, name=\"input_word_ids\")\n",
    "    input_mask = Input(shape=(max_length_sequence, ), dtype=tf.int32, name=\"input_mask\")\n",
    "    segment_ids = Input(shape=(max_length_sequence, ), dtype=tf.int32, name=\"segment_ids\")\n",
    "    \n",
    "    embedding_layer = beto(input_word_ids, attention_mask=input_mask, token_type_ids=segment_ids)\n",
    "    \n",
    "    X = Conv1D(filters = filters, kernel_size = kernel_size, activation = 'relu',\n",
    "              kernel_regularizer = regularizers.l2(l2_kernel))(embedding_layer[0])\n",
    "    X = MaxPooling1D(pool_size = 2)(X)\n",
    "    X = Flatten()(X)\n",
    "    X = Dense(units = dense_units, activation = 'relu')(X)\n",
    "    X = Dense(units = 1, activation = 'sigmoid')(X)\n",
    "                          \n",
    "    model = Model(inputs = [input_word_ids, input_mask, segment_ids], outputs = X)\n",
    "    \n",
    "    for layer in model.layers[:4]:\n",
    "        layer.trainable = False\n",
    "    \n",
    "    return(model)"
   ]
  },
  {
   "cell_type": "code",
   "execution_count": 37,
   "metadata": {},
   "outputs": [],
   "source": [
    "def create_model_RNN(max_length_sequence, lstm_units, l2_kernel, l2_recurrent, l2_activity, dropout):\n",
    "    \n",
    "    input_word_ids = Input(shape=(max_length_sequence, ), dtype=tf.int32, name=\"input_word_ids\")\n",
    "    input_mask = Input(shape=(max_length_sequence, ), dtype=tf.int32, name=\"input_mask\")\n",
    "    segment_ids = Input(shape=(max_length_sequence, ), dtype=tf.int32, name=\"segment_ids\")\n",
    "    \n",
    "    embedding_layer = beto(input_word_ids, attention_mask=input_mask, token_type_ids=segment_ids)\n",
    "    \n",
    "    X = LSTM(units = lstm_units, return_sequences = False,\n",
    "            kernel_regularizer = regularizers.l2(l2_kernel),\n",
    "            recurrent_regularizer = regularizers.l2(l2_recurrent),\n",
    "            activity_regularizer = regularizers.l2(l2_activity))(embedding_layer[0])\n",
    "    \n",
    "    X = Dropout(rate = dropout)(X)\n",
    "    X = Dense(units = 1, activation = 'sigmoid')(X)\n",
    "                          \n",
    "    model = Model(inputs = [input_word_ids, input_mask, segment_ids], outputs = X)\n",
    "    \n",
    "    for layer in model.layers[:4]:\n",
    "        layer.trainable = False\n",
    "                          \n",
    "    return(model)"
   ]
  },
  {
   "cell_type": "markdown",
   "metadata": {},
   "source": [
    "#### Execute Models"
   ]
  },
  {
   "cell_type": "code",
   "execution_count": 45,
   "metadata": {},
   "outputs": [],
   "source": [
    "epochs = 40"
   ]
  },
  {
   "cell_type": "markdown",
   "metadata": {},
   "source": [
    "max_length_sequence = 50"
   ]
  },
  {
   "cell_type": "code",
   "execution_count": 46,
   "metadata": {},
   "outputs": [],
   "source": [
    "test_size = 0.1\n",
    "Y = spanish_dataset.label.values\n",
    "\n",
    "input_ids_tr, input_ids_te, input_masks_tr, input_masks_te, input_segments_tr, input_segments_te, y_tr, y_te = train_test_split(\n",
    "    input_ids, input_masks, input_segments, Y, test_size = test_size, shuffle = True)"
   ]
  },
  {
   "cell_type": "code",
   "execution_count": 47,
   "metadata": {},
   "outputs": [
    {
     "name": "stdout",
     "output_type": "stream",
     "text": [
      "2313 258\n",
      "2313 258\n",
      "2313 258\n",
      "2313 258\n"
     ]
    }
   ],
   "source": [
    "print(len(input_ids_tr), len(input_ids_te))\n",
    "print(len(input_masks_tr), len(input_masks_te))\n",
    "print(len(input_segments_tr), len(input_segments_te))\n",
    "print(len(y_tr), len(y_te))"
   ]
  },
  {
   "cell_type": "markdown",
   "metadata": {},
   "source": [
    "RNN"
   ]
  },
  {
   "cell_type": "code",
   "execution_count": 48,
   "metadata": {},
   "outputs": [
    {
     "name": "stdout",
     "output_type": "stream",
     "text": [
      "Model: \"functional_9\"\n",
      "__________________________________________________________________________________________________\n",
      "Layer (type)                    Output Shape         Param #     Connected to                     \n",
      "==================================================================================================\n",
      "input_word_ids (InputLayer)     [(None, 50)]         0                                            \n",
      "__________________________________________________________________________________________________\n",
      "input_mask (InputLayer)         [(None, 50)]         0                                            \n",
      "__________________________________________________________________________________________________\n",
      "segment_ids (InputLayer)        [(None, 50)]         0                                            \n",
      "__________________________________________________________________________________________________\n",
      "tf_bert_model_1 (TFBertModel)   ((None, 50, 768), (N 109850880   input_word_ids[0][0]             \n",
      "                                                                 input_mask[0][0]                 \n",
      "                                                                 segment_ids[0][0]                \n",
      "__________________________________________________________________________________________________\n",
      "lstm_2 (LSTM)                   (None, 8)            24864       tf_bert_model_1[2][0]            \n",
      "__________________________________________________________________________________________________\n",
      "dropout_76 (Dropout)            (None, 8)            0           lstm_2[0][0]                     \n",
      "__________________________________________________________________________________________________\n",
      "dense_6 (Dense)                 (None, 1)            9           dropout_76[0][0]                 \n",
      "==================================================================================================\n",
      "Total params: 109,875,753\n",
      "Trainable params: 24,873\n",
      "Non-trainable params: 109,850,880\n",
      "__________________________________________________________________________________________________\n"
     ]
    }
   ],
   "source": [
    "RNN = create_model_RNN(max_length_sequence = max_length_sequence, lstm_units = 8, l2_kernel = 0, l2_recurrent = 0, l2_activity = 0, dropout = 0.5)\n",
    "RNN.compile(loss = 'binary_crossentropy', optimizer = 'adam', metrics = ['accuracy']) # Compile model\n",
    "RNN.summary()"
   ]
  },
  {
   "cell_type": "code",
   "execution_count": 49,
   "metadata": {},
   "outputs": [
    {
     "name": "stdout",
     "output_type": "stream",
     "text": [
      "Epoch 1/40\n",
      "73/73 [==============================] - 240s 3s/step - loss: 0.6856 - accuracy: 0.5707\n",
      "Epoch 2/40\n",
      "73/73 [==============================] - 236s 3s/step - loss: 0.6283 - accuracy: 0.6563\n",
      "Epoch 3/40\n",
      "73/73 [==============================] - 241s 3s/step - loss: 0.5986 - accuracy: 0.6766\n",
      "Epoch 4/40\n",
      "73/73 [==============================] - 239s 3s/step - loss: 0.5862 - accuracy: 0.6939\n",
      "Epoch 5/40\n",
      "73/73 [==============================] - 235s 3s/step - loss: 0.5570 - accuracy: 0.7229\n",
      "Epoch 6/40\n",
      "73/73 [==============================] - 249s 3s/step - loss: 0.5462 - accuracy: 0.7190\n",
      "Epoch 7/40\n",
      "73/73 [==============================] - 235s 3s/step - loss: 0.5281 - accuracy: 0.7445\n",
      "Epoch 8/40\n",
      "73/73 [==============================] - 247s 3s/step - loss: 0.5078 - accuracy: 0.7596\n",
      "Epoch 9/40\n",
      "73/73 [==============================] - 237s 3s/step - loss: 0.5004 - accuracy: 0.7613\n",
      "Epoch 10/40\n",
      "73/73 [==============================] - 242s 3s/step - loss: 0.4906 - accuracy: 0.7661\n",
      "Epoch 11/40\n",
      "73/73 [==============================] - 241s 3s/step - loss: 0.4817 - accuracy: 0.7808\n",
      "Epoch 12/40\n",
      "73/73 [==============================] - 235s 3s/step - loss: 0.4833 - accuracy: 0.7791\n",
      "Epoch 13/40\n",
      "73/73 [==============================] - 238s 3s/step - loss: 0.4639 - accuracy: 0.7834\n",
      "Epoch 14/40\n",
      "73/73 [==============================] - 235s 3s/step - loss: 0.4632 - accuracy: 0.7834\n",
      "Epoch 15/40\n",
      "73/73 [==============================] - 240s 3s/step - loss: 0.4447 - accuracy: 0.7998\n",
      "Epoch 16/40\n",
      "73/73 [==============================] - 271s 4s/step - loss: 0.4323 - accuracy: 0.8163\n",
      "Epoch 17/40\n",
      "73/73 [==============================] - 237s 3s/step - loss: 0.4226 - accuracy: 0.8132\n",
      "Epoch 18/40\n",
      "73/73 [==============================] - 244s 3s/step - loss: 0.4111 - accuracy: 0.8210\n",
      "Epoch 19/40\n",
      "73/73 [==============================] - 234s 3s/step - loss: 0.4427 - accuracy: 0.8067\n",
      "Epoch 20/40\n",
      "73/73 [==============================] - 236s 3s/step - loss: 0.4336 - accuracy: 0.8089\n",
      "Epoch 21/40\n",
      "73/73 [==============================] - 238s 3s/step - loss: 0.4170 - accuracy: 0.8063\n",
      "Epoch 22/40\n",
      "73/73 [==============================] - 237s 3s/step - loss: 0.3991 - accuracy: 0.8193\n",
      "Epoch 23/40\n",
      "73/73 [==============================] - 239s 3s/step - loss: 0.3821 - accuracy: 0.8271\n",
      "Epoch 24/40\n",
      "73/73 [==============================] - 235s 3s/step - loss: 0.3812 - accuracy: 0.8335\n",
      "Epoch 25/40\n",
      "73/73 [==============================] - 242s 3s/step - loss: 0.3895 - accuracy: 0.8357\n",
      "Epoch 26/40\n",
      "73/73 [==============================] - 241s 3s/step - loss: 0.3606 - accuracy: 0.8439\n",
      "Epoch 27/40\n",
      "73/73 [==============================] - 234s 3s/step - loss: 0.3509 - accuracy: 0.8474\n",
      "Epoch 28/40\n",
      "73/73 [==============================] - 238s 3s/step - loss: 0.3494 - accuracy: 0.8634\n",
      "Epoch 29/40\n",
      "73/73 [==============================] - 235s 3s/step - loss: 0.3553 - accuracy: 0.8448\n",
      "Epoch 30/40\n",
      "73/73 [==============================] - 234s 3s/step - loss: 0.3425 - accuracy: 0.8578\n",
      "Epoch 31/40\n",
      "73/73 [==============================] - 238s 3s/step - loss: 0.3194 - accuracy: 0.8707\n",
      "Epoch 32/40\n",
      "73/73 [==============================] - 235s 3s/step - loss: 0.3052 - accuracy: 0.8781\n",
      "Epoch 33/40\n",
      "73/73 [==============================] - 244s 3s/step - loss: 0.3167 - accuracy: 0.8655\n",
      "Epoch 34/40\n",
      "73/73 [==============================] - 239s 3s/step - loss: 0.3058 - accuracy: 0.8798\n",
      "Epoch 35/40\n",
      "73/73 [==============================] - 237s 3s/step - loss: 0.3107 - accuracy: 0.8802\n",
      "Epoch 36/40\n",
      "73/73 [==============================] - 247s 3s/step - loss: 0.3052 - accuracy: 0.8729\n",
      "Epoch 37/40\n",
      "73/73 [==============================] - 236s 3s/step - loss: 0.3017 - accuracy: 0.8755\n",
      "Epoch 38/40\n",
      "73/73 [==============================] - 244s 3s/step - loss: 0.3069 - accuracy: 0.8764\n",
      "Epoch 39/40\n",
      "73/73 [==============================] - 244s 3s/step - loss: 0.2792 - accuracy: 0.8820\n",
      "Epoch 40/40\n",
      "73/73 [==============================] - 243s 3s/step - loss: 0.2824 - accuracy: 0.8932\n",
      "9/9 [==============================] - 21s 2s/step - loss: 0.7071 - accuracy: 0.6899\n",
      "0.7071371674537659 0.69\n"
     ]
    }
   ],
   "source": [
    "RNN.fit([input_ids_tr, input_masks_tr, input_segments_tr], y_tr, epochs = epochs, batch_size = batch_size, shuffle = True) # Fit model\n",
    "loss, acc = RNN.evaluate([input_ids_te, input_masks_te, input_segments_te], y_te) # Evaluate model\n",
    "print(loss, round(acc, 3))\n",
    "RNN.save_weights('../data/Weights/BETO_RNN.h5')"
   ]
  },
  {
   "cell_type": "markdown",
   "metadata": {},
   "source": [
    "CNN"
   ]
  },
  {
   "cell_type": "code",
   "execution_count": 50,
   "metadata": {},
   "outputs": [
    {
     "name": "stdout",
     "output_type": "stream",
     "text": [
      "Model: \"functional_11\"\n",
      "__________________________________________________________________________________________________\n",
      "Layer (type)                    Output Shape         Param #     Connected to                     \n",
      "==================================================================================================\n",
      "input_word_ids (InputLayer)     [(None, 50)]         0                                            \n",
      "__________________________________________________________________________________________________\n",
      "input_mask (InputLayer)         [(None, 50)]         0                                            \n",
      "__________________________________________________________________________________________________\n",
      "segment_ids (InputLayer)        [(None, 50)]         0                                            \n",
      "__________________________________________________________________________________________________\n",
      "tf_bert_model_1 (TFBertModel)   ((None, 50, 768), (N 109850880   input_word_ids[0][0]             \n",
      "                                                                 input_mask[0][0]                 \n",
      "                                                                 segment_ids[0][0]                \n",
      "__________________________________________________________________________________________________\n",
      "conv1d_2 (Conv1D)               (None, 41, 16)       122896      tf_bert_model_1[3][0]            \n",
      "__________________________________________________________________________________________________\n",
      "max_pooling1d_2 (MaxPooling1D)  (None, 20, 16)       0           conv1d_2[0][0]                   \n",
      "__________________________________________________________________________________________________\n",
      "flatten_2 (Flatten)             (None, 320)          0           max_pooling1d_2[0][0]            \n",
      "__________________________________________________________________________________________________\n",
      "dense_7 (Dense)                 (None, 4)            1284        flatten_2[0][0]                  \n",
      "__________________________________________________________________________________________________\n",
      "dense_8 (Dense)                 (None, 1)            5           dense_7[0][0]                    \n",
      "==================================================================================================\n",
      "Total params: 109,975,065\n",
      "Trainable params: 124,185\n",
      "Non-trainable params: 109,850,880\n",
      "__________________________________________________________________________________________________\n"
     ]
    }
   ],
   "source": [
    "CNN = create_model_CNN(max_length_sequence = max_length_sequence, filters = 16, kernel_size = 10, dense_units = 4, l2_kernel = 0)\n",
    "CNN.compile(loss = 'binary_crossentropy', optimizer = 'adam', metrics = ['accuracy']) # Compile model\n",
    "CNN.summary()"
   ]
  },
  {
   "cell_type": "code",
   "execution_count": 51,
   "metadata": {},
   "outputs": [
    {
     "name": "stdout",
     "output_type": "stream",
     "text": [
      "Epoch 1/40\n",
      "73/73 [==============================] - 242s 3s/step - loss: 0.6909 - accuracy: 0.5690\n",
      "Epoch 2/40\n",
      "73/73 [==============================] - 238s 3s/step - loss: 0.6334 - accuracy: 0.6654\n",
      "Epoch 3/40\n",
      "73/73 [==============================] - 241s 3s/step - loss: 0.5925 - accuracy: 0.7302\n",
      "Epoch 4/40\n",
      "73/73 [==============================] - 238s 3s/step - loss: 0.5616 - accuracy: 0.7639\n",
      "Epoch 5/40\n",
      "73/73 [==============================] - 242s 3s/step - loss: 0.5337 - accuracy: 0.7752\n",
      "Epoch 6/40\n",
      "73/73 [==============================] - 237s 3s/step - loss: 0.5061 - accuracy: 0.7964\n",
      "Epoch 7/40\n",
      "73/73 [==============================] - 235s 3s/step - loss: 0.4757 - accuracy: 0.8197\n",
      "Epoch 8/40\n",
      "73/73 [==============================] - 244s 3s/step - loss: 0.4466 - accuracy: 0.8426\n",
      "Epoch 9/40\n",
      "73/73 [==============================] - 235s 3s/step - loss: 0.4224 - accuracy: 0.8521\n",
      "Epoch 10/40\n",
      "73/73 [==============================] - 239s 3s/step - loss: 0.4021 - accuracy: 0.8694\n",
      "Epoch 11/40\n",
      "73/73 [==============================] - 236s 3s/step - loss: 0.3720 - accuracy: 0.8893\n",
      "Epoch 12/40\n",
      "73/73 [==============================] - 235s 3s/step - loss: 0.3543 - accuracy: 0.8980\n",
      "Epoch 13/40\n",
      "73/73 [==============================] - 245s 3s/step - loss: 0.2741 - accuracy: 0.9088\n",
      "Epoch 14/40\n",
      "73/73 [==============================] - 235s 3s/step - loss: 0.2239 - accuracy: 0.9209\n",
      "Epoch 15/40\n",
      "73/73 [==============================] - 252s 3s/step - loss: 0.1838 - accuracy: 0.9369\n",
      "Epoch 16/40\n",
      "73/73 [==============================] - 237s 3s/step - loss: 0.1611 - accuracy: 0.9498\n",
      "Epoch 17/40\n",
      "73/73 [==============================] - 237s 3s/step - loss: 0.1288 - accuracy: 0.9598\n",
      "Epoch 18/40\n",
      "73/73 [==============================] - 241s 3s/step - loss: 0.1159 - accuracy: 0.9645\n",
      "Epoch 19/40\n",
      "73/73 [==============================] - 236s 3s/step - loss: 0.0983 - accuracy: 0.9715\n",
      "Epoch 20/40\n",
      "73/73 [==============================] - 241s 3s/step - loss: 0.0851 - accuracy: 0.9745\n",
      "Epoch 21/40\n",
      "73/73 [==============================] - 236s 3s/step - loss: 0.0815 - accuracy: 0.9754\n",
      "Epoch 22/40\n",
      "73/73 [==============================] - 240s 3s/step - loss: 0.0799 - accuracy: 0.9732\n",
      "Epoch 23/40\n",
      "73/73 [==============================] - 241s 3s/step - loss: 0.0900 - accuracy: 0.9715\n",
      "Epoch 24/40\n",
      "73/73 [==============================] - 238s 3s/step - loss: 0.0701 - accuracy: 0.9827\n",
      "Epoch 25/40\n",
      "73/73 [==============================] - 239s 3s/step - loss: 0.0635 - accuracy: 0.9758\n",
      "Epoch 26/40\n",
      "73/73 [==============================] - 235s 3s/step - loss: 0.0857 - accuracy: 0.9650\n",
      "Epoch 27/40\n",
      "73/73 [==============================] - 236s 3s/step - loss: 0.0620 - accuracy: 0.9784\n",
      "Epoch 28/40\n",
      "73/73 [==============================] - 240s 3s/step - loss: 0.0589 - accuracy: 0.9788\n",
      "Epoch 29/40\n",
      "73/73 [==============================] - 234s 3s/step - loss: 0.0513 - accuracy: 0.9849\n",
      "Epoch 30/40\n",
      "73/73 [==============================] - 241s 3s/step - loss: 0.0407 - accuracy: 0.9870\n",
      "Epoch 31/40\n",
      "73/73 [==============================] - 235s 3s/step - loss: 0.0411 - accuracy: 0.9844\n",
      "Epoch 32/40\n",
      "73/73 [==============================] - 231s 3s/step - loss: 0.0346 - accuracy: 0.9883\n",
      "Epoch 33/40\n",
      "73/73 [==============================] - 236s 3s/step - loss: 0.0341 - accuracy: 0.9905\n",
      "Epoch 34/40\n",
      "73/73 [==============================] - 235s 3s/step - loss: 0.0458 - accuracy: 0.9840\n",
      "Epoch 35/40\n",
      "73/73 [==============================] - 237s 3s/step - loss: 0.0399 - accuracy: 0.9879\n",
      "Epoch 36/40\n",
      "73/73 [==============================] - 235s 3s/step - loss: 0.0515 - accuracy: 0.9814\n",
      "Epoch 37/40\n",
      "73/73 [==============================] - 241s 3s/step - loss: 0.0349 - accuracy: 0.9892\n",
      "Epoch 38/40\n",
      "73/73 [==============================] - 239s 3s/step - loss: 0.0398 - accuracy: 0.9844\n",
      "Epoch 39/40\n",
      "73/73 [==============================] - 233s 3s/step - loss: 0.0467 - accuracy: 0.9827\n",
      "Epoch 40/40\n",
      "73/73 [==============================] - 238s 3s/step - loss: 0.0349 - accuracy: 0.9892\n",
      "9/9 [==============================] - 20s 2s/step - loss: 1.5246 - accuracy: 0.6860\n",
      "1.5245822668075562 0.686\n"
     ]
    }
   ],
   "source": [
    "CNN.fit([input_ids_tr, input_masks_tr, input_segments_tr], y_tr, epochs = epochs, batch_size = batch_size, shuffle = True) # Fit model\n",
    "loss, acc = CNN.evaluate([input_ids_te, input_masks_te, input_segments_te], y_te) # Evaluate model\n",
    "print(loss, round(acc, 3))\n",
    "CNN.save_weights('../data/Weights/BETO_CNN.h5')"
   ]
  },
  {
   "cell_type": "code",
   "execution_count": null,
   "metadata": {},
   "outputs": [],
   "source": []
  }
 ],
 "metadata": {
  "kernelspec": {
   "display_name": "Python 3",
   "language": "python",
   "name": "python3"
  },
  "language_info": {
   "codemirror_mode": {
    "name": "ipython",
    "version": 3
   },
   "file_extension": ".py",
   "mimetype": "text/x-python",
   "name": "python",
   "nbconvert_exporter": "python",
   "pygments_lexer": "ipython3",
   "version": "3.8.3"
  }
 },
 "nbformat": 4,
 "nbformat_minor": 4
}
