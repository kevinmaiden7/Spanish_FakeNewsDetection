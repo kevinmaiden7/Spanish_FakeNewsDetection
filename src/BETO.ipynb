{
 "cells": [
  {
   "cell_type": "code",
   "execution_count": 20,
   "metadata": {},
   "outputs": [
    {
     "name": "stdout",
     "output_type": "stream",
     "text": [
      "TF version:  2.3.1\n"
     ]
    }
   ],
   "source": [
    "import tensorflow as tf\n",
    "print(\"TF version: \", tf.__version__)"
   ]
  },
  {
   "cell_type": "code",
   "execution_count": 21,
   "metadata": {},
   "outputs": [],
   "source": [
    "from transformers import AutoConfig, AutoModel, TFAutoModel, AutoTokenizer"
   ]
  },
  {
   "cell_type": "code",
   "execution_count": 22,
   "metadata": {},
   "outputs": [],
   "source": [
    "import numpy as np\n",
    "import pandas as pd\n",
    "\n",
    "from sklearn.model_selection import train_test_split\n",
    "from sklearn.metrics import accuracy_score\n",
    "\n",
    "from data_preprocessing import remove_stop_words, text_normalization, add_data_portion\n",
    "\n",
    "from keras.models import Model\n",
    "from keras.layers import Input, Dense, LSTM, Dropout, Flatten, Conv1D, MaxPooling1D\n",
    "from tensorflow.keras import regularizers"
   ]
  },
  {
   "cell_type": "markdown",
   "metadata": {},
   "source": [
    "#### Load Dataset"
   ]
  },
  {
   "cell_type": "code",
   "execution_count": 23,
   "metadata": {},
   "outputs": [
    {
     "name": "stdout",
     "output_type": "stream",
     "text": [
      "(2571, 2)\n"
     ]
    }
   ],
   "source": [
    "spanish_dataset = pd.read_csv('../data/Merged/spanish_dataset.csv')\n",
    "print(spanish_dataset.shape)"
   ]
  },
  {
   "cell_type": "code",
   "execution_count": 24,
   "metadata": {},
   "outputs": [],
   "source": [
    "max_length_sequence = 200"
   ]
  },
  {
   "cell_type": "markdown",
   "metadata": {},
   "source": [
    "#### Load BETO Model"
   ]
  },
  {
   "cell_type": "code",
   "execution_count": 25,
   "metadata": {},
   "outputs": [
    {
     "name": "stdout",
     "output_type": "stream",
     "text": [
      "{\n",
      "  \"attention_probs_dropout_prob\": 0.1,\n",
      "  \"finetuning_task\": null,\n",
      "  \"hidden_act\": \"gelu\",\n",
      "  \"hidden_dropout_prob\": 0.1,\n",
      "  \"hidden_size\": 768,\n",
      "  \"initializer_range\": 0.02,\n",
      "  \"intermediate_size\": 3072,\n",
      "  \"layer_norm_eps\": 1e-12,\n",
      "  \"max_position_embeddings\": 512,\n",
      "  \"num_attention_heads\": 12,\n",
      "  \"num_hidden_layers\": 12,\n",
      "  \"num_labels\": 2,\n",
      "  \"output_attentions\": false,\n",
      "  \"output_hidden_states\": false,\n",
      "  \"output_past\": true,\n",
      "  \"pruned_heads\": {},\n",
      "  \"torchscript\": false,\n",
      "  \"type_vocab_size\": 2,\n",
      "  \"use_bfloat16\": false,\n",
      "  \"vocab_size\": 31002\n",
      "}\n",
      " <transformers.modeling_tf_bert.TFBertModel object at 0x0000021EBA71FE50>\n"
     ]
    }
   ],
   "source": [
    "config = AutoConfig.from_pretrained('../data/bert_beto/config.json')\n",
    "#model = AutoModel.from_pretrained('../data/bert_beto/model.ckpt-2000000.index', from_tf=True, config=config)\n",
    "beto = TFAutoModel.from_pretrained('../data/bert_beto/pytorch_model.bin', from_pt=True, config=config)\n",
    "print(config, beto)"
   ]
  },
  {
   "cell_type": "code",
   "execution_count": 26,
   "metadata": {},
   "outputs": [
    {
     "data": {
      "text/plain": [
       "<transformers.tokenization_bert.BertTokenizer at 0x21ebbf42e80>"
      ]
     },
     "execution_count": 26,
     "metadata": {},
     "output_type": "execute_result"
    }
   ],
   "source": [
    "#tokenizer = AutoTokenizer.from_pretrained('../data/bert_beto/vocab.txt')\n",
    "tokenizer = AutoTokenizer.from_pretrained('../data/bert_beto/vocab.txt', do_lower_case=True, add_special_tokens=True,\n",
    "                                          max_length=max_length_sequence, pad_to_max_length=True)\n",
    "tokenizer"
   ]
  },
  {
   "cell_type": "markdown",
   "metadata": {},
   "source": [
    "#### Prepare Data"
   ]
  },
  {
   "cell_type": "code",
   "execution_count": 27,
   "metadata": {},
   "outputs": [],
   "source": [
    "def get_ids(tokens, tokenizer, max_seq_length):\n",
    "    \"\"\"Token ids from Tokenizer vocab\"\"\"\n",
    "    token_ids = tokenizer.encode(tokens)\n",
    "    input_ids = token_ids + [0] * (max_seq_length-len(token_ids))\n",
    "    return input_ids\n",
    "\n",
    "def get_masks(tokens, max_seq_length):\n",
    "    \"\"\"Mask for padding\"\"\"\n",
    "    if len(tokens)>max_seq_length:\n",
    "        raise IndexError(\"Token length more than max seq length!\")\n",
    "    return [1]*len(tokens) + [0] * (max_seq_length - len(tokens))\n",
    "\n",
    "def get_segments(tokens, max_seq_length):\n",
    "    \"\"\"Segments: 0 for the first sequence, 1 for the second\"\"\"\n",
    "    if len(tokens)>max_seq_length:\n",
    "        raise IndexError(\"Token length more than max seq length!\")\n",
    "    segments = []\n",
    "    current_segment_id = 0\n",
    "    for token in tokens:\n",
    "        segments.append(current_segment_id)\n",
    "        if token == \"[SEP]\":\n",
    "            current_segment_id = 1\n",
    "    return segments + [0] * (max_seq_length - len(tokens))"
   ]
  },
  {
   "cell_type": "code",
   "execution_count": 28,
   "metadata": {},
   "outputs": [],
   "source": [
    "def normalize_and_tokenize_data(df, max_length_sequence):\n",
    "    text_normalization(df) # Normalize text\n",
    "    remove_stop_words(df, language = 'spanish', get_tokenize = False) # Remove stop words [and Tokenize texts]\n",
    "    \n",
    "    all_sentences = df['text'].values\n",
    "    all_words = []\n",
    "    for sent in all_sentences:\n",
    "        temp = []\n",
    "        temp.append('[CLS]')\n",
    "        i = 0\n",
    "        for w in tokenizer.tokenize(sent):\n",
    "            i+=1\n",
    "            if i == (max_length_sequence - 1): break\n",
    "            temp.append(w)\n",
    "        temp.append('[SEP]')\n",
    "        all_words.append(temp)\n",
    "\n",
    "    return all_words"
   ]
  },
  {
   "cell_type": "code",
   "execution_count": 29,
   "metadata": {},
   "outputs": [],
   "source": [
    "def get_inputs(spanish_dataset, max_length_sequence):\n",
    "\n",
    "    all_words = normalize_and_tokenize_data(spanish_dataset, max_length_sequence)\n",
    "\n",
    "    input_ids = np.zeros((len(all_words), max_length_sequence))\n",
    "    input_masks = np.zeros((len(all_words), max_length_sequence))\n",
    "    input_segments = np.zeros((len(all_words), max_length_sequence))\n",
    "\n",
    "    for i in range(len(all_words)):\n",
    "        input_ids[i,:] = np.array(get_ids(all_words[i], tokenizer, max_length_sequence)).reshape(1,-1)\n",
    "        input_masks[i,:] = np.array(get_masks(all_words[i], max_length_sequence)).reshape(1,-1)\n",
    "        input_segments[i,:] = np.array(get_segments(all_words[i], max_length_sequence)).reshape(1,-1)\n",
    "\n",
    "    input_ids = input_ids.astype(int)\n",
    "    return (input_ids, input_masks, input_segments)"
   ]
  },
  {
   "cell_type": "code",
   "execution_count": 30,
   "metadata": {},
   "outputs": [
    {
     "name": "stdout",
     "output_type": "stream",
     "text": [
      "(2571, 200) (2571, 200) (2571, 200)\n"
     ]
    }
   ],
   "source": [
    "input_ids, input_masks, input_segments = get_inputs(spanish_dataset, max_length_sequence)\n",
    "print(input_ids.shape, input_masks.shape, input_segments.shape)"
   ]
  },
  {
   "cell_type": "code",
   "execution_count": 31,
   "metadata": {},
   "outputs": [
    {
     "name": "stdout",
     "output_type": "stream",
     "text": [
      "[    4 29047  6249 30956  3269 10296 18116  6949 10406  1083  4543  1105\n",
      "  1626  2322  1498 10406 30956  2078  2570  7105 10406  1519 29047  1785\n",
      "  1130 27832  1637 30957  3180  4898  3120 14825 30957  1935  6249 30956\n",
      " 17576 10296  2035  3269 18116  6949 10406  1083  1785  1130 24861  1092\n",
      " 10296  5868 30956  9869  1626  2322  1498  1626  3756  2397  3382 30957\n",
      "  3269  7288  8173  6949  7035 14327  8636  4293  3603  1688  3469  6949\n",
      "  7035  8173 10406  1083  8636  5508  3464  1105  1845 11469  5181 17576\n",
      " 30958 30380 11712  8173  8636  2570  2338  2053  2749  1497 10296 18972\n",
      " 30956  1665  6949  4500  8168  7035  2652  3758 30956  9869  1626  2322\n",
      "  1498  9179 30956 10194  2397 25065 30958  1973  1556 30956  5334 10296\n",
      " 15067 30956 29310  1524 26635 30957 25719  4412  1207  1524  1916  2322\n",
      " 17576 15903 10799  3269 12630  6949  7035  1894  6584 18116  4002 10406\n",
      "  1519 13981  1170  3269  3207 14327  8636  9620  8362 30957 27832 12126\n",
      "  3308  4543  1105  3207  8581 30956 18116 30958 24861  9491  2795 10296\n",
      " 30380 28766     3  9353  2373  1376 12031  2322  1498 15560 30991 25719\n",
      "  3745  1711  5954  1055  1626 22847  2322  1498  3745  1711  5954  1055\n",
      "  1626  3756  2397 25065 30958  3745  1711     5]\n",
      "[1. 1. 1. 1. 1. 1. 1. 1. 1. 1. 1. 1. 1. 1. 1. 1. 1. 1. 1. 1. 1. 1. 1. 1.\n",
      " 1. 1. 1. 1. 1. 1. 1. 1. 1. 1. 1. 1. 1. 1. 1. 1. 1. 1. 1. 1. 1. 1. 1. 1.\n",
      " 1. 1. 1. 1. 1. 1. 1. 1. 1. 1. 1. 1. 1. 1. 1. 1. 1. 1. 1. 1. 1. 1. 1. 1.\n",
      " 1. 1. 1. 1. 1. 1. 1. 1. 1. 1. 1. 1. 1. 1. 1. 1. 1. 1. 1. 1. 1. 1. 1. 1.\n",
      " 1. 1. 1. 1. 1. 1. 1. 1. 1. 1. 1. 1. 1. 1. 1. 1. 1. 1. 1. 1. 1. 1. 1. 1.\n",
      " 1. 1. 1. 1. 1. 1. 1. 1. 1. 1. 1. 1. 1. 1. 1. 1. 1. 1. 1. 1. 1. 1. 1. 1.\n",
      " 1. 1. 1. 1. 1. 1. 1. 1. 1. 1. 1. 1. 1. 1. 1. 1. 1. 1. 1. 1. 1. 1. 1. 1.\n",
      " 1. 1. 1. 1. 1. 1. 1. 1. 1. 1. 1. 1. 1. 1. 1. 1. 1. 1. 1. 1. 1. 1. 1. 1.\n",
      " 1. 1. 1. 1. 1. 1. 1. 1.]\n",
      "[0. 0. 0. 0. 0. 0. 0. 0. 0. 0. 0. 0. 0. 0. 0. 0. 0. 0. 0. 0. 0. 0. 0. 0.\n",
      " 0. 0. 0. 0. 0. 0. 0. 0. 0. 0. 0. 0. 0. 0. 0. 0. 0. 0. 0. 0. 0. 0. 0. 0.\n",
      " 0. 0. 0. 0. 0. 0. 0. 0. 0. 0. 0. 0. 0. 0. 0. 0. 0. 0. 0. 0. 0. 0. 0. 0.\n",
      " 0. 0. 0. 0. 0. 0. 0. 0. 0. 0. 0. 0. 0. 0. 0. 0. 0. 0. 0. 0. 0. 0. 0. 0.\n",
      " 0. 0. 0. 0. 0. 0. 0. 0. 0. 0. 0. 0. 0. 0. 0. 0. 0. 0. 0. 0. 0. 0. 0. 0.\n",
      " 0. 0. 0. 0. 0. 0. 0. 0. 0. 0. 0. 0. 0. 0. 0. 0. 0. 0. 0. 0. 0. 0. 0. 0.\n",
      " 0. 0. 0. 0. 0. 0. 0. 0. 0. 0. 0. 0. 0. 0. 0. 0. 0. 0. 0. 0. 0. 0. 0. 0.\n",
      " 0. 0. 0. 0. 0. 0. 0. 0. 0. 0. 0. 0. 0. 0. 0. 0. 0. 0. 0. 0. 0. 0. 0. 0.\n",
      " 0. 0. 0. 0. 0. 0. 0. 0.]\n"
     ]
    }
   ],
   "source": [
    "print(input_ids[0])\n",
    "print(input_masks[0])\n",
    "print(input_segments[0])"
   ]
  },
  {
   "cell_type": "markdown",
   "metadata": {},
   "source": [
    "#### Models"
   ]
  },
  {
   "cell_type": "code",
   "execution_count": 32,
   "metadata": {},
   "outputs": [],
   "source": [
    "batch_size = 32"
   ]
  },
  {
   "cell_type": "code",
   "execution_count": 62,
   "metadata": {},
   "outputs": [],
   "source": [
    "def create_model_CNN(max_length_sequence, filters, kernel_size, dense_units, l2_kernel):\n",
    "    \n",
    "    input_word_ids = Input(shape=(max_length_sequence, ), dtype=tf.int32, name=\"input_word_ids\")\n",
    "    input_mask = Input(shape=(max_length_sequence, ), dtype=tf.int32, name=\"input_mask\")\n",
    "    segment_ids = Input(shape=(max_length_sequence, ), dtype=tf.int32, name=\"segment_ids\")\n",
    "    \n",
    "    embedding_layer = beto(input_word_ids, attention_mask=input_mask, token_type_ids=segment_ids)\n",
    "    \n",
    "    X = Conv1D(filters = filters, kernel_size = kernel_size, activation = 'relu',\n",
    "              kernel_regularizer = regularizers.l2(l2_kernel))(embedding_layer[0])\n",
    "    X = MaxPooling1D(pool_size = 2)(X)\n",
    "    X = Flatten()(X)\n",
    "    X = Dense(units = dense_units, activation = 'relu')(X)\n",
    "    X = Dense(units = 1, activation = 'sigmoid')(X)\n",
    "                          \n",
    "    model = Model(inputs = [input_word_ids, input_mask, segment_ids], outputs = X)\n",
    "    \n",
    "    for layer in model.layers[:4]:\n",
    "        layer.trainable = False\n",
    "    \n",
    "    return(model)"
   ]
  },
  {
   "cell_type": "code",
   "execution_count": 33,
   "metadata": {},
   "outputs": [],
   "source": [
    "def create_model_RNN(max_length_sequence, lstm_units, l2_kernel, l2_recurrent, l2_activity, dropout):\n",
    "    \n",
    "    input_word_ids = Input(shape=(max_length_sequence, ), dtype=tf.int32, name=\"input_word_ids\")\n",
    "    input_mask = Input(shape=(max_length_sequence, ), dtype=tf.int32, name=\"input_mask\")\n",
    "    segment_ids = Input(shape=(max_length_sequence, ), dtype=tf.int32, name=\"segment_ids\")\n",
    "    \n",
    "    embedding_layer = beto(input_word_ids, attention_mask=input_mask, token_type_ids=segment_ids)\n",
    "    \n",
    "    X = LSTM(units = lstm_units, return_sequences = False,\n",
    "            kernel_regularizer = regularizers.l2(l2_kernel),\n",
    "            recurrent_regularizer = regularizers.l2(l2_recurrent),\n",
    "            activity_regularizer = regularizers.l2(l2_activity))(embedding_layer[0])\n",
    "    \n",
    "    X = Dropout(rate = dropout)(X)\n",
    "    X = Dense(units = 1, activation = 'sigmoid')(X)\n",
    "                          \n",
    "    model = Model(inputs = [input_word_ids, input_mask, segment_ids], outputs = X)\n",
    "    \n",
    "    for layer in model.layers[:4]:\n",
    "        layer.trainable = False\n",
    "                          \n",
    "    return(model)"
   ]
  },
  {
   "cell_type": "markdown",
   "metadata": {},
   "source": [
    "#### Execute Models"
   ]
  },
  {
   "cell_type": "code",
   "execution_count": 34,
   "metadata": {},
   "outputs": [],
   "source": [
    "epochs = 30"
   ]
  },
  {
   "cell_type": "markdown",
   "metadata": {},
   "source": [
    "max_length_sequence = 50"
   ]
  },
  {
   "cell_type": "code",
   "execution_count": 35,
   "metadata": {},
   "outputs": [],
   "source": [
    "test_size = 0.1\n",
    "Y = spanish_dataset.label.values\n",
    "\n",
    "input_ids_tr, input_ids_te, input_masks_tr, input_masks_te, input_segments_tr, input_segments_te, y_tr, y_te = train_test_split(\n",
    "    input_ids, input_masks, input_segments, Y, test_size = test_size, shuffle = True)"
   ]
  },
  {
   "cell_type": "code",
   "execution_count": 36,
   "metadata": {},
   "outputs": [
    {
     "name": "stdout",
     "output_type": "stream",
     "text": [
      "2313 258\n",
      "2313 258\n",
      "2313 258\n",
      "2313 258\n"
     ]
    }
   ],
   "source": [
    "print(len(input_ids_tr), len(input_ids_te))\n",
    "print(len(input_masks_tr), len(input_masks_te))\n",
    "print(len(input_segments_tr), len(input_segments_te))\n",
    "print(len(y_tr), len(y_te))"
   ]
  },
  {
   "cell_type": "markdown",
   "metadata": {},
   "source": [
    "RNN"
   ]
  },
  {
   "cell_type": "code",
   "execution_count": 37,
   "metadata": {},
   "outputs": [
    {
     "name": "stdout",
     "output_type": "stream",
     "text": [
      "Model: \"functional_3\"\n",
      "__________________________________________________________________________________________________\n",
      "Layer (type)                    Output Shape         Param #     Connected to                     \n",
      "==================================================================================================\n",
      "input_word_ids (InputLayer)     [(None, 200)]        0                                            \n",
      "__________________________________________________________________________________________________\n",
      "input_mask (InputLayer)         [(None, 200)]        0                                            \n",
      "__________________________________________________________________________________________________\n",
      "segment_ids (InputLayer)        [(None, 200)]        0                                            \n",
      "__________________________________________________________________________________________________\n",
      "tf_bert_model_1 (TFBertModel)   ((None, 200, 768), ( 109850880   input_word_ids[0][0]             \n",
      "                                                                 input_mask[0][0]                 \n",
      "                                                                 segment_ids[0][0]                \n",
      "__________________________________________________________________________________________________\n",
      "lstm_1 (LSTM)                   (None, 8)            24864       tf_bert_model_1[0][0]            \n",
      "__________________________________________________________________________________________________\n",
      "dropout_75 (Dropout)            (None, 8)            0           lstm_1[0][0]                     \n",
      "__________________________________________________________________________________________________\n",
      "dense_1 (Dense)                 (None, 1)            9           dropout_75[0][0]                 \n",
      "==================================================================================================\n",
      "Total params: 109,875,753\n",
      "Trainable params: 24,873\n",
      "Non-trainable params: 109,850,880\n",
      "__________________________________________________________________________________________________\n"
     ]
    }
   ],
   "source": [
    "RNN = create_model_RNN(max_length_sequence = max_length_sequence, lstm_units = 8, l2_kernel = 0, l2_recurrent = 0, l2_activity = 0, dropout = 0.5)\n",
    "RNN.compile(loss = 'binary_crossentropy', optimizer = 'adam', metrics = ['accuracy']) # Compile model\n",
    "RNN.summary()"
   ]
  },
  {
   "cell_type": "code",
   "execution_count": 38,
   "metadata": {},
   "outputs": [
    {
     "name": "stdout",
     "output_type": "stream",
     "text": [
      "Epoch 1/30\n",
      "73/73 [==============================] - 963s 13s/step - loss: 0.6832 - accuracy: 0.5685\n",
      "Epoch 2/30\n",
      "73/73 [==============================] - 961s 13s/step - loss: 0.6188 - accuracy: 0.6632\n",
      "Epoch 3/30\n",
      "73/73 [==============================] - 986s 14s/step - loss: 0.5828 - accuracy: 0.7034\n",
      "Epoch 4/30\n",
      "73/73 [==============================] - 995s 14s/step - loss: 0.5788 - accuracy: 0.6961\n",
      "Epoch 5/30\n",
      "73/73 [==============================] - 988s 14s/step - loss: 0.5598 - accuracy: 0.7276\n",
      "Epoch 6/30\n",
      "73/73 [==============================] - 978s 13s/step - loss: 0.5368 - accuracy: 0.7298\n",
      "Epoch 7/30\n",
      "73/73 [==============================] - 973s 13s/step - loss: 0.5152 - accuracy: 0.7449\n",
      "Epoch 8/30\n",
      "73/73 [==============================] - 983s 13s/step - loss: 0.5051 - accuracy: 0.7592\n",
      "Epoch 9/30\n",
      "73/73 [==============================] - 975s 13s/step - loss: 0.4855 - accuracy: 0.7713\n",
      "Epoch 10/30\n",
      "73/73 [==============================] - 970s 13s/step - loss: 0.4738 - accuracy: 0.7782\n",
      "Epoch 11/30\n",
      "73/73 [==============================] - 973s 13s/step - loss: 0.4681 - accuracy: 0.7834\n",
      "Epoch 12/30\n",
      "73/73 [==============================] - 978s 13s/step - loss: 0.4647 - accuracy: 0.7825\n",
      "Epoch 13/30\n",
      "73/73 [==============================] - 977s 13s/step - loss: 0.4731 - accuracy: 0.7860\n",
      "Epoch 14/30\n",
      "73/73 [==============================] - 972s 13s/step - loss: 0.4651 - accuracy: 0.7899\n",
      "Epoch 15/30\n",
      "73/73 [==============================] - 977s 13s/step - loss: 0.4456 - accuracy: 0.7977\n",
      "Epoch 16/30\n",
      "73/73 [==============================] - 975s 13s/step - loss: 0.4419 - accuracy: 0.8046\n",
      "Epoch 17/30\n",
      "73/73 [==============================] - 973s 13s/step - loss: 0.4315 - accuracy: 0.8050\n",
      "Epoch 18/30\n",
      "73/73 [==============================] - 971s 13s/step - loss: 0.4245 - accuracy: 0.8054\n",
      "Epoch 19/30\n",
      "73/73 [==============================] - 977s 13s/step - loss: 0.4145 - accuracy: 0.8163\n",
      "Epoch 20/30\n",
      "73/73 [==============================] - 975s 13s/step - loss: 0.4024 - accuracy: 0.8167\n",
      "Epoch 21/30\n",
      "73/73 [==============================] - 971s 13s/step - loss: 0.3954 - accuracy: 0.8314\n",
      "Epoch 22/30\n",
      "73/73 [==============================] - 974s 13s/step - loss: 0.4088 - accuracy: 0.8180\n",
      "Epoch 23/30\n",
      "73/73 [==============================] - 990s 14s/step - loss: 0.3994 - accuracy: 0.8214\n",
      "Epoch 24/30\n",
      "73/73 [==============================] - 975s 13s/step - loss: 0.3979 - accuracy: 0.8240\n",
      "Epoch 25/30\n",
      "73/73 [==============================] - 972s 13s/step - loss: 0.3692 - accuracy: 0.8366\n",
      "Epoch 26/30\n",
      "73/73 [==============================] - 980s 13s/step - loss: 0.3927 - accuracy: 0.8314\n",
      "Epoch 27/30\n",
      "73/73 [==============================] - 972s 13s/step - loss: 0.3754 - accuracy: 0.8353\n",
      "Epoch 28/30\n",
      "73/73 [==============================] - 974s 13s/step - loss: 0.3456 - accuracy: 0.8517\n",
      "Epoch 29/30\n",
      "73/73 [==============================] - 975s 13s/step - loss: 0.3728 - accuracy: 0.8374\n",
      "Epoch 30/30\n",
      "73/73 [==============================] - 977s 13s/step - loss: 0.3573 - accuracy: 0.8439\n",
      "9/9 [==============================] - 75s 8s/step - loss: 0.6316 - accuracy: 0.7403\n",
      "0.6316079497337341 0.74\n"
     ]
    }
   ],
   "source": [
    "RNN.fit([input_ids_tr, input_masks_tr, input_segments_tr], y_tr, epochs = epochs, batch_size = batch_size, shuffle = True) # Fit model\n",
    "loss, acc = RNN.evaluate([input_ids_te, input_masks_te, input_segments_te], y_te) # Evaluate model\n",
    "print(loss, round(acc, 3))\n",
    "RNN.save_weights('../data/Weights/BETO_RNN.h5')"
   ]
  },
  {
   "cell_type": "code",
   "execution_count": null,
   "metadata": {},
   "outputs": [],
   "source": []
  }
 ],
 "metadata": {
  "kernelspec": {
   "display_name": "Python 3",
   "language": "python",
   "name": "python3"
  }
 },
 "nbformat": 4,
 "nbformat_minor": 4
}
