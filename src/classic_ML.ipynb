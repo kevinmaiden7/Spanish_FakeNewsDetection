{
 "cells": [
  {
   "cell_type": "code",
   "execution_count": null,
   "metadata": {},
   "outputs": [],
   "source": [
    "import numpy as np\n",
    "import pandas as pd\n",
    "from sklearn.model_selection import GridSearchCV\n",
    "from sklearn.model_selection import ShuffleSplit\n",
    "from sklearn.model_selection import train_test_split\n",
    "from sklearn.metrics import accuracy_score\n",
    "\n",
    "from data_preprocessing import get_matrix"
   ]
  },
  {
   "cell_type": "code",
   "execution_count": null,
   "metadata": {},
   "outputs": [],
   "source": [
    "def grid_search_cv(model, parameters, dataset, X):\n",
    "    \n",
    "    Y = dataset.label.values\n",
    "    \n",
    "    X_train, X_test, y_train, y_test = train_test_split(X, Y, test_size = 0.2, shuffle = True)\n",
    "    \n",
    "    iterations = 5\n",
    "    index = ShuffleSplit(n_splits = iterations, test_size = 0.2)\n",
    "    \n",
    "    clf = GridSearchCV(model, parameters, cv = index, scoring = 'accuracy')\n",
    "    clf.fit(X_train, y_train)\n",
    "    \n",
    "    best_model = clf.best_params_\n",
    "    best_score_validation = clf.best_score_\n",
    "\n",
    "    Y_pred = clf.predict(X_test)\n",
    "    accuracy = accuracy_score(y_test, Y_pred)\n",
    "    \n",
    "    return best_model, round(best_score_validation, 3), round(accuracy, 3)"
   ]
  },
  {
   "cell_type": "code",
   "execution_count": null,
   "metadata": {},
   "outputs": [],
   "source": [
    "dataset = pd.read_csv('../data/Merged/spanish_dataset.csv')\n",
    "dataset"
   ]
  },
  {
   "cell_type": "code",
   "execution_count": null,
   "metadata": {},
   "outputs": [],
   "source": [
    "from sklearn.ensemble import RandomForestClassifier\n",
    "from sklearn.ensemble import GradientBoostingClassifier\n",
    "from sklearn.svm import SVC\n",
    "from sklearn.neural_network import MLPClassifier"
   ]
  },
  {
   "cell_type": "markdown",
   "metadata": {},
   "source": [
    "#### Step 1"
   ]
  },
  {
   "cell_type": "code",
   "execution_count": null,
   "metadata": {},
   "outputs": [],
   "source": [
    "matrix_1, df = get_matrix(data = dataset, representation = 'BoW', vocabulary_length = 5000, stemming = False, remove_stopwords = False, language = 'spanish')\n",
    "matrix_2, df = get_matrix(data = dataset, representation = 'tf-idf', vocabulary_length = 5000, stemming = False, remove_stopwords = False, language = 'spanish')\n",
    "print(matrix_1.shape)\n",
    "print(matrix_2.shape)"
   ]
  },
  {
   "cell_type": "code",
   "execution_count": null,
   "metadata": {},
   "outputs": [],
   "source": [
    "model_RF = RandomForestClassifier()\n",
    "model_GBT = GradientBoostingClassifier()\n",
    "parameters_RF_GBT = {'n_estimators': [50, 100, 200, 300, 500], \n",
    "                     'max_features': [50, 100, 200, 300]}"
   ]
  },
  {
   "cell_type": "code",
   "execution_count": null,
   "metadata": {},
   "outputs": [],
   "source": [
    "model_SVC = SVC()\n",
    "parameters_SVC = {'kernel': ['linear', 'rbf'],\n",
    "                  'C': [1e3, 1, 0.001],\n",
    "                  'gamma': [0.1, 1]}"
   ]
  },
  {
   "cell_type": "code",
   "execution_count": null,
   "metadata": {},
   "outputs": [],
   "source": [
    "model_MLPC = MLPClassifier(activation = 'relu', solver = 'adam')\n",
    "parameters_MLPC = {'hidden_layer_sizes': [(10),(50),(10,10),(50,50),(10,10,10),(50,50,50)],\n",
    "                   'max_iter': [1000,1500]}"
   ]
  },
  {
   "cell_type": "markdown",
   "metadata": {},
   "source": [
    "matrix_1 = BoW; matrix_2 = tf-idf"
   ]
  },
  {
   "cell_type": "code",
   "execution_count": null,
   "metadata": {},
   "outputs": [],
   "source": [
    "print('RF')\n",
    "print('BoW', grid_search_cv(model_RF, parameters_RF_GBT, df, matrix_1))\n",
    "print('tf-idf', grid_search_cv(model_RF, parameters_RF_GBT, df, matrix_2))\n",
    "print('GBT')\n",
    "print('BoW', grid_search_cv(model_GBT, parameters_RF_GBT, df, matrix_1))\n",
    "print('tf-idf', grid_search_cv(model_GBT, parameters_RF_GBT, df, matrix_2))\n",
    "print('SVC')\n",
    "print('BoW', grid_search_cv(model_SVC, parameters_SVC, df, matrix_1))\n",
    "print('tf-idf', grid_search_cv(model_SVC, parameters_SVC, df, matrix_2))\n",
    "print('MLPC')\n",
    "print('BoW', grid_search_cv(model_MLPC, parameters_MLPC, df, matrix_1))\n",
    "print('tf-idf', grid_search_cv(model_MLPC, parameters_MLPC, df, matrix_2))"
   ]
  },
  {
   "cell_type": "markdown",
   "metadata": {},
   "source": [
    "#### Step 2"
   ]
  },
  {
   "cell_type": "code",
   "execution_count": null,
   "metadata": {},
   "outputs": [],
   "source": [
    "def execute_step_2(model, parameters, representation):\n",
    "    dictionary = [10000, 20000, 30000, 40000]\n",
    "    stemming = [False, True]\n",
    "    stop_words = [False, True]\n",
    "    for i in range(np.size(dictionary)):\n",
    "        for j in range(2):\n",
    "            for k in range(2):\n",
    "                matrix, df = get_matrix(dataset, representation = representation, \n",
    "                                        vocabulary_length = dictionary[i], stemming = stemming[j], remove_stopwords = stop_words[k],  language = 'spanish')\n",
    "                print(matrix.shape)\n",
    "                best_model, best_score_validation, accuracy = grid_search_cv(model, parameters, df, matrix)\n",
    "                print(dictionary[i], 'Stemming: ' + str(stemming[j]), 'Remove StopWords: ' + str(stop_words[k]), best_score_validation, accuracy)"
   ]
  },
  {
   "cell_type": "code",
   "execution_count": null,
   "metadata": {},
   "outputs": [],
   "source": [
    "# Complete according with the above results\n",
    "parameters_RF = {'n_estimators': [], \n",
    "                     'max_features': []}\n",
    "parameters_GBT = {'n_estimators': [], \n",
    "                     'max_features': []}\n",
    "parameters_SVC = {'kernel': [],\n",
    "                  'C': [],\n",
    "                  'gamma': []}\n",
    "parameters_MLPC = {'hidden_layer_sizes': [],\n",
    "                   'max_iter': []}"
   ]
  },
  {
   "cell_type": "code",
   "execution_count": null,
   "metadata": {},
   "outputs": [],
   "source": [
    "print('RF')\n",
    "#execute_step_2(model_RF, parameters_RF, 'BoW')\n",
    "execute_step_2(model_RF, parameters_RF)\n",
    "print('GBT')\n",
    "execute_step_2(model_GBT, parameters_GBT)\n",
    "print('SVC')\n",
    "execute_step_2(model_SVC, parameters_SVC)\n",
    "print('MLPC')\n",
    "execute_step_2(model_MLPC, parameters_MLPC)"
   ]
  }
 ],
 "metadata": {
  "kernelspec": {
   "display_name": "Python 3",
   "language": "python",
   "name": "python3"
  },
  "language_info": {
   "codemirror_mode": {
    "name": "ipython",
    "version": 3
   },
   "file_extension": ".py",
   "mimetype": "text/x-python",
   "name": "python",
   "nbconvert_exporter": "python",
   "pygments_lexer": "ipython3",
   "version": "3.7.4"
  }
 },
 "nbformat": 4,
 "nbformat_minor": 2
}
